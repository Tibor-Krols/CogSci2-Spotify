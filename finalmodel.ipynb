{
 "cells": [
  {
   "cell_type": "markdown",
   "id": "4851fdd4",
   "metadata": {},
   "source": [
    "# Imports"
   ]
  },
  {
   "cell_type": "code",
   "execution_count": 2,
   "id": "9ef8168e",
   "metadata": {},
   "outputs": [
    {
     "name": "stderr",
     "output_type": "stream",
     "text": [
      "/Users/yananikolova/opt/anaconda3/lib/python3.9/site-packages/statsmodels/tsa/base/tsa_model.py:7: FutureWarning: pandas.Int64Index is deprecated and will be removed from pandas in a future version. Use pandas.Index with the appropriate dtype instead.\n",
      "  from pandas import (to_datetime, Int64Index, DatetimeIndex, Period,\n",
      "/Users/yananikolova/opt/anaconda3/lib/python3.9/site-packages/statsmodels/tsa/base/tsa_model.py:7: FutureWarning: pandas.Float64Index is deprecated and will be removed from pandas in a future version. Use pandas.Index with the appropriate dtype instead.\n",
      "  from pandas import (to_datetime, Int64Index, DatetimeIndex, Period,\n"
     ]
    }
   ],
   "source": [
    "import numpy as np\n",
    "import pandas as pd\n",
    "from sklearn.linear_model import LinearRegression, LogisticRegression\n",
    "# from sklearn.linear_model import LogisticRegression\n",
    "\n",
    "import seaborn as sn\n",
    "from sklearn.ensemble import RandomForestRegressor\n",
    "from sklearn.neural_network import MLPRegressor\n",
    "from sklearn.preprocessing import MinMaxScaler\n",
    "import nltk\n",
    "from sklearn.metrics import roc_auc_score, f1_score\n",
    "import seaborn as sn\n",
    "import matplotlib.pyplot as plt\n",
    "import statsmodels.api as sm\n",
    "from sklearn.svm import SVR\n",
    "from sklearn.model_selection import cross_val_score, GridSearchCV\n"
   ]
  },
  {
   "cell_type": "markdown",
   "id": "eb1896da",
   "metadata": {},
   "source": [
    "# Reading files and making it regressionable"
   ]
  },
  {
   "cell_type": "code",
   "execution_count": 3,
   "id": "c9e51902",
   "metadata": {},
   "outputs": [],
   "source": [
    "df_train = pd.read_csv('merged_cleaned_sentiment_train.csv')\n",
    "df_val = pd.read_csv('merged_cleaned_sentiment_validation.csv')"
   ]
  },
  {
   "cell_type": "code",
   "execution_count": 4,
   "id": "bf147c4d",
   "metadata": {},
   "outputs": [],
   "source": [
    "df_train = pd.concat([df_train, pd.read_csv('lyrics_features_train.csv')], axis=1).drop(['pos','neg','neu', 'compound'], axis = 1)\n",
    "df_val = pd.concat([df_val, pd.read_csv('lyrics_features_val.csv')], axis=1).drop(['pos','neg','neu', 'compound'], axis = 1)"
   ]
  },
  {
   "cell_type": "code",
   "execution_count": 5,
   "id": "0a7a358f",
   "metadata": {},
   "outputs": [],
   "source": [
    "df_train = pd.concat([df_train, pd.get_dummies(df_train.key, drop_first = True, prefix = 'key')], axis=1)\n",
    "df_val = pd.concat([df_val, pd.get_dummies(df_val.key, drop_first = True, prefix = 'key')], axis=1)"
   ]
  },
  {
   "cell_type": "code",
   "execution_count": 6,
   "id": "512cfc24",
   "metadata": {
    "scrolled": true
   },
   "outputs": [],
   "source": [
    "df_train = df_train.drop(['Unnamed: 0', 'artist', 'trackname', 'id', 'time_signature', 'lyrics', 'lyrics_cleaned'], axis=1)\n",
    "df_val = df_val.drop(['Unnamed: 0', 'artist', 'trackname', 'id', 'time_signature', 'lyrics', 'lyrics_cleaned'], axis=1)"
   ]
  },
  {
   "cell_type": "code",
   "execution_count": 7,
   "id": "9f979108",
   "metadata": {},
   "outputs": [],
   "source": [
    "df_train = df_train.dropna()\n",
    "df_val = df_val.dropna()"
   ]
  },
  {
   "cell_type": "code",
   "execution_count": 8,
   "id": "bd5f2093",
   "metadata": {},
   "outputs": [],
   "source": [
    "# function to get cross validation scores\n",
    "def get_cv_scores(model, X_train, y_train):\n",
    "    scores = cross_val_score(model,\n",
    "                             X_train,\n",
    "                             y_train,\n",
    "                             cv=5,\n",
    "                             scoring='r2')\n",
    "    \n",
    "    print('CV Mean: ', np.mean(scores))\n",
    "    print('STD: ', np.std(scores))"
   ]
  },
  {
   "cell_type": "markdown",
   "id": "275770ba",
   "metadata": {},
   "source": [
    "# Splitting the data into X and y"
   ]
  },
  {
   "cell_type": "code",
   "execution_count": 9,
   "id": "cc2128c9",
   "metadata": {},
   "outputs": [],
   "source": [
    "#     train set\n",
    "X_train = df_train.drop(['y_valence', 'y_arousal'], axis=1).values\n",
    "y_train_valence = df_train.y_valence.values \n",
    "y_train_arousal = df_train.y_arousal.values\n",
    "    \n",
    "#     validation set\n",
    "X_val = df_val.drop(['y_valence', 'y_arousal'], axis=1).values\n",
    "y_val_valence = df_val.y_valence.values \n",
    "y_val_arousal = df_val.y_arousal.values "
   ]
  },
  {
   "cell_type": "code",
   "execution_count": 10,
   "id": "a867712a",
   "metadata": {},
   "outputs": [],
   "source": [
    "def do_regression(X, y_1, y_2, X_validation, y_1_validation, y_2_validation):\n",
    "    # find optimal alpha with grid search\n",
    "    #alpha = [0.001, 0.01, 0.1, 1, 10, 100, 1000]\n",
    "    \n",
    "    param_grid = {'fit_intercept':[True,False], 'normalize':[True,False], 'copy_X':[True, False]}\n",
    "    \n",
    "    # Train model\n",
    "    lr_val = LinearRegression().fit(X, y_1)\n",
    "    lr_arou = LinearRegression().fit(X, y_2)\n",
    "    \n",
    "    # get cross val scores\n",
    "    get_cv_scores(lr_val, X, y_1)\n",
    "    get_cv_scores(lr_arou, X, y_2)\n",
    "    \n",
    "    r2_validation_valence = lr_val.score(X_validation, y_1_validation)\n",
    "    r2_validation_arousal = lr_arou.score(X_validation, y_2_validation)\n",
    "    \n",
    "    print()\n",
    "    print(f'Validation score for Valence: {r2_validation_valence}')\n",
    "    print(f'Validation score for Arousal: {r2_validation_arousal}')\n",
    "\n",
    "    # Grid search\n",
    "    clf_vale = GridSearchCV(lr_val, \n",
    "                            param_grid, \n",
    "                            scoring='r2', \n",
    "                            verbose=1, \n",
    "                            n_jobs=-1,\n",
    "                            return_train_score=True)\n",
    "    \n",
    "    clf_arou = GridSearchCV(lr_arou, \n",
    "                            param_grid, \n",
    "                            scoring='r2', \n",
    "                            verbose=1, \n",
    "                            n_jobs=-1,\n",
    "                            return_train_score=True)\n",
    "\n",
    "    # Print best results on training data    \n",
    "    clf_vale.fit(X, y_1)\n",
    "    clf_arou.fit(X, y_2)\n",
    "    \n",
    "    # Print best results on training data\n",
    "    # add new lines to separate rows\n",
    "    print()\n",
    "    print(\"Best parameter for Valence (CV score=%0.3f):\" % clf_vale.best_score_)\n",
    "    print(clf_vale.best_params_)\n",
    "    \n",
    "    print()\n",
    "    print(\"Best parameter for Arousal (CV score=%0.3f):\" % clf_arou.best_score_)\n",
    "    print(clf_arou.best_params_)\n",
    "    \n",
    "    return clf_vale.best_params_, clf_arou.best_params_"
   ]
  },
  {
   "cell_type": "code",
   "execution_count": 11,
   "id": "e211ff2b",
   "metadata": {},
   "outputs": [],
   "source": [
    "def do_forest_regression(X, y_1, y_2, X_validation, y_1_validation, y_2_validation):\n",
    "    \n",
    "    # Train model\n",
    "    rf_val = RandomForestRegressor(random_state=0).fit(X, y_1)\n",
    "    rf_arou = RandomForestRegressor(random_state=0).fit(X, y_2)\n",
    "    \n",
    "    # get cross val scores\n",
    "    get_cv_scores(rf_val, X, y_1)\n",
    "    get_cv_scores(rf_arou, X, y_2)\n",
    "    \n",
    "    r2_validation_valence = rf_val.score(X_validation, y_1_validation)\n",
    "    r2_validation_arousal = rf_arou.score(X_validation, y_2_validation)\n",
    "    \n",
    "    param_grid = { \n",
    "    'n_estimators': [100, 500],\n",
    "    'max_features': ['auto'], #, 'sqrt', 'log2'\n",
    "    'max_depth' : [5,10]\n",
    "    #'criterion' :['gini', 'entropy']\n",
    "    }\n",
    "    \n",
    "    print()\n",
    "    print(f'Validation score for Valence: {r2_validation_valence}')\n",
    "    print(f'Validation score for Arousal: {r2_validation_arousal}')\n",
    "\n",
    "    # Grid search\n",
    "    clf_vale = GridSearchCV(rf_val, \n",
    "                            param_grid, \n",
    "                            scoring='r2', \n",
    "                            verbose=1, \n",
    "                            n_jobs=-1,\n",
    "                            return_train_score=True)\n",
    "    \n",
    "    clf_arou = GridSearchCV(rf_arou, \n",
    "                            param_grid, \n",
    "                            scoring='r2', \n",
    "                            verbose=1, \n",
    "                            n_jobs=-1,\n",
    "                            return_train_score=True)\n",
    "\n",
    "    # Print best results on training data    \n",
    "    clf_vale.fit(X, y_1)\n",
    "    clf_arou.fit(X, y_2)\n",
    "    \n",
    "    # Print best results on training data\n",
    "    # add new lines to separate rows\n",
    "    print()\n",
    "    print(\"Best parameter for Valence (CV score=%0.3f):\" % clf_vale.best_score_)\n",
    "    print(clf_vale.best_params_)\n",
    "    \n",
    "    print()\n",
    "    print(\"Best parameter for Arousal (CV score=%0.3f):\" % clf_arou.best_score_)\n",
    "    print(clf_arou.best_params_)\n",
    "    \n",
    "    return clf_vale.best_params_, clf_arou.best_params_"
   ]
  },
  {
   "cell_type": "code",
   "execution_count": 12,
   "id": "57838728",
   "metadata": {},
   "outputs": [],
   "source": [
    "def do_svr(X, y_1, y_2, X_validation, y_1_validation, y_2_validation):\n",
    "\n",
    "    # Train model\n",
    "    svr_val = SVR().fit(X, y_1)\n",
    "    svr_arou = SVR().fit(X, y_2)\n",
    "    \n",
    "    param_grid = {'kernel' : ('linear', 'poly', 'rbf', 'sigmoid'),\n",
    "                  'C' : [1,5,10],\n",
    "                  'degree' : [3,8],\n",
    "                  'coef0' : [0.01,10,0.5],\n",
    "                  'gamma' : ('auto','scale')\n",
    "                 }\n",
    "\n",
    "    # get cross val scores\n",
    "    get_cv_scores(svr_val, X, y_1)\n",
    "    get_cv_scores(svr_arou, X, y_2)\n",
    "    \n",
    "    r2_validation_valence = svr_val.score(X_validation, y_1_validation)\n",
    "    r2_validation_arousal = svr_arou.score(X_validation, y_2_validation)\n",
    "    \n",
    "    print()\n",
    "    print(f'Validation score for Valence: {r2_validation_valence}')\n",
    "    print(f'Validation score for Arousal: {r2_validation_arousal}')\n",
    "\n",
    "    # Grid search\n",
    "    clf_vale = GridSearchCV(svr_val, \n",
    "                            param_grid, \n",
    "                            scoring='r2', \n",
    "                            verbose=1, \n",
    "                            n_jobs=-1,\n",
    "                            return_train_score=True)\n",
    "    \n",
    "    clf_arou = GridSearchCV(svr_arou, \n",
    "                            param_grid, \n",
    "                            scoring='r2', \n",
    "                            verbose=1, \n",
    "                            n_jobs=-1,\n",
    "                            return_train_score=True)\n",
    "\n",
    "    # Print best results on training data    \n",
    "    clf_vale.fit(X, y_1)\n",
    "    clf_arou.fit(X, y_2)\n",
    "    \n",
    "    # Print best results on training data\n",
    "    # add new lines to separate rows\n",
    "    print()\n",
    "    print(\"Best parameter for Valence (CV score=%0.3f):\" % clf_vale.best_score_)\n",
    "    print(clf_vale.best_params_)\n",
    "    \n",
    "    print()\n",
    "    print(\"Best parameter for Arousal (CV score=%0.3f):\" % clf_arou.best_score_)\n",
    "    print(clf_arou.best_params_)\n",
    "    \n",
    "    return clf_vale.best_params_, clf_arou.best_params_"
   ]
  },
  {
   "cell_type": "code",
   "execution_count": 13,
   "id": "467c67c7",
   "metadata": {},
   "outputs": [],
   "source": [
    "def do_mlp(X, y_1, y_2, X_validation, y_1_validation, y_2_validation):\n",
    "\n",
    "    # Normalization\n",
    "    scaler = MinMaxScaler()\n",
    "    X = scaler.fit_transform(X)\n",
    "    X_validation = scaler.fit_transform(X_validation)\n",
    "\n",
    "    # Train model\n",
    "    mlp_val = MLPRegressor(random_state = 2).fit(X, y_1)\n",
    "    mlp_arou = MLPRegressor(random_state = 2).fit(X, y_2)\n",
    "    \n",
    "    param_grid = {'hidden_layer_sizes':[(5), (10), (15), (5,5), (10,10), (15,15), (5,5,5), (10,10,10), (15,15,15)], \n",
    "    'max_iter':[500, 1000, 2000, 2500]}\n",
    "\n",
    "    # get cross val scores\n",
    "    get_cv_scores(mlp_val, X, y_1)\n",
    "    get_cv_scores(mlp_arou, X, y_2)\n",
    "    \n",
    "    r2_validation_valence = mlp_val.score(X_validation, y_1_validation)\n",
    "    r2_validation_arousal = mlp_arou.score(X_validation, y_2_validation)\n",
    "    \n",
    "    print()\n",
    "    print(f'Validation score for Valence: {r2_validation_valence}')\n",
    "    print(f'Validation score for Arousal: {r2_validation_arousal}')\n",
    "\n",
    "    # Grid search\n",
    "    clf_vale = GridSearchCV(mlp_val, \n",
    "                            param_grid, \n",
    "                            scoring='r2', \n",
    "                            verbose=1, \n",
    "                            n_jobs=-1,\n",
    "                            return_train_score=True)\n",
    "    \n",
    "    clf_arou = GridSearchCV(mlp_arou, \n",
    "                            param_grid, \n",
    "                            scoring='r2', \n",
    "                            verbose=1, \n",
    "                            n_jobs=-1,\n",
    "                            return_train_score=True)\n",
    "\n",
    "    # Print best results on training data    \n",
    "    clf_vale.fit(X, y_1)\n",
    "    clf_arou.fit(X, y_2)\n",
    "    \n",
    "    # Print best results on training data\n",
    "    # add new lines to separate rows\n",
    "    print()\n",
    "    print(\"Best parameter for Valence (CV score=%0.3f):\" % clf_vale.best_score_)\n",
    "    print(clf_vale.best_params_)\n",
    "    \n",
    "    print()\n",
    "    print(\"Best parameter for Arousal (CV score=%0.3f):\" % clf_arou.best_score_)\n",
    "    print(clf_arou.best_params_)\n",
    "    \n",
    "    return clf_vale.best_params_, clf_arou.best_params_"
   ]
  },
  {
   "cell_type": "code",
   "execution_count": 16,
   "id": "14a6a3a6",
   "metadata": {},
   "outputs": [
    {
     "ename": "KeyboardInterrupt",
     "evalue": "",
     "output_type": "error",
     "traceback": [
      "\u001b[0;31m---------------------------------------------------------------------------\u001b[0m",
      "\u001b[0;31mKeyboardInterrupt\u001b[0m                         Traceback (most recent call last)",
      "\u001b[1;32m/Users/yananikolova/Documents/GitHub/CogSci2-Spotify/finalmodel.ipynb Cell 16'\u001b[0m in \u001b[0;36m<cell line: 1>\u001b[0;34m()\u001b[0m\n\u001b[0;32m----> <a href='vscode-notebook-cell:/Users/yananikolova/Documents/GitHub/CogSci2-Spotify/finalmodel.ipynb#ch0000014?line=0'>1</a>\u001b[0m do_forest_regression(X_train, y_train_valence, y_train_arousal, X_val, y_val_valence, y_val_arousal)\n",
      "\u001b[1;32m/Users/yananikolova/Documents/GitHub/CogSci2-Spotify/finalmodel.ipynb Cell 13'\u001b[0m in \u001b[0;36mdo_forest_regression\u001b[0;34m(X, y_1, y_2, X_validation, y_1_validation, y_2_validation)\u001b[0m\n\u001b[1;32m      <a href='vscode-notebook-cell:/Users/yananikolova/Documents/GitHub/CogSci2-Spotify/finalmodel.ipynb#ch0000012?line=4'>5</a>\u001b[0m rf_arou \u001b[39m=\u001b[39m RandomForestRegressor(random_state\u001b[39m=\u001b[39m\u001b[39m0\u001b[39m)\u001b[39m.\u001b[39mfit(X, y_2)\n\u001b[1;32m      <a href='vscode-notebook-cell:/Users/yananikolova/Documents/GitHub/CogSci2-Spotify/finalmodel.ipynb#ch0000012?line=6'>7</a>\u001b[0m \u001b[39m# get cross val scores\u001b[39;00m\n\u001b[0;32m----> <a href='vscode-notebook-cell:/Users/yananikolova/Documents/GitHub/CogSci2-Spotify/finalmodel.ipynb#ch0000012?line=7'>8</a>\u001b[0m get_cv_scores(rf_val, X, y_1)\n\u001b[1;32m      <a href='vscode-notebook-cell:/Users/yananikolova/Documents/GitHub/CogSci2-Spotify/finalmodel.ipynb#ch0000012?line=8'>9</a>\u001b[0m get_cv_scores(rf_arou, X, y_2)\n\u001b[1;32m     <a href='vscode-notebook-cell:/Users/yananikolova/Documents/GitHub/CogSci2-Spotify/finalmodel.ipynb#ch0000012?line=10'>11</a>\u001b[0m r2_validation_valence \u001b[39m=\u001b[39m rf_val\u001b[39m.\u001b[39mscore(X_validation, y_1_validation)\n",
      "\u001b[1;32m/Users/yananikolova/Documents/GitHub/CogSci2-Spotify/finalmodel.ipynb Cell 9'\u001b[0m in \u001b[0;36mget_cv_scores\u001b[0;34m(model, X_train, y_train)\u001b[0m\n\u001b[1;32m      <a href='vscode-notebook-cell:/Users/yananikolova/Documents/GitHub/CogSci2-Spotify/finalmodel.ipynb#ch0000008?line=1'>2</a>\u001b[0m \u001b[39mdef\u001b[39;00m \u001b[39mget_cv_scores\u001b[39m(model, X_train, y_train):\n\u001b[0;32m----> <a href='vscode-notebook-cell:/Users/yananikolova/Documents/GitHub/CogSci2-Spotify/finalmodel.ipynb#ch0000008?line=2'>3</a>\u001b[0m     scores \u001b[39m=\u001b[39m cross_val_score(model,\n\u001b[1;32m      <a href='vscode-notebook-cell:/Users/yananikolova/Documents/GitHub/CogSci2-Spotify/finalmodel.ipynb#ch0000008?line=3'>4</a>\u001b[0m                              X_train,\n\u001b[1;32m      <a href='vscode-notebook-cell:/Users/yananikolova/Documents/GitHub/CogSci2-Spotify/finalmodel.ipynb#ch0000008?line=4'>5</a>\u001b[0m                              y_train,\n\u001b[1;32m      <a href='vscode-notebook-cell:/Users/yananikolova/Documents/GitHub/CogSci2-Spotify/finalmodel.ipynb#ch0000008?line=5'>6</a>\u001b[0m                              cv\u001b[39m=\u001b[39;49m\u001b[39m5\u001b[39;49m,\n\u001b[1;32m      <a href='vscode-notebook-cell:/Users/yananikolova/Documents/GitHub/CogSci2-Spotify/finalmodel.ipynb#ch0000008?line=6'>7</a>\u001b[0m                              scoring\u001b[39m=\u001b[39;49m\u001b[39m'\u001b[39;49m\u001b[39mr2\u001b[39;49m\u001b[39m'\u001b[39;49m)\n\u001b[1;32m      <a href='vscode-notebook-cell:/Users/yananikolova/Documents/GitHub/CogSci2-Spotify/finalmodel.ipynb#ch0000008?line=8'>9</a>\u001b[0m     \u001b[39mprint\u001b[39m(\u001b[39m'\u001b[39m\u001b[39mCV Mean: \u001b[39m\u001b[39m'\u001b[39m, np\u001b[39m.\u001b[39mmean(scores))\n\u001b[1;32m     <a href='vscode-notebook-cell:/Users/yananikolova/Documents/GitHub/CogSci2-Spotify/finalmodel.ipynb#ch0000008?line=9'>10</a>\u001b[0m     \u001b[39mprint\u001b[39m(\u001b[39m'\u001b[39m\u001b[39mSTD: \u001b[39m\u001b[39m'\u001b[39m, np\u001b[39m.\u001b[39mstd(scores))\n",
      "File \u001b[0;32m~/opt/anaconda3/lib/python3.9/site-packages/sklearn/model_selection/_validation.py:509\u001b[0m, in \u001b[0;36mcross_val_score\u001b[0;34m(estimator, X, y, groups, scoring, cv, n_jobs, verbose, fit_params, pre_dispatch, error_score)\u001b[0m\n\u001b[1;32m    <a href='file:///Users/yananikolova/opt/anaconda3/lib/python3.9/site-packages/sklearn/model_selection/_validation.py?line=505'>506</a>\u001b[0m \u001b[39m# To ensure multimetric format is not supported\u001b[39;00m\n\u001b[1;32m    <a href='file:///Users/yananikolova/opt/anaconda3/lib/python3.9/site-packages/sklearn/model_selection/_validation.py?line=506'>507</a>\u001b[0m scorer \u001b[39m=\u001b[39m check_scoring(estimator, scoring\u001b[39m=\u001b[39mscoring)\n\u001b[0;32m--> <a href='file:///Users/yananikolova/opt/anaconda3/lib/python3.9/site-packages/sklearn/model_selection/_validation.py?line=508'>509</a>\u001b[0m cv_results \u001b[39m=\u001b[39m cross_validate(\n\u001b[1;32m    <a href='file:///Users/yananikolova/opt/anaconda3/lib/python3.9/site-packages/sklearn/model_selection/_validation.py?line=509'>510</a>\u001b[0m     estimator\u001b[39m=\u001b[39;49mestimator,\n\u001b[1;32m    <a href='file:///Users/yananikolova/opt/anaconda3/lib/python3.9/site-packages/sklearn/model_selection/_validation.py?line=510'>511</a>\u001b[0m     X\u001b[39m=\u001b[39;49mX,\n\u001b[1;32m    <a href='file:///Users/yananikolova/opt/anaconda3/lib/python3.9/site-packages/sklearn/model_selection/_validation.py?line=511'>512</a>\u001b[0m     y\u001b[39m=\u001b[39;49my,\n\u001b[1;32m    <a href='file:///Users/yananikolova/opt/anaconda3/lib/python3.9/site-packages/sklearn/model_selection/_validation.py?line=512'>513</a>\u001b[0m     groups\u001b[39m=\u001b[39;49mgroups,\n\u001b[1;32m    <a href='file:///Users/yananikolova/opt/anaconda3/lib/python3.9/site-packages/sklearn/model_selection/_validation.py?line=513'>514</a>\u001b[0m     scoring\u001b[39m=\u001b[39;49m{\u001b[39m\"\u001b[39;49m\u001b[39mscore\u001b[39;49m\u001b[39m\"\u001b[39;49m: scorer},\n\u001b[1;32m    <a href='file:///Users/yananikolova/opt/anaconda3/lib/python3.9/site-packages/sklearn/model_selection/_validation.py?line=514'>515</a>\u001b[0m     cv\u001b[39m=\u001b[39;49mcv,\n\u001b[1;32m    <a href='file:///Users/yananikolova/opt/anaconda3/lib/python3.9/site-packages/sklearn/model_selection/_validation.py?line=515'>516</a>\u001b[0m     n_jobs\u001b[39m=\u001b[39;49mn_jobs,\n\u001b[1;32m    <a href='file:///Users/yananikolova/opt/anaconda3/lib/python3.9/site-packages/sklearn/model_selection/_validation.py?line=516'>517</a>\u001b[0m     verbose\u001b[39m=\u001b[39;49mverbose,\n\u001b[1;32m    <a href='file:///Users/yananikolova/opt/anaconda3/lib/python3.9/site-packages/sklearn/model_selection/_validation.py?line=517'>518</a>\u001b[0m     fit_params\u001b[39m=\u001b[39;49mfit_params,\n\u001b[1;32m    <a href='file:///Users/yananikolova/opt/anaconda3/lib/python3.9/site-packages/sklearn/model_selection/_validation.py?line=518'>519</a>\u001b[0m     pre_dispatch\u001b[39m=\u001b[39;49mpre_dispatch,\n\u001b[1;32m    <a href='file:///Users/yananikolova/opt/anaconda3/lib/python3.9/site-packages/sklearn/model_selection/_validation.py?line=519'>520</a>\u001b[0m     error_score\u001b[39m=\u001b[39;49merror_score,\n\u001b[1;32m    <a href='file:///Users/yananikolova/opt/anaconda3/lib/python3.9/site-packages/sklearn/model_selection/_validation.py?line=520'>521</a>\u001b[0m )\n\u001b[1;32m    <a href='file:///Users/yananikolova/opt/anaconda3/lib/python3.9/site-packages/sklearn/model_selection/_validation.py?line=521'>522</a>\u001b[0m \u001b[39mreturn\u001b[39;00m cv_results[\u001b[39m\"\u001b[39m\u001b[39mtest_score\u001b[39m\u001b[39m\"\u001b[39m]\n",
      "File \u001b[0;32m~/opt/anaconda3/lib/python3.9/site-packages/sklearn/model_selection/_validation.py:267\u001b[0m, in \u001b[0;36mcross_validate\u001b[0;34m(estimator, X, y, groups, scoring, cv, n_jobs, verbose, fit_params, pre_dispatch, return_train_score, return_estimator, error_score)\u001b[0m\n\u001b[1;32m    <a href='file:///Users/yananikolova/opt/anaconda3/lib/python3.9/site-packages/sklearn/model_selection/_validation.py?line=263'>264</a>\u001b[0m \u001b[39m# We clone the estimator to make sure that all the folds are\u001b[39;00m\n\u001b[1;32m    <a href='file:///Users/yananikolova/opt/anaconda3/lib/python3.9/site-packages/sklearn/model_selection/_validation.py?line=264'>265</a>\u001b[0m \u001b[39m# independent, and that it is pickle-able.\u001b[39;00m\n\u001b[1;32m    <a href='file:///Users/yananikolova/opt/anaconda3/lib/python3.9/site-packages/sklearn/model_selection/_validation.py?line=265'>266</a>\u001b[0m parallel \u001b[39m=\u001b[39m Parallel(n_jobs\u001b[39m=\u001b[39mn_jobs, verbose\u001b[39m=\u001b[39mverbose, pre_dispatch\u001b[39m=\u001b[39mpre_dispatch)\n\u001b[0;32m--> <a href='file:///Users/yananikolova/opt/anaconda3/lib/python3.9/site-packages/sklearn/model_selection/_validation.py?line=266'>267</a>\u001b[0m results \u001b[39m=\u001b[39m parallel(\n\u001b[1;32m    <a href='file:///Users/yananikolova/opt/anaconda3/lib/python3.9/site-packages/sklearn/model_selection/_validation.py?line=267'>268</a>\u001b[0m     delayed(_fit_and_score)(\n\u001b[1;32m    <a href='file:///Users/yananikolova/opt/anaconda3/lib/python3.9/site-packages/sklearn/model_selection/_validation.py?line=268'>269</a>\u001b[0m         clone(estimator),\n\u001b[1;32m    <a href='file:///Users/yananikolova/opt/anaconda3/lib/python3.9/site-packages/sklearn/model_selection/_validation.py?line=269'>270</a>\u001b[0m         X,\n\u001b[1;32m    <a href='file:///Users/yananikolova/opt/anaconda3/lib/python3.9/site-packages/sklearn/model_selection/_validation.py?line=270'>271</a>\u001b[0m         y,\n\u001b[1;32m    <a href='file:///Users/yananikolova/opt/anaconda3/lib/python3.9/site-packages/sklearn/model_selection/_validation.py?line=271'>272</a>\u001b[0m         scorers,\n\u001b[1;32m    <a href='file:///Users/yananikolova/opt/anaconda3/lib/python3.9/site-packages/sklearn/model_selection/_validation.py?line=272'>273</a>\u001b[0m         train,\n\u001b[1;32m    <a href='file:///Users/yananikolova/opt/anaconda3/lib/python3.9/site-packages/sklearn/model_selection/_validation.py?line=273'>274</a>\u001b[0m         test,\n\u001b[1;32m    <a href='file:///Users/yananikolova/opt/anaconda3/lib/python3.9/site-packages/sklearn/model_selection/_validation.py?line=274'>275</a>\u001b[0m         verbose,\n\u001b[1;32m    <a href='file:///Users/yananikolova/opt/anaconda3/lib/python3.9/site-packages/sklearn/model_selection/_validation.py?line=275'>276</a>\u001b[0m         \u001b[39mNone\u001b[39;49;00m,\n\u001b[1;32m    <a href='file:///Users/yananikolova/opt/anaconda3/lib/python3.9/site-packages/sklearn/model_selection/_validation.py?line=276'>277</a>\u001b[0m         fit_params,\n\u001b[1;32m    <a href='file:///Users/yananikolova/opt/anaconda3/lib/python3.9/site-packages/sklearn/model_selection/_validation.py?line=277'>278</a>\u001b[0m         return_train_score\u001b[39m=\u001b[39;49mreturn_train_score,\n\u001b[1;32m    <a href='file:///Users/yananikolova/opt/anaconda3/lib/python3.9/site-packages/sklearn/model_selection/_validation.py?line=278'>279</a>\u001b[0m         return_times\u001b[39m=\u001b[39;49m\u001b[39mTrue\u001b[39;49;00m,\n\u001b[1;32m    <a href='file:///Users/yananikolova/opt/anaconda3/lib/python3.9/site-packages/sklearn/model_selection/_validation.py?line=279'>280</a>\u001b[0m         return_estimator\u001b[39m=\u001b[39;49mreturn_estimator,\n\u001b[1;32m    <a href='file:///Users/yananikolova/opt/anaconda3/lib/python3.9/site-packages/sklearn/model_selection/_validation.py?line=280'>281</a>\u001b[0m         error_score\u001b[39m=\u001b[39;49merror_score,\n\u001b[1;32m    <a href='file:///Users/yananikolova/opt/anaconda3/lib/python3.9/site-packages/sklearn/model_selection/_validation.py?line=281'>282</a>\u001b[0m     )\n\u001b[1;32m    <a href='file:///Users/yananikolova/opt/anaconda3/lib/python3.9/site-packages/sklearn/model_selection/_validation.py?line=282'>283</a>\u001b[0m     \u001b[39mfor\u001b[39;49;00m train, test \u001b[39min\u001b[39;49;00m cv\u001b[39m.\u001b[39;49msplit(X, y, groups)\n\u001b[1;32m    <a href='file:///Users/yananikolova/opt/anaconda3/lib/python3.9/site-packages/sklearn/model_selection/_validation.py?line=283'>284</a>\u001b[0m )\n\u001b[1;32m    <a href='file:///Users/yananikolova/opt/anaconda3/lib/python3.9/site-packages/sklearn/model_selection/_validation.py?line=285'>286</a>\u001b[0m _warn_about_fit_failures(results, error_score)\n\u001b[1;32m    <a href='file:///Users/yananikolova/opt/anaconda3/lib/python3.9/site-packages/sklearn/model_selection/_validation.py?line=287'>288</a>\u001b[0m \u001b[39m# For callabe scoring, the return type is only know after calling. If the\u001b[39;00m\n\u001b[1;32m    <a href='file:///Users/yananikolova/opt/anaconda3/lib/python3.9/site-packages/sklearn/model_selection/_validation.py?line=288'>289</a>\u001b[0m \u001b[39m# return type is a dictionary, the error scores can now be inserted with\u001b[39;00m\n\u001b[1;32m    <a href='file:///Users/yananikolova/opt/anaconda3/lib/python3.9/site-packages/sklearn/model_selection/_validation.py?line=289'>290</a>\u001b[0m \u001b[39m# the correct key.\u001b[39;00m\n",
      "File \u001b[0;32m~/opt/anaconda3/lib/python3.9/site-packages/joblib/parallel.py:1046\u001b[0m, in \u001b[0;36mParallel.__call__\u001b[0;34m(self, iterable)\u001b[0m\n\u001b[1;32m   <a href='file:///Users/yananikolova/opt/anaconda3/lib/python3.9/site-packages/joblib/parallel.py?line=1042'>1043</a>\u001b[0m \u001b[39mif\u001b[39;00m \u001b[39mself\u001b[39m\u001b[39m.\u001b[39mdispatch_one_batch(iterator):\n\u001b[1;32m   <a href='file:///Users/yananikolova/opt/anaconda3/lib/python3.9/site-packages/joblib/parallel.py?line=1043'>1044</a>\u001b[0m     \u001b[39mself\u001b[39m\u001b[39m.\u001b[39m_iterating \u001b[39m=\u001b[39m \u001b[39mself\u001b[39m\u001b[39m.\u001b[39m_original_iterator \u001b[39mis\u001b[39;00m \u001b[39mnot\u001b[39;00m \u001b[39mNone\u001b[39;00m\n\u001b[0;32m-> <a href='file:///Users/yananikolova/opt/anaconda3/lib/python3.9/site-packages/joblib/parallel.py?line=1045'>1046</a>\u001b[0m \u001b[39mwhile\u001b[39;00m \u001b[39mself\u001b[39;49m\u001b[39m.\u001b[39;49mdispatch_one_batch(iterator):\n\u001b[1;32m   <a href='file:///Users/yananikolova/opt/anaconda3/lib/python3.9/site-packages/joblib/parallel.py?line=1046'>1047</a>\u001b[0m     \u001b[39mpass\u001b[39;00m\n\u001b[1;32m   <a href='file:///Users/yananikolova/opt/anaconda3/lib/python3.9/site-packages/joblib/parallel.py?line=1048'>1049</a>\u001b[0m \u001b[39mif\u001b[39;00m pre_dispatch \u001b[39m==\u001b[39m \u001b[39m\"\u001b[39m\u001b[39mall\u001b[39m\u001b[39m\"\u001b[39m \u001b[39mor\u001b[39;00m n_jobs \u001b[39m==\u001b[39m \u001b[39m1\u001b[39m:\n\u001b[1;32m   <a href='file:///Users/yananikolova/opt/anaconda3/lib/python3.9/site-packages/joblib/parallel.py?line=1049'>1050</a>\u001b[0m     \u001b[39m# The iterable was consumed all at once by the above for loop.\u001b[39;00m\n\u001b[1;32m   <a href='file:///Users/yananikolova/opt/anaconda3/lib/python3.9/site-packages/joblib/parallel.py?line=1050'>1051</a>\u001b[0m     \u001b[39m# No need to wait for async callbacks to trigger to\u001b[39;00m\n\u001b[1;32m   <a href='file:///Users/yananikolova/opt/anaconda3/lib/python3.9/site-packages/joblib/parallel.py?line=1051'>1052</a>\u001b[0m     \u001b[39m# consumption.\u001b[39;00m\n",
      "File \u001b[0;32m~/opt/anaconda3/lib/python3.9/site-packages/joblib/parallel.py:861\u001b[0m, in \u001b[0;36mParallel.dispatch_one_batch\u001b[0;34m(self, iterator)\u001b[0m\n\u001b[1;32m    <a href='file:///Users/yananikolova/opt/anaconda3/lib/python3.9/site-packages/joblib/parallel.py?line=858'>859</a>\u001b[0m     \u001b[39mreturn\u001b[39;00m \u001b[39mFalse\u001b[39;00m\n\u001b[1;32m    <a href='file:///Users/yananikolova/opt/anaconda3/lib/python3.9/site-packages/joblib/parallel.py?line=859'>860</a>\u001b[0m \u001b[39melse\u001b[39;00m:\n\u001b[0;32m--> <a href='file:///Users/yananikolova/opt/anaconda3/lib/python3.9/site-packages/joblib/parallel.py?line=860'>861</a>\u001b[0m     \u001b[39mself\u001b[39;49m\u001b[39m.\u001b[39;49m_dispatch(tasks)\n\u001b[1;32m    <a href='file:///Users/yananikolova/opt/anaconda3/lib/python3.9/site-packages/joblib/parallel.py?line=861'>862</a>\u001b[0m     \u001b[39mreturn\u001b[39;00m \u001b[39mTrue\u001b[39;00m\n",
      "File \u001b[0;32m~/opt/anaconda3/lib/python3.9/site-packages/joblib/parallel.py:779\u001b[0m, in \u001b[0;36mParallel._dispatch\u001b[0;34m(self, batch)\u001b[0m\n\u001b[1;32m    <a href='file:///Users/yananikolova/opt/anaconda3/lib/python3.9/site-packages/joblib/parallel.py?line=776'>777</a>\u001b[0m \u001b[39mwith\u001b[39;00m \u001b[39mself\u001b[39m\u001b[39m.\u001b[39m_lock:\n\u001b[1;32m    <a href='file:///Users/yananikolova/opt/anaconda3/lib/python3.9/site-packages/joblib/parallel.py?line=777'>778</a>\u001b[0m     job_idx \u001b[39m=\u001b[39m \u001b[39mlen\u001b[39m(\u001b[39mself\u001b[39m\u001b[39m.\u001b[39m_jobs)\n\u001b[0;32m--> <a href='file:///Users/yananikolova/opt/anaconda3/lib/python3.9/site-packages/joblib/parallel.py?line=778'>779</a>\u001b[0m     job \u001b[39m=\u001b[39m \u001b[39mself\u001b[39;49m\u001b[39m.\u001b[39;49m_backend\u001b[39m.\u001b[39;49mapply_async(batch, callback\u001b[39m=\u001b[39;49mcb)\n\u001b[1;32m    <a href='file:///Users/yananikolova/opt/anaconda3/lib/python3.9/site-packages/joblib/parallel.py?line=779'>780</a>\u001b[0m     \u001b[39m# A job can complete so quickly than its callback is\u001b[39;00m\n\u001b[1;32m    <a href='file:///Users/yananikolova/opt/anaconda3/lib/python3.9/site-packages/joblib/parallel.py?line=780'>781</a>\u001b[0m     \u001b[39m# called before we get here, causing self._jobs to\u001b[39;00m\n\u001b[1;32m    <a href='file:///Users/yananikolova/opt/anaconda3/lib/python3.9/site-packages/joblib/parallel.py?line=781'>782</a>\u001b[0m     \u001b[39m# grow. To ensure correct results ordering, .insert is\u001b[39;00m\n\u001b[1;32m    <a href='file:///Users/yananikolova/opt/anaconda3/lib/python3.9/site-packages/joblib/parallel.py?line=782'>783</a>\u001b[0m     \u001b[39m# used (rather than .append) in the following line\u001b[39;00m\n\u001b[1;32m    <a href='file:///Users/yananikolova/opt/anaconda3/lib/python3.9/site-packages/joblib/parallel.py?line=783'>784</a>\u001b[0m     \u001b[39mself\u001b[39m\u001b[39m.\u001b[39m_jobs\u001b[39m.\u001b[39minsert(job_idx, job)\n",
      "File \u001b[0;32m~/opt/anaconda3/lib/python3.9/site-packages/joblib/_parallel_backends.py:208\u001b[0m, in \u001b[0;36mSequentialBackend.apply_async\u001b[0;34m(self, func, callback)\u001b[0m\n\u001b[1;32m    <a href='file:///Users/yananikolova/opt/anaconda3/lib/python3.9/site-packages/joblib/_parallel_backends.py?line=205'>206</a>\u001b[0m \u001b[39mdef\u001b[39;00m \u001b[39mapply_async\u001b[39m(\u001b[39mself\u001b[39m, func, callback\u001b[39m=\u001b[39m\u001b[39mNone\u001b[39;00m):\n\u001b[1;32m    <a href='file:///Users/yananikolova/opt/anaconda3/lib/python3.9/site-packages/joblib/_parallel_backends.py?line=206'>207</a>\u001b[0m     \u001b[39m\"\"\"Schedule a func to be run\"\"\"\u001b[39;00m\n\u001b[0;32m--> <a href='file:///Users/yananikolova/opt/anaconda3/lib/python3.9/site-packages/joblib/_parallel_backends.py?line=207'>208</a>\u001b[0m     result \u001b[39m=\u001b[39m ImmediateResult(func)\n\u001b[1;32m    <a href='file:///Users/yananikolova/opt/anaconda3/lib/python3.9/site-packages/joblib/_parallel_backends.py?line=208'>209</a>\u001b[0m     \u001b[39mif\u001b[39;00m callback:\n\u001b[1;32m    <a href='file:///Users/yananikolova/opt/anaconda3/lib/python3.9/site-packages/joblib/_parallel_backends.py?line=209'>210</a>\u001b[0m         callback(result)\n",
      "File \u001b[0;32m~/opt/anaconda3/lib/python3.9/site-packages/joblib/_parallel_backends.py:572\u001b[0m, in \u001b[0;36mImmediateResult.__init__\u001b[0;34m(self, batch)\u001b[0m\n\u001b[1;32m    <a href='file:///Users/yananikolova/opt/anaconda3/lib/python3.9/site-packages/joblib/_parallel_backends.py?line=568'>569</a>\u001b[0m \u001b[39mdef\u001b[39;00m \u001b[39m__init__\u001b[39m(\u001b[39mself\u001b[39m, batch):\n\u001b[1;32m    <a href='file:///Users/yananikolova/opt/anaconda3/lib/python3.9/site-packages/joblib/_parallel_backends.py?line=569'>570</a>\u001b[0m     \u001b[39m# Don't delay the application, to avoid keeping the input\u001b[39;00m\n\u001b[1;32m    <a href='file:///Users/yananikolova/opt/anaconda3/lib/python3.9/site-packages/joblib/_parallel_backends.py?line=570'>571</a>\u001b[0m     \u001b[39m# arguments in memory\u001b[39;00m\n\u001b[0;32m--> <a href='file:///Users/yananikolova/opt/anaconda3/lib/python3.9/site-packages/joblib/_parallel_backends.py?line=571'>572</a>\u001b[0m     \u001b[39mself\u001b[39m\u001b[39m.\u001b[39mresults \u001b[39m=\u001b[39m batch()\n",
      "File \u001b[0;32m~/opt/anaconda3/lib/python3.9/site-packages/joblib/parallel.py:262\u001b[0m, in \u001b[0;36mBatchedCalls.__call__\u001b[0;34m(self)\u001b[0m\n\u001b[1;32m    <a href='file:///Users/yananikolova/opt/anaconda3/lib/python3.9/site-packages/joblib/parallel.py?line=257'>258</a>\u001b[0m \u001b[39mdef\u001b[39;00m \u001b[39m__call__\u001b[39m(\u001b[39mself\u001b[39m):\n\u001b[1;32m    <a href='file:///Users/yananikolova/opt/anaconda3/lib/python3.9/site-packages/joblib/parallel.py?line=258'>259</a>\u001b[0m     \u001b[39m# Set the default nested backend to self._backend but do not set the\u001b[39;00m\n\u001b[1;32m    <a href='file:///Users/yananikolova/opt/anaconda3/lib/python3.9/site-packages/joblib/parallel.py?line=259'>260</a>\u001b[0m     \u001b[39m# change the default number of processes to -1\u001b[39;00m\n\u001b[1;32m    <a href='file:///Users/yananikolova/opt/anaconda3/lib/python3.9/site-packages/joblib/parallel.py?line=260'>261</a>\u001b[0m     \u001b[39mwith\u001b[39;00m parallel_backend(\u001b[39mself\u001b[39m\u001b[39m.\u001b[39m_backend, n_jobs\u001b[39m=\u001b[39m\u001b[39mself\u001b[39m\u001b[39m.\u001b[39m_n_jobs):\n\u001b[0;32m--> <a href='file:///Users/yananikolova/opt/anaconda3/lib/python3.9/site-packages/joblib/parallel.py?line=261'>262</a>\u001b[0m         \u001b[39mreturn\u001b[39;00m [func(\u001b[39m*\u001b[39margs, \u001b[39m*\u001b[39m\u001b[39m*\u001b[39mkwargs)\n\u001b[1;32m    <a href='file:///Users/yananikolova/opt/anaconda3/lib/python3.9/site-packages/joblib/parallel.py?line=262'>263</a>\u001b[0m                 \u001b[39mfor\u001b[39;00m func, args, kwargs \u001b[39min\u001b[39;00m \u001b[39mself\u001b[39m\u001b[39m.\u001b[39mitems]\n",
      "File \u001b[0;32m~/opt/anaconda3/lib/python3.9/site-packages/joblib/parallel.py:262\u001b[0m, in \u001b[0;36m<listcomp>\u001b[0;34m(.0)\u001b[0m\n\u001b[1;32m    <a href='file:///Users/yananikolova/opt/anaconda3/lib/python3.9/site-packages/joblib/parallel.py?line=257'>258</a>\u001b[0m \u001b[39mdef\u001b[39;00m \u001b[39m__call__\u001b[39m(\u001b[39mself\u001b[39m):\n\u001b[1;32m    <a href='file:///Users/yananikolova/opt/anaconda3/lib/python3.9/site-packages/joblib/parallel.py?line=258'>259</a>\u001b[0m     \u001b[39m# Set the default nested backend to self._backend but do not set the\u001b[39;00m\n\u001b[1;32m    <a href='file:///Users/yananikolova/opt/anaconda3/lib/python3.9/site-packages/joblib/parallel.py?line=259'>260</a>\u001b[0m     \u001b[39m# change the default number of processes to -1\u001b[39;00m\n\u001b[1;32m    <a href='file:///Users/yananikolova/opt/anaconda3/lib/python3.9/site-packages/joblib/parallel.py?line=260'>261</a>\u001b[0m     \u001b[39mwith\u001b[39;00m parallel_backend(\u001b[39mself\u001b[39m\u001b[39m.\u001b[39m_backend, n_jobs\u001b[39m=\u001b[39m\u001b[39mself\u001b[39m\u001b[39m.\u001b[39m_n_jobs):\n\u001b[0;32m--> <a href='file:///Users/yananikolova/opt/anaconda3/lib/python3.9/site-packages/joblib/parallel.py?line=261'>262</a>\u001b[0m         \u001b[39mreturn\u001b[39;00m [func(\u001b[39m*\u001b[39;49margs, \u001b[39m*\u001b[39;49m\u001b[39m*\u001b[39;49mkwargs)\n\u001b[1;32m    <a href='file:///Users/yananikolova/opt/anaconda3/lib/python3.9/site-packages/joblib/parallel.py?line=262'>263</a>\u001b[0m                 \u001b[39mfor\u001b[39;00m func, args, kwargs \u001b[39min\u001b[39;00m \u001b[39mself\u001b[39m\u001b[39m.\u001b[39mitems]\n",
      "File \u001b[0;32m~/opt/anaconda3/lib/python3.9/site-packages/sklearn/utils/fixes.py:216\u001b[0m, in \u001b[0;36m_FuncWrapper.__call__\u001b[0;34m(self, *args, **kwargs)\u001b[0m\n\u001b[1;32m    <a href='file:///Users/yananikolova/opt/anaconda3/lib/python3.9/site-packages/sklearn/utils/fixes.py?line=213'>214</a>\u001b[0m \u001b[39mdef\u001b[39;00m \u001b[39m__call__\u001b[39m(\u001b[39mself\u001b[39m, \u001b[39m*\u001b[39margs, \u001b[39m*\u001b[39m\u001b[39m*\u001b[39mkwargs):\n\u001b[1;32m    <a href='file:///Users/yananikolova/opt/anaconda3/lib/python3.9/site-packages/sklearn/utils/fixes.py?line=214'>215</a>\u001b[0m     \u001b[39mwith\u001b[39;00m config_context(\u001b[39m*\u001b[39m\u001b[39m*\u001b[39m\u001b[39mself\u001b[39m\u001b[39m.\u001b[39mconfig):\n\u001b[0;32m--> <a href='file:///Users/yananikolova/opt/anaconda3/lib/python3.9/site-packages/sklearn/utils/fixes.py?line=215'>216</a>\u001b[0m         \u001b[39mreturn\u001b[39;00m \u001b[39mself\u001b[39;49m\u001b[39m.\u001b[39;49mfunction(\u001b[39m*\u001b[39;49margs, \u001b[39m*\u001b[39;49m\u001b[39m*\u001b[39;49mkwargs)\n",
      "File \u001b[0;32m~/opt/anaconda3/lib/python3.9/site-packages/sklearn/model_selection/_validation.py:680\u001b[0m, in \u001b[0;36m_fit_and_score\u001b[0;34m(estimator, X, y, scorer, train, test, verbose, parameters, fit_params, return_train_score, return_parameters, return_n_test_samples, return_times, return_estimator, split_progress, candidate_progress, error_score)\u001b[0m\n\u001b[1;32m    <a href='file:///Users/yananikolova/opt/anaconda3/lib/python3.9/site-packages/sklearn/model_selection/_validation.py?line=677'>678</a>\u001b[0m         estimator\u001b[39m.\u001b[39mfit(X_train, \u001b[39m*\u001b[39m\u001b[39m*\u001b[39mfit_params)\n\u001b[1;32m    <a href='file:///Users/yananikolova/opt/anaconda3/lib/python3.9/site-packages/sklearn/model_selection/_validation.py?line=678'>679</a>\u001b[0m     \u001b[39melse\u001b[39;00m:\n\u001b[0;32m--> <a href='file:///Users/yananikolova/opt/anaconda3/lib/python3.9/site-packages/sklearn/model_selection/_validation.py?line=679'>680</a>\u001b[0m         estimator\u001b[39m.\u001b[39;49mfit(X_train, y_train, \u001b[39m*\u001b[39;49m\u001b[39m*\u001b[39;49mfit_params)\n\u001b[1;32m    <a href='file:///Users/yananikolova/opt/anaconda3/lib/python3.9/site-packages/sklearn/model_selection/_validation.py?line=681'>682</a>\u001b[0m \u001b[39mexcept\u001b[39;00m \u001b[39mException\u001b[39;00m:\n\u001b[1;32m    <a href='file:///Users/yananikolova/opt/anaconda3/lib/python3.9/site-packages/sklearn/model_selection/_validation.py?line=682'>683</a>\u001b[0m     \u001b[39m# Note fit time as time until error\u001b[39;00m\n\u001b[1;32m    <a href='file:///Users/yananikolova/opt/anaconda3/lib/python3.9/site-packages/sklearn/model_selection/_validation.py?line=683'>684</a>\u001b[0m     fit_time \u001b[39m=\u001b[39m time\u001b[39m.\u001b[39mtime() \u001b[39m-\u001b[39m start_time\n",
      "File \u001b[0;32m~/opt/anaconda3/lib/python3.9/site-packages/sklearn/ensemble/_forest.py:450\u001b[0m, in \u001b[0;36mBaseForest.fit\u001b[0;34m(self, X, y, sample_weight)\u001b[0m\n\u001b[1;32m    <a href='file:///Users/yananikolova/opt/anaconda3/lib/python3.9/site-packages/sklearn/ensemble/_forest.py?line=438'>439</a>\u001b[0m trees \u001b[39m=\u001b[39m [\n\u001b[1;32m    <a href='file:///Users/yananikolova/opt/anaconda3/lib/python3.9/site-packages/sklearn/ensemble/_forest.py?line=439'>440</a>\u001b[0m     \u001b[39mself\u001b[39m\u001b[39m.\u001b[39m_make_estimator(append\u001b[39m=\u001b[39m\u001b[39mFalse\u001b[39;00m, random_state\u001b[39m=\u001b[39mrandom_state)\n\u001b[1;32m    <a href='file:///Users/yananikolova/opt/anaconda3/lib/python3.9/site-packages/sklearn/ensemble/_forest.py?line=440'>441</a>\u001b[0m     \u001b[39mfor\u001b[39;00m i \u001b[39min\u001b[39;00m \u001b[39mrange\u001b[39m(n_more_estimators)\n\u001b[1;32m    <a href='file:///Users/yananikolova/opt/anaconda3/lib/python3.9/site-packages/sklearn/ensemble/_forest.py?line=441'>442</a>\u001b[0m ]\n\u001b[1;32m    <a href='file:///Users/yananikolova/opt/anaconda3/lib/python3.9/site-packages/sklearn/ensemble/_forest.py?line=443'>444</a>\u001b[0m \u001b[39m# Parallel loop: we prefer the threading backend as the Cython code\u001b[39;00m\n\u001b[1;32m    <a href='file:///Users/yananikolova/opt/anaconda3/lib/python3.9/site-packages/sklearn/ensemble/_forest.py?line=444'>445</a>\u001b[0m \u001b[39m# for fitting the trees is internally releasing the Python GIL\u001b[39;00m\n\u001b[1;32m    <a href='file:///Users/yananikolova/opt/anaconda3/lib/python3.9/site-packages/sklearn/ensemble/_forest.py?line=445'>446</a>\u001b[0m \u001b[39m# making threading more efficient than multiprocessing in\u001b[39;00m\n\u001b[1;32m    <a href='file:///Users/yananikolova/opt/anaconda3/lib/python3.9/site-packages/sklearn/ensemble/_forest.py?line=446'>447</a>\u001b[0m \u001b[39m# that case. However, for joblib 0.12+ we respect any\u001b[39;00m\n\u001b[1;32m    <a href='file:///Users/yananikolova/opt/anaconda3/lib/python3.9/site-packages/sklearn/ensemble/_forest.py?line=447'>448</a>\u001b[0m \u001b[39m# parallel_backend contexts set at a higher level,\u001b[39;00m\n\u001b[1;32m    <a href='file:///Users/yananikolova/opt/anaconda3/lib/python3.9/site-packages/sklearn/ensemble/_forest.py?line=448'>449</a>\u001b[0m \u001b[39m# since correctness does not rely on using threads.\u001b[39;00m\n\u001b[0;32m--> <a href='file:///Users/yananikolova/opt/anaconda3/lib/python3.9/site-packages/sklearn/ensemble/_forest.py?line=449'>450</a>\u001b[0m trees \u001b[39m=\u001b[39m Parallel(\n\u001b[1;32m    <a href='file:///Users/yananikolova/opt/anaconda3/lib/python3.9/site-packages/sklearn/ensemble/_forest.py?line=450'>451</a>\u001b[0m     n_jobs\u001b[39m=\u001b[39;49m\u001b[39mself\u001b[39;49m\u001b[39m.\u001b[39;49mn_jobs,\n\u001b[1;32m    <a href='file:///Users/yananikolova/opt/anaconda3/lib/python3.9/site-packages/sklearn/ensemble/_forest.py?line=451'>452</a>\u001b[0m     verbose\u001b[39m=\u001b[39;49m\u001b[39mself\u001b[39;49m\u001b[39m.\u001b[39;49mverbose,\n\u001b[1;32m    <a href='file:///Users/yananikolova/opt/anaconda3/lib/python3.9/site-packages/sklearn/ensemble/_forest.py?line=452'>453</a>\u001b[0m     \u001b[39m*\u001b[39;49m\u001b[39m*\u001b[39;49m_joblib_parallel_args(prefer\u001b[39m=\u001b[39;49m\u001b[39m\"\u001b[39;49m\u001b[39mthreads\u001b[39;49m\u001b[39m\"\u001b[39;49m),\n\u001b[1;32m    <a href='file:///Users/yananikolova/opt/anaconda3/lib/python3.9/site-packages/sklearn/ensemble/_forest.py?line=453'>454</a>\u001b[0m )(\n\u001b[1;32m    <a href='file:///Users/yananikolova/opt/anaconda3/lib/python3.9/site-packages/sklearn/ensemble/_forest.py?line=454'>455</a>\u001b[0m     delayed(_parallel_build_trees)(\n\u001b[1;32m    <a href='file:///Users/yananikolova/opt/anaconda3/lib/python3.9/site-packages/sklearn/ensemble/_forest.py?line=455'>456</a>\u001b[0m         t,\n\u001b[1;32m    <a href='file:///Users/yananikolova/opt/anaconda3/lib/python3.9/site-packages/sklearn/ensemble/_forest.py?line=456'>457</a>\u001b[0m         \u001b[39mself\u001b[39;49m,\n\u001b[1;32m    <a href='file:///Users/yananikolova/opt/anaconda3/lib/python3.9/site-packages/sklearn/ensemble/_forest.py?line=457'>458</a>\u001b[0m         X,\n\u001b[1;32m    <a href='file:///Users/yananikolova/opt/anaconda3/lib/python3.9/site-packages/sklearn/ensemble/_forest.py?line=458'>459</a>\u001b[0m         y,\n\u001b[1;32m    <a href='file:///Users/yananikolova/opt/anaconda3/lib/python3.9/site-packages/sklearn/ensemble/_forest.py?line=459'>460</a>\u001b[0m         sample_weight,\n\u001b[1;32m    <a href='file:///Users/yananikolova/opt/anaconda3/lib/python3.9/site-packages/sklearn/ensemble/_forest.py?line=460'>461</a>\u001b[0m         i,\n\u001b[1;32m    <a href='file:///Users/yananikolova/opt/anaconda3/lib/python3.9/site-packages/sklearn/ensemble/_forest.py?line=461'>462</a>\u001b[0m         \u001b[39mlen\u001b[39;49m(trees),\n\u001b[1;32m    <a href='file:///Users/yananikolova/opt/anaconda3/lib/python3.9/site-packages/sklearn/ensemble/_forest.py?line=462'>463</a>\u001b[0m         verbose\u001b[39m=\u001b[39;49m\u001b[39mself\u001b[39;49m\u001b[39m.\u001b[39;49mverbose,\n\u001b[1;32m    <a href='file:///Users/yananikolova/opt/anaconda3/lib/python3.9/site-packages/sklearn/ensemble/_forest.py?line=463'>464</a>\u001b[0m         class_weight\u001b[39m=\u001b[39;49m\u001b[39mself\u001b[39;49m\u001b[39m.\u001b[39;49mclass_weight,\n\u001b[1;32m    <a href='file:///Users/yananikolova/opt/anaconda3/lib/python3.9/site-packages/sklearn/ensemble/_forest.py?line=464'>465</a>\u001b[0m         n_samples_bootstrap\u001b[39m=\u001b[39;49mn_samples_bootstrap,\n\u001b[1;32m    <a href='file:///Users/yananikolova/opt/anaconda3/lib/python3.9/site-packages/sklearn/ensemble/_forest.py?line=465'>466</a>\u001b[0m     )\n\u001b[1;32m    <a href='file:///Users/yananikolova/opt/anaconda3/lib/python3.9/site-packages/sklearn/ensemble/_forest.py?line=466'>467</a>\u001b[0m     \u001b[39mfor\u001b[39;49;00m i, t \u001b[39min\u001b[39;49;00m \u001b[39menumerate\u001b[39;49m(trees)\n\u001b[1;32m    <a href='file:///Users/yananikolova/opt/anaconda3/lib/python3.9/site-packages/sklearn/ensemble/_forest.py?line=467'>468</a>\u001b[0m )\n\u001b[1;32m    <a href='file:///Users/yananikolova/opt/anaconda3/lib/python3.9/site-packages/sklearn/ensemble/_forest.py?line=469'>470</a>\u001b[0m \u001b[39m# Collect newly grown trees\u001b[39;00m\n\u001b[1;32m    <a href='file:///Users/yananikolova/opt/anaconda3/lib/python3.9/site-packages/sklearn/ensemble/_forest.py?line=470'>471</a>\u001b[0m \u001b[39mself\u001b[39m\u001b[39m.\u001b[39mestimators_\u001b[39m.\u001b[39mextend(trees)\n",
      "File \u001b[0;32m~/opt/anaconda3/lib/python3.9/site-packages/joblib/parallel.py:1046\u001b[0m, in \u001b[0;36mParallel.__call__\u001b[0;34m(self, iterable)\u001b[0m\n\u001b[1;32m   <a href='file:///Users/yananikolova/opt/anaconda3/lib/python3.9/site-packages/joblib/parallel.py?line=1042'>1043</a>\u001b[0m \u001b[39mif\u001b[39;00m \u001b[39mself\u001b[39m\u001b[39m.\u001b[39mdispatch_one_batch(iterator):\n\u001b[1;32m   <a href='file:///Users/yananikolova/opt/anaconda3/lib/python3.9/site-packages/joblib/parallel.py?line=1043'>1044</a>\u001b[0m     \u001b[39mself\u001b[39m\u001b[39m.\u001b[39m_iterating \u001b[39m=\u001b[39m \u001b[39mself\u001b[39m\u001b[39m.\u001b[39m_original_iterator \u001b[39mis\u001b[39;00m \u001b[39mnot\u001b[39;00m \u001b[39mNone\u001b[39;00m\n\u001b[0;32m-> <a href='file:///Users/yananikolova/opt/anaconda3/lib/python3.9/site-packages/joblib/parallel.py?line=1045'>1046</a>\u001b[0m \u001b[39mwhile\u001b[39;00m \u001b[39mself\u001b[39;49m\u001b[39m.\u001b[39;49mdispatch_one_batch(iterator):\n\u001b[1;32m   <a href='file:///Users/yananikolova/opt/anaconda3/lib/python3.9/site-packages/joblib/parallel.py?line=1046'>1047</a>\u001b[0m     \u001b[39mpass\u001b[39;00m\n\u001b[1;32m   <a href='file:///Users/yananikolova/opt/anaconda3/lib/python3.9/site-packages/joblib/parallel.py?line=1048'>1049</a>\u001b[0m \u001b[39mif\u001b[39;00m pre_dispatch \u001b[39m==\u001b[39m \u001b[39m\"\u001b[39m\u001b[39mall\u001b[39m\u001b[39m\"\u001b[39m \u001b[39mor\u001b[39;00m n_jobs \u001b[39m==\u001b[39m \u001b[39m1\u001b[39m:\n\u001b[1;32m   <a href='file:///Users/yananikolova/opt/anaconda3/lib/python3.9/site-packages/joblib/parallel.py?line=1049'>1050</a>\u001b[0m     \u001b[39m# The iterable was consumed all at once by the above for loop.\u001b[39;00m\n\u001b[1;32m   <a href='file:///Users/yananikolova/opt/anaconda3/lib/python3.9/site-packages/joblib/parallel.py?line=1050'>1051</a>\u001b[0m     \u001b[39m# No need to wait for async callbacks to trigger to\u001b[39;00m\n\u001b[1;32m   <a href='file:///Users/yananikolova/opt/anaconda3/lib/python3.9/site-packages/joblib/parallel.py?line=1051'>1052</a>\u001b[0m     \u001b[39m# consumption.\u001b[39;00m\n",
      "File \u001b[0;32m~/opt/anaconda3/lib/python3.9/site-packages/joblib/parallel.py:861\u001b[0m, in \u001b[0;36mParallel.dispatch_one_batch\u001b[0;34m(self, iterator)\u001b[0m\n\u001b[1;32m    <a href='file:///Users/yananikolova/opt/anaconda3/lib/python3.9/site-packages/joblib/parallel.py?line=858'>859</a>\u001b[0m     \u001b[39mreturn\u001b[39;00m \u001b[39mFalse\u001b[39;00m\n\u001b[1;32m    <a href='file:///Users/yananikolova/opt/anaconda3/lib/python3.9/site-packages/joblib/parallel.py?line=859'>860</a>\u001b[0m \u001b[39melse\u001b[39;00m:\n\u001b[0;32m--> <a href='file:///Users/yananikolova/opt/anaconda3/lib/python3.9/site-packages/joblib/parallel.py?line=860'>861</a>\u001b[0m     \u001b[39mself\u001b[39;49m\u001b[39m.\u001b[39;49m_dispatch(tasks)\n\u001b[1;32m    <a href='file:///Users/yananikolova/opt/anaconda3/lib/python3.9/site-packages/joblib/parallel.py?line=861'>862</a>\u001b[0m     \u001b[39mreturn\u001b[39;00m \u001b[39mTrue\u001b[39;00m\n",
      "File \u001b[0;32m~/opt/anaconda3/lib/python3.9/site-packages/joblib/parallel.py:779\u001b[0m, in \u001b[0;36mParallel._dispatch\u001b[0;34m(self, batch)\u001b[0m\n\u001b[1;32m    <a href='file:///Users/yananikolova/opt/anaconda3/lib/python3.9/site-packages/joblib/parallel.py?line=776'>777</a>\u001b[0m \u001b[39mwith\u001b[39;00m \u001b[39mself\u001b[39m\u001b[39m.\u001b[39m_lock:\n\u001b[1;32m    <a href='file:///Users/yananikolova/opt/anaconda3/lib/python3.9/site-packages/joblib/parallel.py?line=777'>778</a>\u001b[0m     job_idx \u001b[39m=\u001b[39m \u001b[39mlen\u001b[39m(\u001b[39mself\u001b[39m\u001b[39m.\u001b[39m_jobs)\n\u001b[0;32m--> <a href='file:///Users/yananikolova/opt/anaconda3/lib/python3.9/site-packages/joblib/parallel.py?line=778'>779</a>\u001b[0m     job \u001b[39m=\u001b[39m \u001b[39mself\u001b[39;49m\u001b[39m.\u001b[39;49m_backend\u001b[39m.\u001b[39;49mapply_async(batch, callback\u001b[39m=\u001b[39;49mcb)\n\u001b[1;32m    <a href='file:///Users/yananikolova/opt/anaconda3/lib/python3.9/site-packages/joblib/parallel.py?line=779'>780</a>\u001b[0m     \u001b[39m# A job can complete so quickly than its callback is\u001b[39;00m\n\u001b[1;32m    <a href='file:///Users/yananikolova/opt/anaconda3/lib/python3.9/site-packages/joblib/parallel.py?line=780'>781</a>\u001b[0m     \u001b[39m# called before we get here, causing self._jobs to\u001b[39;00m\n\u001b[1;32m    <a href='file:///Users/yananikolova/opt/anaconda3/lib/python3.9/site-packages/joblib/parallel.py?line=781'>782</a>\u001b[0m     \u001b[39m# grow. To ensure correct results ordering, .insert is\u001b[39;00m\n\u001b[1;32m    <a href='file:///Users/yananikolova/opt/anaconda3/lib/python3.9/site-packages/joblib/parallel.py?line=782'>783</a>\u001b[0m     \u001b[39m# used (rather than .append) in the following line\u001b[39;00m\n\u001b[1;32m    <a href='file:///Users/yananikolova/opt/anaconda3/lib/python3.9/site-packages/joblib/parallel.py?line=783'>784</a>\u001b[0m     \u001b[39mself\u001b[39m\u001b[39m.\u001b[39m_jobs\u001b[39m.\u001b[39minsert(job_idx, job)\n",
      "File \u001b[0;32m~/opt/anaconda3/lib/python3.9/site-packages/joblib/_parallel_backends.py:208\u001b[0m, in \u001b[0;36mSequentialBackend.apply_async\u001b[0;34m(self, func, callback)\u001b[0m\n\u001b[1;32m    <a href='file:///Users/yananikolova/opt/anaconda3/lib/python3.9/site-packages/joblib/_parallel_backends.py?line=205'>206</a>\u001b[0m \u001b[39mdef\u001b[39;00m \u001b[39mapply_async\u001b[39m(\u001b[39mself\u001b[39m, func, callback\u001b[39m=\u001b[39m\u001b[39mNone\u001b[39;00m):\n\u001b[1;32m    <a href='file:///Users/yananikolova/opt/anaconda3/lib/python3.9/site-packages/joblib/_parallel_backends.py?line=206'>207</a>\u001b[0m     \u001b[39m\"\"\"Schedule a func to be run\"\"\"\u001b[39;00m\n\u001b[0;32m--> <a href='file:///Users/yananikolova/opt/anaconda3/lib/python3.9/site-packages/joblib/_parallel_backends.py?line=207'>208</a>\u001b[0m     result \u001b[39m=\u001b[39m ImmediateResult(func)\n\u001b[1;32m    <a href='file:///Users/yananikolova/opt/anaconda3/lib/python3.9/site-packages/joblib/_parallel_backends.py?line=208'>209</a>\u001b[0m     \u001b[39mif\u001b[39;00m callback:\n\u001b[1;32m    <a href='file:///Users/yananikolova/opt/anaconda3/lib/python3.9/site-packages/joblib/_parallel_backends.py?line=209'>210</a>\u001b[0m         callback(result)\n",
      "File \u001b[0;32m~/opt/anaconda3/lib/python3.9/site-packages/joblib/_parallel_backends.py:572\u001b[0m, in \u001b[0;36mImmediateResult.__init__\u001b[0;34m(self, batch)\u001b[0m\n\u001b[1;32m    <a href='file:///Users/yananikolova/opt/anaconda3/lib/python3.9/site-packages/joblib/_parallel_backends.py?line=568'>569</a>\u001b[0m \u001b[39mdef\u001b[39;00m \u001b[39m__init__\u001b[39m(\u001b[39mself\u001b[39m, batch):\n\u001b[1;32m    <a href='file:///Users/yananikolova/opt/anaconda3/lib/python3.9/site-packages/joblib/_parallel_backends.py?line=569'>570</a>\u001b[0m     \u001b[39m# Don't delay the application, to avoid keeping the input\u001b[39;00m\n\u001b[1;32m    <a href='file:///Users/yananikolova/opt/anaconda3/lib/python3.9/site-packages/joblib/_parallel_backends.py?line=570'>571</a>\u001b[0m     \u001b[39m# arguments in memory\u001b[39;00m\n\u001b[0;32m--> <a href='file:///Users/yananikolova/opt/anaconda3/lib/python3.9/site-packages/joblib/_parallel_backends.py?line=571'>572</a>\u001b[0m     \u001b[39mself\u001b[39m\u001b[39m.\u001b[39mresults \u001b[39m=\u001b[39m batch()\n",
      "File \u001b[0;32m~/opt/anaconda3/lib/python3.9/site-packages/joblib/parallel.py:262\u001b[0m, in \u001b[0;36mBatchedCalls.__call__\u001b[0;34m(self)\u001b[0m\n\u001b[1;32m    <a href='file:///Users/yananikolova/opt/anaconda3/lib/python3.9/site-packages/joblib/parallel.py?line=257'>258</a>\u001b[0m \u001b[39mdef\u001b[39;00m \u001b[39m__call__\u001b[39m(\u001b[39mself\u001b[39m):\n\u001b[1;32m    <a href='file:///Users/yananikolova/opt/anaconda3/lib/python3.9/site-packages/joblib/parallel.py?line=258'>259</a>\u001b[0m     \u001b[39m# Set the default nested backend to self._backend but do not set the\u001b[39;00m\n\u001b[1;32m    <a href='file:///Users/yananikolova/opt/anaconda3/lib/python3.9/site-packages/joblib/parallel.py?line=259'>260</a>\u001b[0m     \u001b[39m# change the default number of processes to -1\u001b[39;00m\n\u001b[1;32m    <a href='file:///Users/yananikolova/opt/anaconda3/lib/python3.9/site-packages/joblib/parallel.py?line=260'>261</a>\u001b[0m     \u001b[39mwith\u001b[39;00m parallel_backend(\u001b[39mself\u001b[39m\u001b[39m.\u001b[39m_backend, n_jobs\u001b[39m=\u001b[39m\u001b[39mself\u001b[39m\u001b[39m.\u001b[39m_n_jobs):\n\u001b[0;32m--> <a href='file:///Users/yananikolova/opt/anaconda3/lib/python3.9/site-packages/joblib/parallel.py?line=261'>262</a>\u001b[0m         \u001b[39mreturn\u001b[39;00m [func(\u001b[39m*\u001b[39margs, \u001b[39m*\u001b[39m\u001b[39m*\u001b[39mkwargs)\n\u001b[1;32m    <a href='file:///Users/yananikolova/opt/anaconda3/lib/python3.9/site-packages/joblib/parallel.py?line=262'>263</a>\u001b[0m                 \u001b[39mfor\u001b[39;00m func, args, kwargs \u001b[39min\u001b[39;00m \u001b[39mself\u001b[39m\u001b[39m.\u001b[39mitems]\n",
      "File \u001b[0;32m~/opt/anaconda3/lib/python3.9/site-packages/joblib/parallel.py:262\u001b[0m, in \u001b[0;36m<listcomp>\u001b[0;34m(.0)\u001b[0m\n\u001b[1;32m    <a href='file:///Users/yananikolova/opt/anaconda3/lib/python3.9/site-packages/joblib/parallel.py?line=257'>258</a>\u001b[0m \u001b[39mdef\u001b[39;00m \u001b[39m__call__\u001b[39m(\u001b[39mself\u001b[39m):\n\u001b[1;32m    <a href='file:///Users/yananikolova/opt/anaconda3/lib/python3.9/site-packages/joblib/parallel.py?line=258'>259</a>\u001b[0m     \u001b[39m# Set the default nested backend to self._backend but do not set the\u001b[39;00m\n\u001b[1;32m    <a href='file:///Users/yananikolova/opt/anaconda3/lib/python3.9/site-packages/joblib/parallel.py?line=259'>260</a>\u001b[0m     \u001b[39m# change the default number of processes to -1\u001b[39;00m\n\u001b[1;32m    <a href='file:///Users/yananikolova/opt/anaconda3/lib/python3.9/site-packages/joblib/parallel.py?line=260'>261</a>\u001b[0m     \u001b[39mwith\u001b[39;00m parallel_backend(\u001b[39mself\u001b[39m\u001b[39m.\u001b[39m_backend, n_jobs\u001b[39m=\u001b[39m\u001b[39mself\u001b[39m\u001b[39m.\u001b[39m_n_jobs):\n\u001b[0;32m--> <a href='file:///Users/yananikolova/opt/anaconda3/lib/python3.9/site-packages/joblib/parallel.py?line=261'>262</a>\u001b[0m         \u001b[39mreturn\u001b[39;00m [func(\u001b[39m*\u001b[39;49margs, \u001b[39m*\u001b[39;49m\u001b[39m*\u001b[39;49mkwargs)\n\u001b[1;32m    <a href='file:///Users/yananikolova/opt/anaconda3/lib/python3.9/site-packages/joblib/parallel.py?line=262'>263</a>\u001b[0m                 \u001b[39mfor\u001b[39;00m func, args, kwargs \u001b[39min\u001b[39;00m \u001b[39mself\u001b[39m\u001b[39m.\u001b[39mitems]\n",
      "File \u001b[0;32m~/opt/anaconda3/lib/python3.9/site-packages/sklearn/utils/fixes.py:216\u001b[0m, in \u001b[0;36m_FuncWrapper.__call__\u001b[0;34m(self, *args, **kwargs)\u001b[0m\n\u001b[1;32m    <a href='file:///Users/yananikolova/opt/anaconda3/lib/python3.9/site-packages/sklearn/utils/fixes.py?line=213'>214</a>\u001b[0m \u001b[39mdef\u001b[39;00m \u001b[39m__call__\u001b[39m(\u001b[39mself\u001b[39m, \u001b[39m*\u001b[39margs, \u001b[39m*\u001b[39m\u001b[39m*\u001b[39mkwargs):\n\u001b[1;32m    <a href='file:///Users/yananikolova/opt/anaconda3/lib/python3.9/site-packages/sklearn/utils/fixes.py?line=214'>215</a>\u001b[0m     \u001b[39mwith\u001b[39;00m config_context(\u001b[39m*\u001b[39m\u001b[39m*\u001b[39m\u001b[39mself\u001b[39m\u001b[39m.\u001b[39mconfig):\n\u001b[0;32m--> <a href='file:///Users/yananikolova/opt/anaconda3/lib/python3.9/site-packages/sklearn/utils/fixes.py?line=215'>216</a>\u001b[0m         \u001b[39mreturn\u001b[39;00m \u001b[39mself\u001b[39;49m\u001b[39m.\u001b[39;49mfunction(\u001b[39m*\u001b[39;49margs, \u001b[39m*\u001b[39;49m\u001b[39m*\u001b[39;49mkwargs)\n",
      "File \u001b[0;32m~/opt/anaconda3/lib/python3.9/site-packages/sklearn/ensemble/_forest.py:185\u001b[0m, in \u001b[0;36m_parallel_build_trees\u001b[0;34m(tree, forest, X, y, sample_weight, tree_idx, n_trees, verbose, class_weight, n_samples_bootstrap)\u001b[0m\n\u001b[1;32m    <a href='file:///Users/yananikolova/opt/anaconda3/lib/python3.9/site-packages/sklearn/ensemble/_forest.py?line=181'>182</a>\u001b[0m     \u001b[39melif\u001b[39;00m class_weight \u001b[39m==\u001b[39m \u001b[39m\"\u001b[39m\u001b[39mbalanced_subsample\u001b[39m\u001b[39m\"\u001b[39m:\n\u001b[1;32m    <a href='file:///Users/yananikolova/opt/anaconda3/lib/python3.9/site-packages/sklearn/ensemble/_forest.py?line=182'>183</a>\u001b[0m         curr_sample_weight \u001b[39m*\u001b[39m\u001b[39m=\u001b[39m compute_sample_weight(\u001b[39m\"\u001b[39m\u001b[39mbalanced\u001b[39m\u001b[39m\"\u001b[39m, y, indices\u001b[39m=\u001b[39mindices)\n\u001b[0;32m--> <a href='file:///Users/yananikolova/opt/anaconda3/lib/python3.9/site-packages/sklearn/ensemble/_forest.py?line=184'>185</a>\u001b[0m     tree\u001b[39m.\u001b[39;49mfit(X, y, sample_weight\u001b[39m=\u001b[39;49mcurr_sample_weight, check_input\u001b[39m=\u001b[39;49m\u001b[39mFalse\u001b[39;49;00m)\n\u001b[1;32m    <a href='file:///Users/yananikolova/opt/anaconda3/lib/python3.9/site-packages/sklearn/ensemble/_forest.py?line=185'>186</a>\u001b[0m \u001b[39melse\u001b[39;00m:\n\u001b[1;32m    <a href='file:///Users/yananikolova/opt/anaconda3/lib/python3.9/site-packages/sklearn/ensemble/_forest.py?line=186'>187</a>\u001b[0m     tree\u001b[39m.\u001b[39mfit(X, y, sample_weight\u001b[39m=\u001b[39msample_weight, check_input\u001b[39m=\u001b[39m\u001b[39mFalse\u001b[39;00m)\n",
      "File \u001b[0;32m~/opt/anaconda3/lib/python3.9/site-packages/sklearn/tree/_classes.py:1315\u001b[0m, in \u001b[0;36mDecisionTreeRegressor.fit\u001b[0;34m(self, X, y, sample_weight, check_input, X_idx_sorted)\u001b[0m\n\u001b[1;32m   <a href='file:///Users/yananikolova/opt/anaconda3/lib/python3.9/site-packages/sklearn/tree/_classes.py?line=1277'>1278</a>\u001b[0m \u001b[39mdef\u001b[39;00m \u001b[39mfit\u001b[39m(\n\u001b[1;32m   <a href='file:///Users/yananikolova/opt/anaconda3/lib/python3.9/site-packages/sklearn/tree/_classes.py?line=1278'>1279</a>\u001b[0m     \u001b[39mself\u001b[39m, X, y, sample_weight\u001b[39m=\u001b[39m\u001b[39mNone\u001b[39;00m, check_input\u001b[39m=\u001b[39m\u001b[39mTrue\u001b[39;00m, X_idx_sorted\u001b[39m=\u001b[39m\u001b[39m\"\u001b[39m\u001b[39mdeprecated\u001b[39m\u001b[39m\"\u001b[39m\n\u001b[1;32m   <a href='file:///Users/yananikolova/opt/anaconda3/lib/python3.9/site-packages/sklearn/tree/_classes.py?line=1279'>1280</a>\u001b[0m ):\n\u001b[1;32m   <a href='file:///Users/yananikolova/opt/anaconda3/lib/python3.9/site-packages/sklearn/tree/_classes.py?line=1280'>1281</a>\u001b[0m     \u001b[39m\"\"\"Build a decision tree regressor from the training set (X, y).\u001b[39;00m\n\u001b[1;32m   <a href='file:///Users/yananikolova/opt/anaconda3/lib/python3.9/site-packages/sklearn/tree/_classes.py?line=1281'>1282</a>\u001b[0m \n\u001b[1;32m   <a href='file:///Users/yananikolova/opt/anaconda3/lib/python3.9/site-packages/sklearn/tree/_classes.py?line=1282'>1283</a>\u001b[0m \u001b[39m    Parameters\u001b[39;00m\n\u001b[0;32m   (...)\u001b[0m\n\u001b[1;32m   <a href='file:///Users/yananikolova/opt/anaconda3/lib/python3.9/site-packages/sklearn/tree/_classes.py?line=1311'>1312</a>\u001b[0m \u001b[39m        Fitted estimator.\u001b[39;00m\n\u001b[1;32m   <a href='file:///Users/yananikolova/opt/anaconda3/lib/python3.9/site-packages/sklearn/tree/_classes.py?line=1312'>1313</a>\u001b[0m \u001b[39m    \"\"\"\u001b[39;00m\n\u001b[0;32m-> <a href='file:///Users/yananikolova/opt/anaconda3/lib/python3.9/site-packages/sklearn/tree/_classes.py?line=1314'>1315</a>\u001b[0m     \u001b[39msuper\u001b[39;49m()\u001b[39m.\u001b[39;49mfit(\n\u001b[1;32m   <a href='file:///Users/yananikolova/opt/anaconda3/lib/python3.9/site-packages/sklearn/tree/_classes.py?line=1315'>1316</a>\u001b[0m         X,\n\u001b[1;32m   <a href='file:///Users/yananikolova/opt/anaconda3/lib/python3.9/site-packages/sklearn/tree/_classes.py?line=1316'>1317</a>\u001b[0m         y,\n\u001b[1;32m   <a href='file:///Users/yananikolova/opt/anaconda3/lib/python3.9/site-packages/sklearn/tree/_classes.py?line=1317'>1318</a>\u001b[0m         sample_weight\u001b[39m=\u001b[39;49msample_weight,\n\u001b[1;32m   <a href='file:///Users/yananikolova/opt/anaconda3/lib/python3.9/site-packages/sklearn/tree/_classes.py?line=1318'>1319</a>\u001b[0m         check_input\u001b[39m=\u001b[39;49mcheck_input,\n\u001b[1;32m   <a href='file:///Users/yananikolova/opt/anaconda3/lib/python3.9/site-packages/sklearn/tree/_classes.py?line=1319'>1320</a>\u001b[0m         X_idx_sorted\u001b[39m=\u001b[39;49mX_idx_sorted,\n\u001b[1;32m   <a href='file:///Users/yananikolova/opt/anaconda3/lib/python3.9/site-packages/sklearn/tree/_classes.py?line=1320'>1321</a>\u001b[0m     )\n\u001b[1;32m   <a href='file:///Users/yananikolova/opt/anaconda3/lib/python3.9/site-packages/sklearn/tree/_classes.py?line=1321'>1322</a>\u001b[0m     \u001b[39mreturn\u001b[39;00m \u001b[39mself\u001b[39m\n",
      "File \u001b[0;32m~/opt/anaconda3/lib/python3.9/site-packages/sklearn/tree/_classes.py:420\u001b[0m, in \u001b[0;36mBaseDecisionTree.fit\u001b[0;34m(self, X, y, sample_weight, check_input, X_idx_sorted)\u001b[0m\n\u001b[1;32m    <a href='file:///Users/yananikolova/opt/anaconda3/lib/python3.9/site-packages/sklearn/tree/_classes.py?line=408'>409</a>\u001b[0m \u001b[39melse\u001b[39;00m:\n\u001b[1;32m    <a href='file:///Users/yananikolova/opt/anaconda3/lib/python3.9/site-packages/sklearn/tree/_classes.py?line=409'>410</a>\u001b[0m     builder \u001b[39m=\u001b[39m BestFirstTreeBuilder(\n\u001b[1;32m    <a href='file:///Users/yananikolova/opt/anaconda3/lib/python3.9/site-packages/sklearn/tree/_classes.py?line=410'>411</a>\u001b[0m         splitter,\n\u001b[1;32m    <a href='file:///Users/yananikolova/opt/anaconda3/lib/python3.9/site-packages/sklearn/tree/_classes.py?line=411'>412</a>\u001b[0m         min_samples_split,\n\u001b[0;32m   (...)\u001b[0m\n\u001b[1;32m    <a href='file:///Users/yananikolova/opt/anaconda3/lib/python3.9/site-packages/sklearn/tree/_classes.py?line=416'>417</a>\u001b[0m         \u001b[39mself\u001b[39m\u001b[39m.\u001b[39mmin_impurity_decrease,\n\u001b[1;32m    <a href='file:///Users/yananikolova/opt/anaconda3/lib/python3.9/site-packages/sklearn/tree/_classes.py?line=417'>418</a>\u001b[0m     )\n\u001b[0;32m--> <a href='file:///Users/yananikolova/opt/anaconda3/lib/python3.9/site-packages/sklearn/tree/_classes.py?line=419'>420</a>\u001b[0m builder\u001b[39m.\u001b[39;49mbuild(\u001b[39mself\u001b[39;49m\u001b[39m.\u001b[39;49mtree_, X, y, sample_weight)\n\u001b[1;32m    <a href='file:///Users/yananikolova/opt/anaconda3/lib/python3.9/site-packages/sklearn/tree/_classes.py?line=421'>422</a>\u001b[0m \u001b[39mif\u001b[39;00m \u001b[39mself\u001b[39m\u001b[39m.\u001b[39mn_outputs_ \u001b[39m==\u001b[39m \u001b[39m1\u001b[39m \u001b[39mand\u001b[39;00m is_classifier(\u001b[39mself\u001b[39m):\n\u001b[1;32m    <a href='file:///Users/yananikolova/opt/anaconda3/lib/python3.9/site-packages/sklearn/tree/_classes.py?line=422'>423</a>\u001b[0m     \u001b[39mself\u001b[39m\u001b[39m.\u001b[39mn_classes_ \u001b[39m=\u001b[39m \u001b[39mself\u001b[39m\u001b[39m.\u001b[39mn_classes_[\u001b[39m0\u001b[39m]\n",
      "\u001b[0;31mKeyboardInterrupt\u001b[0m: "
     ]
    }
   ],
   "source": [
    "do_forest_regression(X_train, y_train_valence, y_train_arousal, X_val, y_val_valence, y_val_arousal)"
   ]
  },
  {
   "cell_type": "code",
   "execution_count": null,
   "id": "2eb39853",
   "metadata": {},
   "outputs": [],
   "source": [
    "do_regression(X_train, y_train_valence, y_train_arousal, X_val, y_val_valence, y_val_arousal)"
   ]
  },
  {
   "cell_type": "code",
   "execution_count": null,
   "id": "3a72c112",
   "metadata": {},
   "outputs": [],
   "source": [
    "do_svr(X_train, y_train_valence, y_train_arousal, X_val, y_val_valence, y_val_arousal)"
   ]
  },
  {
   "cell_type": "code",
   "execution_count": 17,
   "id": "c7f3a2ef",
   "metadata": {},
   "outputs": [
    {
     "name": "stdout",
     "output_type": "stream",
     "text": [
      "CV Mean:  -2.9055657941817072\n",
      "STD:  0.6025851016565362\n",
      "CV Mean:  -3.3818495924592256\n",
      "STD:  0.4305334619433558\n",
      "\n",
      "Validation score for Valence: -11.523837912835157\n",
      "Validation score for Arousal: -13.025722013280896\n",
      "Fitting 5 folds for each of 36 candidates, totalling 180 fits\n",
      "Fitting 5 folds for each of 36 candidates, totalling 180 fits\n",
      "\n",
      "Best parameter for Valence (CV score=-0.213):\n",
      "{'hidden_layer_sizes': 5, 'max_iter': 500}\n",
      "\n",
      "Best parameter for Arousal (CV score=-0.043):\n",
      "{'hidden_layer_sizes': (5, 5), 'max_iter': 500}\n"
     ]
    },
    {
     "data": {
      "text/plain": [
       "({'hidden_layer_sizes': 5, 'max_iter': 500},\n",
       " {'hidden_layer_sizes': (5, 5), 'max_iter': 500})"
      ]
     },
     "execution_count": 17,
     "metadata": {},
     "output_type": "execute_result"
    }
   ],
   "source": [
    "do_mlp(X_train, y_train_valence, y_train_arousal, X_val, y_val_valence, y_val_arousal)"
   ]
  },
  {
   "cell_type": "code",
   "execution_count": null,
   "id": "e44659e2",
   "metadata": {},
   "outputs": [],
   "source": []
  }
 ],
 "metadata": {
  "interpreter": {
   "hash": "ae83aaff4c47202ead0cb5b0cfe74444d437ac818c9c2cd6826845dc75a11708"
  },
  "kernelspec": {
   "display_name": "Python 3.9.7 ('base')",
   "language": "python",
   "name": "python3"
  },
  "language_info": {
   "codemirror_mode": {
    "name": "ipython",
    "version": 3
   },
   "file_extension": ".py",
   "mimetype": "text/x-python",
   "name": "python",
   "nbconvert_exporter": "python",
   "pygments_lexer": "ipython3",
   "version": "3.9.7"
  }
 },
 "nbformat": 4,
 "nbformat_minor": 5
}
