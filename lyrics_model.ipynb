{
 "cells": [
  {
   "cell_type": "code",
   "execution_count": 1,
   "metadata": {},
   "outputs": [],
   "source": [
    "import pandas as pd"
   ]
  },
  {
   "cell_type": "code",
   "execution_count": 6,
   "metadata": {},
   "outputs": [],
   "source": [
    "data = pd.read_csv('merged_cleaned_validation.csv', delimiter = ',')\n",
    "tester = data['lyrics_cleaned'][:50]"
   ]
  },
  {
   "cell_type": "code",
   "execution_count": 3,
   "metadata": {},
   "outputs": [
    {
     "name": "stdout",
     "output_type": "stream",
     "text": [
      "Collecting package metadata (current_repodata.json): done\n",
      "Solving environment: done\n",
      "\n",
      "# All requested packages already installed.\n",
      "\n"
     ]
    }
   ],
   "source": [
    "!conda install -c anaconda git\n",
    " "
   ]
  },
  {
   "cell_type": "code",
   "execution_count": 4,
   "metadata": {},
   "outputs": [
    {
     "ename": "ModuleNotFoundError",
     "evalue": "No module named 'git'",
     "output_type": "error",
     "traceback": [
      "\u001b[0;31m---------------------------------------------------------------------------\u001b[0m",
      "\u001b[0;31mModuleNotFoundError\u001b[0m                       Traceback (most recent call last)",
      "\u001b[1;32m/Users/yananikolova/Documents/GitHub/CogSci2-Spotify/lyrics_model.ipynb Cell 4'\u001b[0m in \u001b[0;36m<cell line: 1>\u001b[0;34m()\u001b[0m\n\u001b[0;32m----> <a href='vscode-notebook-cell:/Users/yananikolova/Documents/GitHub/CogSci2-Spotify/lyrics_model.ipynb#ch0000005?line=0'>1</a>\u001b[0m \u001b[39mimport\u001b[39;00m \u001b[39mgit\u001b[39;00m\n",
      "\u001b[0;31mModuleNotFoundError\u001b[0m: No module named 'git'"
     ]
    }
   ],
   "source": []
  },
  {
   "cell_type": "code",
   "execution_count": 1,
   "metadata": {},
   "outputs": [
    {
     "ename": "ModuleNotFoundError",
     "evalue": "No module named 'git'",
     "output_type": "error",
     "traceback": [
      "\u001b[0;31m---------------------------------------------------------------------------\u001b[0m",
      "\u001b[0;31mModuleNotFoundError\u001b[0m                       Traceback (most recent call last)",
      "\u001b[1;32m/Users/yananikolova/Documents/GitHub/CogSci2-Spotify/lyrics_model.ipynb Cell 4'\u001b[0m in \u001b[0;36m<cell line: 1>\u001b[0;34m()\u001b[0m\n\u001b[0;32m----> <a href='vscode-notebook-cell:/Users/yananikolova/Documents/GitHub/CogSci2-Spotify/lyrics_model.ipynb#ch0000003?line=0'>1</a>\u001b[0m \u001b[39mfrom\u001b[39;00m \u001b[39mgit\u001b[39;00m \u001b[39mimport\u001b[39;00m Repo\n\u001b[1;32m      <a href='vscode-notebook-cell:/Users/yananikolova/Documents/GitHub/CogSci2-Spotify/lyrics_model.ipynb#ch0000003?line=1'>2</a>\u001b[0m \u001b[39mfrom\u001b[39;00m \u001b[39mpathlib\u001b[39;00m \u001b[39mimport\u001b[39;00m Path\n\u001b[1;32m      <a href='vscode-notebook-cell:/Users/yananikolova/Documents/GitHub/CogSci2-Spotify/lyrics_model.ipynb#ch0000003?line=2'>3</a>\u001b[0m \u001b[39mimport\u001b[39;00m \u001b[39mpandas\u001b[39;00m \u001b[39mas\u001b[39;00m \u001b[39mpd\u001b[39;00m\n",
      "\u001b[0;31mModuleNotFoundError\u001b[0m: No module named 'git'"
     ]
    }
   ],
   "source": [
    "from git import Repo\n",
    "from pathlib import Path\n",
    "import pandas as pd\n",
    "\n",
    "def get_xanew(split='train', \n",
    "              root=Path.home()/'data/X-ANEW',\n",
    "              url = 'https://github.com/JULIELab/X-ANEW.git'):\n",
    "    \n",
    "    assert split in ['train', 'dev', 'test'], 'split must be \"train\", \"dev\", or \"test\".'\n",
    "   \n",
    "    if not root.is_dir():\n",
    "        root.mkdir()\n",
    "        print('Downloading the dataset from github...')\n",
    "        Repo.clone_from(url, str(root))\n",
    "        \n",
    "    csv = str(root / 'Ratings_Warriner_et_al.csv')\n",
    "    df = pd.read_csv(csv, index_col=0)\n",
    "    df=df[['Word','V.Mean.Sum', 'A.Mean.Sum', 'D.Mean.Sum']]\n",
    "    df.columns=['word', 'valence', 'arousal', 'dominance']\n",
    "    df.set_index('word',inplace=True)\n",
    "    \n",
    "    with open(str(root / '{}.txt'.format(split)), 'r') as f:\n",
    "        words = f.read().split('\\n')\n",
    "       \n",
    "    return df.loc[words]\n",
    "\n",
    "    \n"
   ]
  },
  {
   "cell_type": "code",
   "execution_count": null,
   "metadata": {},
   "outputs": [],
   "source": []
  }
 ],
 "metadata": {
  "interpreter": {
   "hash": "ae83aaff4c47202ead0cb5b0cfe74444d437ac818c9c2cd6826845dc75a11708"
  },
  "kernelspec": {
   "display_name": "Python 3.9.7 ('base')",
   "language": "python",
   "name": "python3"
  },
  "language_info": {
   "codemirror_mode": {
    "name": "ipython",
    "version": 3
   },
   "file_extension": ".py",
   "mimetype": "text/x-python",
   "name": "python",
   "nbconvert_exporter": "python",
   "pygments_lexer": "ipython3",
   "version": "3.9.7"
  },
  "orig_nbformat": 4
 },
 "nbformat": 4,
 "nbformat_minor": 2
}
