{
 "cells": [
  {
   "cell_type": "code",
   "execution_count": 1,
   "id": "373d7d63",
   "metadata": {},
   "outputs": [],
   "source": [
    "import numpy as np\n",
    "import pandas as pd\n",
    "import os\n",
    "from nltk.sentiment.vader import SentimentIntensityAnalyzer\n"
   ]
  },
  {
   "cell_type": "code",
   "execution_count": 2,
   "id": "7aba3c7a",
   "metadata": {},
   "outputs": [],
   "source": [
    "df = pd.read_csv('merged_cleaned_validation.csv')"
   ]
  },
  {
   "cell_type": "code",
   "execution_count": 3,
   "id": "06482c6f",
   "metadata": {
    "scrolled": true
   },
   "outputs": [
    {
     "data": {
      "text/html": [
       "<div>\n",
       "<style scoped>\n",
       "    .dataframe tbody tr th:only-of-type {\n",
       "        vertical-align: middle;\n",
       "    }\n",
       "\n",
       "    .dataframe tbody tr th {\n",
       "        vertical-align: top;\n",
       "    }\n",
       "\n",
       "    .dataframe thead th {\n",
       "        text-align: right;\n",
       "    }\n",
       "</style>\n",
       "<table border=\"1\" class=\"dataframe\">\n",
       "  <thead>\n",
       "    <tr style=\"text-align: right;\">\n",
       "      <th></th>\n",
       "      <th>Unnamed: 0</th>\n",
       "      <th>artist</th>\n",
       "      <th>trackname</th>\n",
       "      <th>danceability</th>\n",
       "      <th>energy</th>\n",
       "      <th>key</th>\n",
       "      <th>loudness</th>\n",
       "      <th>mode</th>\n",
       "      <th>speechiness</th>\n",
       "      <th>acousticness</th>\n",
       "      <th>instrumentalness</th>\n",
       "      <th>liveness</th>\n",
       "      <th>valence</th>\n",
       "      <th>tempo</th>\n",
       "      <th>id</th>\n",
       "      <th>time_signature</th>\n",
       "      <th>lyrics</th>\n",
       "      <th>lyrics_cleaned</th>\n",
       "      <th>y_valence</th>\n",
       "      <th>y_arousal</th>\n",
       "    </tr>\n",
       "  </thead>\n",
       "  <tbody>\n",
       "    <tr>\n",
       "      <th>0</th>\n",
       "      <td>0</td>\n",
       "      <td>CALLA</td>\n",
       "      <td>Strangler</td>\n",
       "      <td>0.527</td>\n",
       "      <td>0.723</td>\n",
       "      <td>11</td>\n",
       "      <td>-6.695</td>\n",
       "      <td>0</td>\n",
       "      <td>0.0260</td>\n",
       "      <td>0.000066</td>\n",
       "      <td>0.64500</td>\n",
       "      <td>0.2480</td>\n",
       "      <td>0.540</td>\n",
       "      <td>139.967</td>\n",
       "      <td>5s0tibKDCoGTyncfK7VKzF</td>\n",
       "      <td>4</td>\n",
       "      <td>Something's gotten into your head\\mSay what Yo...</td>\n",
       "      <td>Something's gotten into your head Say what You...</td>\n",
       "      <td>-1.176640</td>\n",
       "      <td>-0.314720</td>\n",
       "    </tr>\n",
       "    <tr>\n",
       "      <th>1</th>\n",
       "      <td>1</td>\n",
       "      <td>The Box Tops</td>\n",
       "      <td>The Letter</td>\n",
       "      <td>0.638</td>\n",
       "      <td>0.428</td>\n",
       "      <td>9</td>\n",
       "      <td>-12.156</td>\n",
       "      <td>0</td>\n",
       "      <td>0.0687</td>\n",
       "      <td>0.252000</td>\n",
       "      <td>0.00000</td>\n",
       "      <td>0.1320</td>\n",
       "      <td>0.901</td>\n",
       "      <td>139.434</td>\n",
       "      <td>6RJK553YhstRzyKA4mug09</td>\n",
       "      <td>4</td>\n",
       "      <td>Gimme a ticket for an \\maeroplane\\mAin't got t...</td>\n",
       "      <td>Gimme a ticket for an  aeroplane Ain't got tim...</td>\n",
       "      <td>-0.780962</td>\n",
       "      <td>-0.789480</td>\n",
       "    </tr>\n",
       "    <tr>\n",
       "      <th>2</th>\n",
       "      <td>2</td>\n",
       "      <td>Chris Whitley</td>\n",
       "      <td>Big Sky Country</td>\n",
       "      <td>0.663</td>\n",
       "      <td>0.437</td>\n",
       "      <td>10</td>\n",
       "      <td>-11.137</td>\n",
       "      <td>1</td>\n",
       "      <td>0.0330</td>\n",
       "      <td>0.503000</td>\n",
       "      <td>0.00000</td>\n",
       "      <td>0.0629</td>\n",
       "      <td>0.598</td>\n",
       "      <td>90.169</td>\n",
       "      <td>3MOHZpSZQmP2f1f30aqpDH</td>\n",
       "      <td>4</td>\n",
       "      <td>Now when this is over\\mOver and through\\mAnd a...</td>\n",
       "      <td>Now when this is over Over and through And all...</td>\n",
       "      <td>-0.767318</td>\n",
       "      <td>0.911361</td>\n",
       "    </tr>\n",
       "    <tr>\n",
       "      <th>3</th>\n",
       "      <td>3</td>\n",
       "      <td>Chris Garneau</td>\n",
       "      <td>Baby's Romance</td>\n",
       "      <td>0.591</td>\n",
       "      <td>0.326</td>\n",
       "      <td>5</td>\n",
       "      <td>-10.393</td>\n",
       "      <td>1</td>\n",
       "      <td>0.0286</td>\n",
       "      <td>0.844000</td>\n",
       "      <td>0.02210</td>\n",
       "      <td>0.1230</td>\n",
       "      <td>0.176</td>\n",
       "      <td>110.075</td>\n",
       "      <td>0fVJW7ozV3cnaBdznrmerO</td>\n",
       "      <td>4</td>\n",
       "      <td>[Verse 1]\\mThe baby's sleeping in the crib on ...</td>\n",
       "      <td>The baby's sleeping in the crib on top The b...</td>\n",
       "      <td>-1.487725</td>\n",
       "      <td>-0.360813</td>\n",
       "    </tr>\n",
       "    <tr>\n",
       "      <th>4</th>\n",
       "      <td>4</td>\n",
       "      <td>Judy Garland</td>\n",
       "      <td>Over The Rainbow</td>\n",
       "      <td>0.204</td>\n",
       "      <td>0.161</td>\n",
       "      <td>8</td>\n",
       "      <td>-15.191</td>\n",
       "      <td>1</td>\n",
       "      <td>0.0336</td>\n",
       "      <td>0.972000</td>\n",
       "      <td>0.00009</td>\n",
       "      <td>0.1210</td>\n",
       "      <td>0.316</td>\n",
       "      <td>82.009</td>\n",
       "      <td>3wAIcORchxdSkWv6v5AkaU</td>\n",
       "      <td>4</td>\n",
       "      <td>[Verse 1]\\mSomewhere over the rainbow\\mWay up ...</td>\n",
       "      <td>Somewhere over the rainbow Way up high There...</td>\n",
       "      <td>1.071901</td>\n",
       "      <td>0.846830</td>\n",
       "    </tr>\n",
       "  </tbody>\n",
       "</table>\n",
       "</div>"
      ],
      "text/plain": [
       "   Unnamed: 0         artist         trackname  danceability  energy  key  \\\n",
       "0           0          CALLA         Strangler         0.527   0.723   11   \n",
       "1           1   The Box Tops        The Letter         0.638   0.428    9   \n",
       "2           2  Chris Whitley   Big Sky Country         0.663   0.437   10   \n",
       "3           3  Chris Garneau    Baby's Romance         0.591   0.326    5   \n",
       "4           4   Judy Garland  Over The Rainbow         0.204   0.161    8   \n",
       "\n",
       "   loudness  mode  speechiness  acousticness  instrumentalness  liveness  \\\n",
       "0    -6.695     0       0.0260      0.000066           0.64500    0.2480   \n",
       "1   -12.156     0       0.0687      0.252000           0.00000    0.1320   \n",
       "2   -11.137     1       0.0330      0.503000           0.00000    0.0629   \n",
       "3   -10.393     1       0.0286      0.844000           0.02210    0.1230   \n",
       "4   -15.191     1       0.0336      0.972000           0.00009    0.1210   \n",
       "\n",
       "   valence    tempo                      id  time_signature  \\\n",
       "0    0.540  139.967  5s0tibKDCoGTyncfK7VKzF               4   \n",
       "1    0.901  139.434  6RJK553YhstRzyKA4mug09               4   \n",
       "2    0.598   90.169  3MOHZpSZQmP2f1f30aqpDH               4   \n",
       "3    0.176  110.075  0fVJW7ozV3cnaBdznrmerO               4   \n",
       "4    0.316   82.009  3wAIcORchxdSkWv6v5AkaU               4   \n",
       "\n",
       "                                              lyrics  \\\n",
       "0  Something's gotten into your head\\mSay what Yo...   \n",
       "1  Gimme a ticket for an \\maeroplane\\mAin't got t...   \n",
       "2  Now when this is over\\mOver and through\\mAnd a...   \n",
       "3  [Verse 1]\\mThe baby's sleeping in the crib on ...   \n",
       "4  [Verse 1]\\mSomewhere over the rainbow\\mWay up ...   \n",
       "\n",
       "                                      lyrics_cleaned  y_valence  y_arousal  \n",
       "0  Something's gotten into your head Say what You...  -1.176640  -0.314720  \n",
       "1  Gimme a ticket for an  aeroplane Ain't got tim...  -0.780962  -0.789480  \n",
       "2  Now when this is over Over and through And all...  -0.767318   0.911361  \n",
       "3    The baby's sleeping in the crib on top The b...  -1.487725  -0.360813  \n",
       "4    Somewhere over the rainbow Way up high There...   1.071901   0.846830  "
      ]
     },
     "execution_count": 3,
     "metadata": {},
     "output_type": "execute_result"
    }
   ],
   "source": [
    "df.head()"
   ]
  },
  {
   "cell_type": "code",
   "execution_count": 4,
   "id": "7b8306ff",
   "metadata": {},
   "outputs": [],
   "source": [
    "test_lyr = df['lyrics_cleaned'][0]"
   ]
  },
  {
   "cell_type": "code",
   "execution_count": 5,
   "id": "cba1c688",
   "metadata": {
    "scrolled": true
   },
   "outputs": [
    {
     "data": {
      "text/plain": [
       "\"Something's gotten into your head Say what You said Say what You said I can do anything, anything Though it doesn't matter to You (I'll find it out...) I can get the same effect if You strangle me Something's gotten hold of my tongue See what You've done See what You've done I would give anything, anything Just to see it happen to You (I'll find it out...) I can get the same effect, if You strangle me I can get the same effect, if You strangle me I can get the same effect, if You strangle me\""
      ]
     },
     "execution_count": 5,
     "metadata": {},
     "output_type": "execute_result"
    }
   ],
   "source": [
    "test_lyr"
   ]
  },
  {
   "cell_type": "code",
   "execution_count": 6,
   "id": "67abe5f2",
   "metadata": {},
   "outputs": [],
   "source": [
    "def get_sentiment(lyrics):\n",
    "    sid = SentimentIntensityAnalyzer()\n",
    "    ss = sid.polarity_scores(lyrics)\n",
    "#     ['neg',ss['neu'],ss['pos'],ss['compound']\n",
    "#     return [ss['neg'], ss['neu'], ss['pos'], ss['compound']]\n",
    "    return ss"
   ]
  },
  {
   "cell_type": "code",
   "execution_count": 7,
   "id": "6e704e0c",
   "metadata": {},
   "outputs": [],
   "source": [
    "new_df = pd.DataFrame(list(get_sentiment(test_lyr)))\n"
   ]
  },
  {
   "cell_type": "code",
   "execution_count": 8,
   "id": "6773c8d9",
   "metadata": {},
   "outputs": [
    {
     "data": {
      "text/html": [
       "<div>\n",
       "<style scoped>\n",
       "    .dataframe tbody tr th:only-of-type {\n",
       "        vertical-align: middle;\n",
       "    }\n",
       "\n",
       "    .dataframe tbody tr th {\n",
       "        vertical-align: top;\n",
       "    }\n",
       "\n",
       "    .dataframe thead th {\n",
       "        text-align: right;\n",
       "    }\n",
       "</style>\n",
       "<table border=\"1\" class=\"dataframe\">\n",
       "  <thead>\n",
       "    <tr style=\"text-align: right;\">\n",
       "      <th></th>\n",
       "      <th>0</th>\n",
       "    </tr>\n",
       "  </thead>\n",
       "  <tbody>\n",
       "    <tr>\n",
       "      <th>0</th>\n",
       "      <td>neg</td>\n",
       "    </tr>\n",
       "    <tr>\n",
       "      <th>1</th>\n",
       "      <td>neu</td>\n",
       "    </tr>\n",
       "    <tr>\n",
       "      <th>2</th>\n",
       "      <td>pos</td>\n",
       "    </tr>\n",
       "    <tr>\n",
       "      <th>3</th>\n",
       "      <td>compound</td>\n",
       "    </tr>\n",
       "  </tbody>\n",
       "</table>\n",
       "</div>"
      ],
      "text/plain": [
       "          0\n",
       "0       neg\n",
       "1       neu\n",
       "2       pos\n",
       "3  compound"
      ]
     },
     "execution_count": 8,
     "metadata": {},
     "output_type": "execute_result"
    }
   ],
   "source": [
    "new_df"
   ]
  },
  {
   "cell_type": "code",
   "execution_count": 9,
   "id": "7c0757b8",
   "metadata": {},
   "outputs": [
    {
     "data": {
      "text/plain": [
       "{'neg': 0.012, 'neu': 0.988, 'pos': 0.0, 'compound': -0.0191}"
      ]
     },
     "execution_count": 9,
     "metadata": {},
     "output_type": "execute_result"
    }
   ],
   "source": [
    "get_sentiment(test_lyr)"
   ]
  },
  {
   "cell_type": "code",
   "execution_count": 12,
   "id": "2cba773d",
   "metadata": {},
   "outputs": [],
   "source": [
    "# a"
   ]
  },
  {
   "cell_type": "code",
   "execution_count": 13,
   "id": "f8f48087",
   "metadata": {
    "scrolled": true
   },
   "outputs": [
    {
     "data": {
      "text/plain": [
       "0    Something's gotten into your head Say what You...\n",
       "1    Gimme a ticket for an  aeroplane Ain't got tim...\n",
       "2    Now when this is over Over and through And all...\n",
       "3      The baby's sleeping in the crib on top The b...\n",
       "4      Somewhere over the rainbow Way up high There...\n",
       "5    His father died  and left him  a little farm i...\n",
       "6      Well I was rolling wheels and shifting gears...\n",
       "7      Highway run into the midnight sun Wheels go ...\n",
       "8      Any way you want it That's the way you need ...\n",
       "9    So many things, I didn't say Is it too late No...\n",
       "Name: lyrics_cleaned, dtype: object"
      ]
     },
     "execution_count": 13,
     "metadata": {},
     "output_type": "execute_result"
    }
   ],
   "source": [
    "df['lyrics_cleaned'].iloc[:10]"
   ]
  },
  {
   "cell_type": "code",
   "execution_count": 14,
   "id": "bf6b67a9",
   "metadata": {},
   "outputs": [
    {
     "data": {
      "text/plain": [
       "0    {'neg': 0.012, 'neu': 0.988, 'pos': 0.0, 'comp...\n",
       "1    {'neg': 0.068, 'neu': 0.86, 'pos': 0.072, 'com...\n",
       "2    {'neg': 0.014, 'neu': 0.66, 'pos': 0.326, 'com...\n",
       "3    {'neg': 0.034, 'neu': 0.888, 'pos': 0.078, 'co...\n",
       "4    {'neg': 0.055, 'neu': 0.794, 'pos': 0.152, 'co...\n",
       "5    {'neg': 0.055, 'neu': 0.876, 'pos': 0.069, 'co...\n",
       "6    {'neg': 0.046, 'neu': 0.848, 'pos': 0.106, 'co...\n",
       "7    {'neg': 0.051, 'neu': 0.755, 'pos': 0.195, 'co...\n",
       "8    {'neg': 0.011, 'neu': 0.801, 'pos': 0.188, 'co...\n",
       "9    {'neg': 0.008, 'neu': 0.837, 'pos': 0.156, 'co...\n",
       "Name: lyrics_cleaned, dtype: object"
      ]
     },
     "execution_count": 14,
     "metadata": {},
     "output_type": "execute_result"
    }
   ],
   "source": [
    "df['lyrics_cleaned'].iloc[:10].apply(lambda x: get_sentiment(x))"
   ]
  },
  {
   "cell_type": "code",
   "execution_count": 18,
   "id": "351b087a",
   "metadata": {},
   "outputs": [],
   "source": [
    "# ser.shape"
   ]
  },
  {
   "cell_type": "code",
   "execution_count": 28,
   "id": "235df302",
   "metadata": {
    "scrolled": true
   },
   "outputs": [],
   "source": [
    "# df_feat['lyrics_cleaned'] = df_feat['lyrics'].apply(lambda x: preprocess_text(x))\n",
    "# df[['neg','neu','pos','compound']] = df['lyrics_cleaned'].iloc[:10].apply(lambda x: get_sentiment(x))\n",
    "\n",
    "# df['neg'], df['neu'], df['pos'], df['compound']  = df['lyrics_cleaned'].iloc[:10].apply(lambda x: get_sentiment(x))\n",
    "# df['vader'] = df['lyrics_cleaned'].iloc[:10].apply(lambda x: get_sentiment(x))\n",
    "df['vader'] = df['lyrics_cleaned'].apply(lambda x: get_sentiment(x))"
   ]
  },
  {
   "cell_type": "code",
   "execution_count": 20,
   "id": "1e7b6497",
   "metadata": {},
   "outputs": [],
   "source": [
    "# df = df.dropna()"
   ]
  },
  {
   "cell_type": "code",
   "execution_count": 21,
   "id": "b657f384",
   "metadata": {},
   "outputs": [],
   "source": [
    "# df['vader']"
   ]
  },
  {
   "cell_type": "code",
   "execution_count": 29,
   "id": "8826d632",
   "metadata": {},
   "outputs": [],
   "source": [
    "new_df = pd.DataFrame(list(df['vader']))\n"
   ]
  },
  {
   "cell_type": "code",
   "execution_count": 33,
   "id": "042f7158",
   "metadata": {},
   "outputs": [],
   "source": [
    "df = df.join(new_df, how = 'outer')"
   ]
  },
  {
   "cell_type": "code",
   "execution_count": 34,
   "id": "baeff813",
   "metadata": {},
   "outputs": [
    {
     "data": {
      "text/html": [
       "<div>\n",
       "<style scoped>\n",
       "    .dataframe tbody tr th:only-of-type {\n",
       "        vertical-align: middle;\n",
       "    }\n",
       "\n",
       "    .dataframe tbody tr th {\n",
       "        vertical-align: top;\n",
       "    }\n",
       "\n",
       "    .dataframe thead th {\n",
       "        text-align: right;\n",
       "    }\n",
       "</style>\n",
       "<table border=\"1\" class=\"dataframe\">\n",
       "  <thead>\n",
       "    <tr style=\"text-align: right;\">\n",
       "      <th></th>\n",
       "      <th>Unnamed: 0</th>\n",
       "      <th>artist</th>\n",
       "      <th>trackname</th>\n",
       "      <th>danceability</th>\n",
       "      <th>energy</th>\n",
       "      <th>key</th>\n",
       "      <th>loudness</th>\n",
       "      <th>mode</th>\n",
       "      <th>speechiness</th>\n",
       "      <th>acousticness</th>\n",
       "      <th>...</th>\n",
       "      <th>time_signature</th>\n",
       "      <th>lyrics</th>\n",
       "      <th>lyrics_cleaned</th>\n",
       "      <th>y_valence</th>\n",
       "      <th>y_arousal</th>\n",
       "      <th>vader</th>\n",
       "      <th>neg</th>\n",
       "      <th>neu</th>\n",
       "      <th>pos</th>\n",
       "      <th>compound</th>\n",
       "    </tr>\n",
       "  </thead>\n",
       "  <tbody>\n",
       "    <tr>\n",
       "      <th>0</th>\n",
       "      <td>0</td>\n",
       "      <td>CALLA</td>\n",
       "      <td>Strangler</td>\n",
       "      <td>0.527</td>\n",
       "      <td>0.723</td>\n",
       "      <td>11</td>\n",
       "      <td>-6.695</td>\n",
       "      <td>0</td>\n",
       "      <td>0.0260</td>\n",
       "      <td>0.000066</td>\n",
       "      <td>...</td>\n",
       "      <td>4</td>\n",
       "      <td>Something's gotten into your head\\mSay what Yo...</td>\n",
       "      <td>Something's gotten into your head Say what You...</td>\n",
       "      <td>-1.176640</td>\n",
       "      <td>-0.314720</td>\n",
       "      <td>{'neg': 0.012, 'neu': 0.988, 'pos': 0.0, 'comp...</td>\n",
       "      <td>0.012</td>\n",
       "      <td>0.988</td>\n",
       "      <td>0.000</td>\n",
       "      <td>-0.0191</td>\n",
       "    </tr>\n",
       "    <tr>\n",
       "      <th>1</th>\n",
       "      <td>1</td>\n",
       "      <td>The Box Tops</td>\n",
       "      <td>The Letter</td>\n",
       "      <td>0.638</td>\n",
       "      <td>0.428</td>\n",
       "      <td>9</td>\n",
       "      <td>-12.156</td>\n",
       "      <td>0</td>\n",
       "      <td>0.0687</td>\n",
       "      <td>0.252000</td>\n",
       "      <td>...</td>\n",
       "      <td>4</td>\n",
       "      <td>Gimme a ticket for an \\maeroplane\\mAin't got t...</td>\n",
       "      <td>Gimme a ticket for an  aeroplane Ain't got tim...</td>\n",
       "      <td>-0.780962</td>\n",
       "      <td>-0.789480</td>\n",
       "      <td>{'neg': 0.068, 'neu': 0.86, 'pos': 0.072, 'com...</td>\n",
       "      <td>0.068</td>\n",
       "      <td>0.860</td>\n",
       "      <td>0.072</td>\n",
       "      <td>-0.2697</td>\n",
       "    </tr>\n",
       "    <tr>\n",
       "      <th>2</th>\n",
       "      <td>2</td>\n",
       "      <td>Chris Whitley</td>\n",
       "      <td>Big Sky Country</td>\n",
       "      <td>0.663</td>\n",
       "      <td>0.437</td>\n",
       "      <td>10</td>\n",
       "      <td>-11.137</td>\n",
       "      <td>1</td>\n",
       "      <td>0.0330</td>\n",
       "      <td>0.503000</td>\n",
       "      <td>...</td>\n",
       "      <td>4</td>\n",
       "      <td>Now when this is over\\mOver and through\\mAnd a...</td>\n",
       "      <td>Now when this is over Over and through And all...</td>\n",
       "      <td>-0.767318</td>\n",
       "      <td>0.911361</td>\n",
       "      <td>{'neg': 0.014, 'neu': 0.66, 'pos': 0.326, 'com...</td>\n",
       "      <td>0.014</td>\n",
       "      <td>0.660</td>\n",
       "      <td>0.326</td>\n",
       "      <td>0.9986</td>\n",
       "    </tr>\n",
       "    <tr>\n",
       "      <th>3</th>\n",
       "      <td>3</td>\n",
       "      <td>Chris Garneau</td>\n",
       "      <td>Baby's Romance</td>\n",
       "      <td>0.591</td>\n",
       "      <td>0.326</td>\n",
       "      <td>5</td>\n",
       "      <td>-10.393</td>\n",
       "      <td>1</td>\n",
       "      <td>0.0286</td>\n",
       "      <td>0.844000</td>\n",
       "      <td>...</td>\n",
       "      <td>4</td>\n",
       "      <td>[Verse 1]\\mThe baby's sleeping in the crib on ...</td>\n",
       "      <td>The baby's sleeping in the crib on top The b...</td>\n",
       "      <td>-1.487725</td>\n",
       "      <td>-0.360813</td>\n",
       "      <td>{'neg': 0.034, 'neu': 0.888, 'pos': 0.078, 'co...</td>\n",
       "      <td>0.034</td>\n",
       "      <td>0.888</td>\n",
       "      <td>0.078</td>\n",
       "      <td>0.9264</td>\n",
       "    </tr>\n",
       "    <tr>\n",
       "      <th>4</th>\n",
       "      <td>4</td>\n",
       "      <td>Judy Garland</td>\n",
       "      <td>Over The Rainbow</td>\n",
       "      <td>0.204</td>\n",
       "      <td>0.161</td>\n",
       "      <td>8</td>\n",
       "      <td>-15.191</td>\n",
       "      <td>1</td>\n",
       "      <td>0.0336</td>\n",
       "      <td>0.972000</td>\n",
       "      <td>...</td>\n",
       "      <td>4</td>\n",
       "      <td>[Verse 1]\\mSomewhere over the rainbow\\mWay up ...</td>\n",
       "      <td>Somewhere over the rainbow Way up high There...</td>\n",
       "      <td>1.071901</td>\n",
       "      <td>0.846830</td>\n",
       "      <td>{'neg': 0.055, 'neu': 0.794, 'pos': 0.152, 'co...</td>\n",
       "      <td>0.055</td>\n",
       "      <td>0.794</td>\n",
       "      <td>0.152</td>\n",
       "      <td>0.8633</td>\n",
       "    </tr>\n",
       "  </tbody>\n",
       "</table>\n",
       "<p>5 rows × 25 columns</p>\n",
       "</div>"
      ],
      "text/plain": [
       "   Unnamed: 0         artist         trackname  danceability  energy  key  \\\n",
       "0           0          CALLA         Strangler         0.527   0.723   11   \n",
       "1           1   The Box Tops        The Letter         0.638   0.428    9   \n",
       "2           2  Chris Whitley   Big Sky Country         0.663   0.437   10   \n",
       "3           3  Chris Garneau    Baby's Romance         0.591   0.326    5   \n",
       "4           4   Judy Garland  Over The Rainbow         0.204   0.161    8   \n",
       "\n",
       "   loudness  mode  speechiness  acousticness  ...  time_signature  \\\n",
       "0    -6.695     0       0.0260      0.000066  ...               4   \n",
       "1   -12.156     0       0.0687      0.252000  ...               4   \n",
       "2   -11.137     1       0.0330      0.503000  ...               4   \n",
       "3   -10.393     1       0.0286      0.844000  ...               4   \n",
       "4   -15.191     1       0.0336      0.972000  ...               4   \n",
       "\n",
       "                                              lyrics  \\\n",
       "0  Something's gotten into your head\\mSay what Yo...   \n",
       "1  Gimme a ticket for an \\maeroplane\\mAin't got t...   \n",
       "2  Now when this is over\\mOver and through\\mAnd a...   \n",
       "3  [Verse 1]\\mThe baby's sleeping in the crib on ...   \n",
       "4  [Verse 1]\\mSomewhere over the rainbow\\mWay up ...   \n",
       "\n",
       "                                      lyrics_cleaned  y_valence y_arousal  \\\n",
       "0  Something's gotten into your head Say what You...  -1.176640 -0.314720   \n",
       "1  Gimme a ticket for an  aeroplane Ain't got tim...  -0.780962 -0.789480   \n",
       "2  Now when this is over Over and through And all...  -0.767318  0.911361   \n",
       "3    The baby's sleeping in the crib on top The b...  -1.487725 -0.360813   \n",
       "4    Somewhere over the rainbow Way up high There...   1.071901  0.846830   \n",
       "\n",
       "                                               vader    neg    neu    pos  \\\n",
       "0  {'neg': 0.012, 'neu': 0.988, 'pos': 0.0, 'comp...  0.012  0.988  0.000   \n",
       "1  {'neg': 0.068, 'neu': 0.86, 'pos': 0.072, 'com...  0.068  0.860  0.072   \n",
       "2  {'neg': 0.014, 'neu': 0.66, 'pos': 0.326, 'com...  0.014  0.660  0.326   \n",
       "3  {'neg': 0.034, 'neu': 0.888, 'pos': 0.078, 'co...  0.034  0.888  0.078   \n",
       "4  {'neg': 0.055, 'neu': 0.794, 'pos': 0.152, 'co...  0.055  0.794  0.152   \n",
       "\n",
       "   compound  \n",
       "0   -0.0191  \n",
       "1   -0.2697  \n",
       "2    0.9986  \n",
       "3    0.9264  \n",
       "4    0.8633  \n",
       "\n",
       "[5 rows x 25 columns]"
      ]
     },
     "execution_count": 34,
     "metadata": {},
     "output_type": "execute_result"
    }
   ],
   "source": [
    "df.head()"
   ]
  },
  {
   "cell_type": "code",
   "execution_count": 32,
   "id": "5c50fef7",
   "metadata": {},
   "outputs": [
    {
     "data": {
      "text/html": [
       "<div>\n",
       "<style scoped>\n",
       "    .dataframe tbody tr th:only-of-type {\n",
       "        vertical-align: middle;\n",
       "    }\n",
       "\n",
       "    .dataframe tbody tr th {\n",
       "        vertical-align: top;\n",
       "    }\n",
       "\n",
       "    .dataframe thead th {\n",
       "        text-align: right;\n",
       "    }\n",
       "</style>\n",
       "<table border=\"1\" class=\"dataframe\">\n",
       "  <thead>\n",
       "    <tr style=\"text-align: right;\">\n",
       "      <th></th>\n",
       "      <th>neg</th>\n",
       "      <th>neu</th>\n",
       "      <th>pos</th>\n",
       "      <th>compound</th>\n",
       "    </tr>\n",
       "  </thead>\n",
       "  <tbody>\n",
       "    <tr>\n",
       "      <th>0</th>\n",
       "      <td>0.012</td>\n",
       "      <td>0.988</td>\n",
       "      <td>0.000</td>\n",
       "      <td>-0.0191</td>\n",
       "    </tr>\n",
       "    <tr>\n",
       "      <th>1</th>\n",
       "      <td>0.068</td>\n",
       "      <td>0.860</td>\n",
       "      <td>0.072</td>\n",
       "      <td>-0.2697</td>\n",
       "    </tr>\n",
       "    <tr>\n",
       "      <th>2</th>\n",
       "      <td>0.014</td>\n",
       "      <td>0.660</td>\n",
       "      <td>0.326</td>\n",
       "      <td>0.9986</td>\n",
       "    </tr>\n",
       "    <tr>\n",
       "      <th>3</th>\n",
       "      <td>0.034</td>\n",
       "      <td>0.888</td>\n",
       "      <td>0.078</td>\n",
       "      <td>0.9264</td>\n",
       "    </tr>\n",
       "    <tr>\n",
       "      <th>4</th>\n",
       "      <td>0.055</td>\n",
       "      <td>0.794</td>\n",
       "      <td>0.152</td>\n",
       "      <td>0.8633</td>\n",
       "    </tr>\n",
       "  </tbody>\n",
       "</table>\n",
       "</div>"
      ],
      "text/plain": [
       "     neg    neu    pos  compound\n",
       "0  0.012  0.988  0.000   -0.0191\n",
       "1  0.068  0.860  0.072   -0.2697\n",
       "2  0.014  0.660  0.326    0.9986\n",
       "3  0.034  0.888  0.078    0.9264\n",
       "4  0.055  0.794  0.152    0.8633"
      ]
     },
     "execution_count": 32,
     "metadata": {},
     "output_type": "execute_result"
    }
   ],
   "source": [
    "new_df.head()"
   ]
  },
  {
   "cell_type": "code",
   "execution_count": null,
   "id": "23a0a503",
   "metadata": {},
   "outputs": [],
   "source": [
    "df['column_new_1'], df['column_new_2'], df['column_new_3']"
   ]
  },
  {
   "cell_type": "code",
   "execution_count": null,
   "id": "76c23f17",
   "metadata": {},
   "outputs": [],
   "source": [
    "df.head()"
   ]
  },
  {
   "cell_type": "code",
   "execution_count": null,
   "id": "8dcf7b1b",
   "metadata": {},
   "outputs": [],
   "source": [
    "sid = SentimentIntensityAnalyzer()\n",
    "ss = sid.polarity_scores(test_lyr)\n",
    "ss\n",
    "# vader_compounds = np.append(ss['compound'],vader_compounds)"
   ]
  }
 ],
 "metadata": {
  "kernelspec": {
   "display_name": "Python 3 (ipykernel)",
   "language": "python",
   "name": "python3"
  },
  "language_info": {
   "codemirror_mode": {
    "name": "ipython",
    "version": 3
   },
   "file_extension": ".py",
   "mimetype": "text/x-python",
   "name": "python",
   "nbconvert_exporter": "python",
   "pygments_lexer": "ipython3",
   "version": "3.9.7"
  }
 },
 "nbformat": 4,
 "nbformat_minor": 5
}
