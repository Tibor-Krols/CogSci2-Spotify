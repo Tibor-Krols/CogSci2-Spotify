{
 "cells": [
  {
   "cell_type": "code",
   "execution_count": 1,
   "id": "3395a661",
   "metadata": {},
   "outputs": [],
   "source": [
    "import numpy as np\n",
    "import pandas as pd\n",
    "from sklearn.linear_model import LinearRegression, LogisticRegression\n",
    "# from sklearn.linear_model import LogisticRegression\n",
    "\n",
    "import seaborn as sn\n",
    "from sklearn.ensemble import RandomForestRegressor\n",
    "import nltk\n",
    "from sklearn.metrics import roc_auc_score, f1_score\n",
    "import seaborn as sn\n",
    "import matplotlib.pyplot as plt\n",
    "import statsmodels.api as sm\n"
   ]
  },
  {
   "cell_type": "code",
   "execution_count": 5,
   "id": "63d80b8a",
   "metadata": {},
   "outputs": [],
   "source": [
    "df = pd.read_csv('../data/merged/merged_cleaned_sentiment_train.csv')\n",
    "df_validation = pd.read_csv('../data/merged/merged_cleaned_sentiment_validation.csv')\n",
    "df_test = pd.read_csv('../data/merged/merged_cleaned_sentiment_test.csv')"
   ]
  },
  {
   "cell_type": "code",
   "execution_count": 6,
   "id": "a495ba64",
   "metadata": {
    "scrolled": true
   },
   "outputs": [
    {
     "data": {
      "text/html": [
       "<div>\n",
       "<style scoped>\n",
       "    .dataframe tbody tr th:only-of-type {\n",
       "        vertical-align: middle;\n",
       "    }\n",
       "\n",
       "    .dataframe tbody tr th {\n",
       "        vertical-align: top;\n",
       "    }\n",
       "\n",
       "    .dataframe thead th {\n",
       "        text-align: right;\n",
       "    }\n",
       "</style>\n",
       "<table border=\"1\" class=\"dataframe\">\n",
       "  <thead>\n",
       "    <tr style=\"text-align: right;\">\n",
       "      <th></th>\n",
       "      <th>Unnamed: 0</th>\n",
       "      <th>artist</th>\n",
       "      <th>trackname</th>\n",
       "      <th>danceability</th>\n",
       "      <th>energy</th>\n",
       "      <th>key</th>\n",
       "      <th>loudness</th>\n",
       "      <th>mode</th>\n",
       "      <th>speechiness</th>\n",
       "      <th>acousticness</th>\n",
       "      <th>...</th>\n",
       "      <th>id</th>\n",
       "      <th>time_signature</th>\n",
       "      <th>lyrics</th>\n",
       "      <th>lyrics_cleaned</th>\n",
       "      <th>y_valence</th>\n",
       "      <th>y_arousal</th>\n",
       "      <th>neg</th>\n",
       "      <th>neu</th>\n",
       "      <th>pos</th>\n",
       "      <th>compound</th>\n",
       "    </tr>\n",
       "  </thead>\n",
       "  <tbody>\n",
       "    <tr>\n",
       "      <th>0</th>\n",
       "      <td>0</td>\n",
       "      <td>Dark Tranquillity</td>\n",
       "      <td>Insanity's Crescendo</td>\n",
       "      <td>0.320</td>\n",
       "      <td>0.798</td>\n",
       "      <td>6</td>\n",
       "      <td>-9.660</td>\n",
       "      <td>0</td>\n",
       "      <td>0.0584</td>\n",
       "      <td>0.00152</td>\n",
       "      <td>...</td>\n",
       "      <td>3SS3dDG9lKQxvfcJ7O4oTN</td>\n",
       "      <td>3</td>\n",
       "      <td>Gently, hold our heads\\mGently, hold our heads...</td>\n",
       "      <td>Gently, hold our heads Gently, hold our heads ...</td>\n",
       "      <td>-0.682725</td>\n",
       "      <td>0.316758</td>\n",
       "      <td>0.174</td>\n",
       "      <td>0.684</td>\n",
       "      <td>0.142</td>\n",
       "      <td>-0.9059</td>\n",
       "    </tr>\n",
       "    <tr>\n",
       "      <th>1</th>\n",
       "      <td>1</td>\n",
       "      <td>Duke Ellington</td>\n",
       "      <td>Caravan</td>\n",
       "      <td>0.434</td>\n",
       "      <td>0.600</td>\n",
       "      <td>5</td>\n",
       "      <td>-10.784</td>\n",
       "      <td>0</td>\n",
       "      <td>0.0286</td>\n",
       "      <td>0.86700</td>\n",
       "      <td>...</td>\n",
       "      <td>3Jw4lBWbcznhlitliEMW0x</td>\n",
       "      <td>4</td>\n",
       "      <td>Night and stars above that shine so bright\\mTh...</td>\n",
       "      <td>Night and stars above that shine so bright The...</td>\n",
       "      <td>0.373325</td>\n",
       "      <td>-0.923151</td>\n",
       "      <td>0.000</td>\n",
       "      <td>0.724</td>\n",
       "      <td>0.276</td>\n",
       "      <td>0.9909</td>\n",
       "    </tr>\n",
       "    <tr>\n",
       "      <th>2</th>\n",
       "      <td>2</td>\n",
       "      <td>Ella Fitzgerald</td>\n",
       "      <td>Lullaby Of Birdland</td>\n",
       "      <td>0.530</td>\n",
       "      <td>0.270</td>\n",
       "      <td>5</td>\n",
       "      <td>-11.251</td>\n",
       "      <td>0</td>\n",
       "      <td>0.0365</td>\n",
       "      <td>0.91000</td>\n",
       "      <td>...</td>\n",
       "      <td>3RtJAYS51S5W6EMxrm9aMb</td>\n",
       "      <td>4</td>\n",
       "      <td>Oh, lullaby by birdland that's what I\\mAlways ...</td>\n",
       "      <td>Oh, lullaby by birdland that's what I Always h...</td>\n",
       "      <td>1.071901</td>\n",
       "      <td>0.846830</td>\n",
       "      <td>0.095</td>\n",
       "      <td>0.746</td>\n",
       "      <td>0.159</td>\n",
       "      <td>0.9456</td>\n",
       "    </tr>\n",
       "    <tr>\n",
       "      <th>3</th>\n",
       "      <td>3</td>\n",
       "      <td>cLOUDDEAD</td>\n",
       "      <td>Pop Song</td>\n",
       "      <td>0.479</td>\n",
       "      <td>0.528</td>\n",
       "      <td>9</td>\n",
       "      <td>-10.104</td>\n",
       "      <td>0</td>\n",
       "      <td>0.1040</td>\n",
       "      <td>0.58000</td>\n",
       "      <td>...</td>\n",
       "      <td>3ayXOJdCoW6noN3nJLXCxz</td>\n",
       "      <td>4</td>\n",
       "      <td>[Intro]\\mTwo, three\\mI can't do it without-\\mG...</td>\n",
       "      <td>Two, three I can't do it without- Go! (It’s)...</td>\n",
       "      <td>-1.056572</td>\n",
       "      <td>0.736206</td>\n",
       "      <td>0.037</td>\n",
       "      <td>0.864</td>\n",
       "      <td>0.099</td>\n",
       "      <td>0.9840</td>\n",
       "    </tr>\n",
       "    <tr>\n",
       "      <th>4</th>\n",
       "      <td>4</td>\n",
       "      <td>Boney M</td>\n",
       "      <td>Rasputin</td>\n",
       "      <td>0.639</td>\n",
       "      <td>0.893</td>\n",
       "      <td>9</td>\n",
       "      <td>-6.509</td>\n",
       "      <td>1</td>\n",
       "      <td>0.0360</td>\n",
       "      <td>0.28900</td>\n",
       "      <td>...</td>\n",
       "      <td>5jkFvD4UJrmdoezzT1FRoP</td>\n",
       "      <td>4</td>\n",
       "      <td>[Verse 1]\\mThere lived a certain man in Russia...</td>\n",
       "      <td>There lived a certain man in Russia long ago...</td>\n",
       "      <td>1.541257</td>\n",
       "      <td>1.704165</td>\n",
       "      <td>0.106</td>\n",
       "      <td>0.663</td>\n",
       "      <td>0.231</td>\n",
       "      <td>0.9980</td>\n",
       "    </tr>\n",
       "  </tbody>\n",
       "</table>\n",
       "<p>5 rows × 24 columns</p>\n",
       "</div>"
      ],
      "text/plain": [
       "   Unnamed: 0             artist             trackname  danceability  energy  \\\n",
       "0           0  Dark Tranquillity  Insanity's Crescendo         0.320   0.798   \n",
       "1           1     Duke Ellington               Caravan         0.434   0.600   \n",
       "2           2    Ella Fitzgerald   Lullaby Of Birdland         0.530   0.270   \n",
       "3           3          cLOUDDEAD              Pop Song         0.479   0.528   \n",
       "4           4            Boney M              Rasputin         0.639   0.893   \n",
       "\n",
       "   key  loudness  mode  speechiness  acousticness  ...  \\\n",
       "0    6    -9.660     0       0.0584       0.00152  ...   \n",
       "1    5   -10.784     0       0.0286       0.86700  ...   \n",
       "2    5   -11.251     0       0.0365       0.91000  ...   \n",
       "3    9   -10.104     0       0.1040       0.58000  ...   \n",
       "4    9    -6.509     1       0.0360       0.28900  ...   \n",
       "\n",
       "                       id  time_signature  \\\n",
       "0  3SS3dDG9lKQxvfcJ7O4oTN               3   \n",
       "1  3Jw4lBWbcznhlitliEMW0x               4   \n",
       "2  3RtJAYS51S5W6EMxrm9aMb               4   \n",
       "3  3ayXOJdCoW6noN3nJLXCxz               4   \n",
       "4  5jkFvD4UJrmdoezzT1FRoP               4   \n",
       "\n",
       "                                              lyrics  \\\n",
       "0  Gently, hold our heads\\mGently, hold our heads...   \n",
       "1  Night and stars above that shine so bright\\mTh...   \n",
       "2  Oh, lullaby by birdland that's what I\\mAlways ...   \n",
       "3  [Intro]\\mTwo, three\\mI can't do it without-\\mG...   \n",
       "4  [Verse 1]\\mThere lived a certain man in Russia...   \n",
       "\n",
       "                                      lyrics_cleaned y_valence  y_arousal  \\\n",
       "0  Gently, hold our heads Gently, hold our heads ... -0.682725   0.316758   \n",
       "1  Night and stars above that shine so bright The...  0.373325  -0.923151   \n",
       "2  Oh, lullaby by birdland that's what I Always h...  1.071901   0.846830   \n",
       "3    Two, three I can't do it without- Go! (It’s)... -1.056572   0.736206   \n",
       "4    There lived a certain man in Russia long ago...  1.541257   1.704165   \n",
       "\n",
       "     neg    neu    pos  compound  \n",
       "0  0.174  0.684  0.142   -0.9059  \n",
       "1  0.000  0.724  0.276    0.9909  \n",
       "2  0.095  0.746  0.159    0.9456  \n",
       "3  0.037  0.864  0.099    0.9840  \n",
       "4  0.106  0.663  0.231    0.9980  \n",
       "\n",
       "[5 rows x 24 columns]"
      ]
     },
     "execution_count": 6,
     "metadata": {},
     "output_type": "execute_result"
    }
   ],
   "source": [
    "df.head()"
   ]
  },
  {
   "cell_type": "code",
   "execution_count": 7,
   "id": "fb08beba",
   "metadata": {},
   "outputs": [
    {
     "data": {
      "text/plain": [
       "<AxesSubplot:>"
      ]
     },
     "execution_count": 7,
     "metadata": {},
     "output_type": "execute_result"
    },
    {
     "data": {
      "image/png": "[encoded data removed]",
      "text/plain": [
       "<Figure size 432x288 with 2 Axes>"
      ]
     },
     "metadata": {
      "needs_background": "light"
     },
     "output_type": "display_data"
    }
   ],
   "source": [
    "corrMatrix = df[['danceability', 'energy', 'key',\n",
    "       'loudness', 'mode', 'speechiness', 'acousticness', 'instrumentalness',\n",
    "       'liveness', 'valence', 'tempo','y_valence', 'y_arousal', 'neg','neu','pos','compound']].corr()\n",
    "sn.set(rc={'figure.figsize':(13,13)})\n",
    "\n",
    "sn.heatmap(corrMatrix, annot=True)\n",
    "\n",
    "# print(corrMatrix)"
   ]
  },
  {
   "cell_type": "code",
   "execution_count": 8,
   "id": "c7fb33c4",
   "metadata": {},
   "outputs": [],
   "source": [
    "def do_regression(x_cols, include_test = False):\n",
    "    '''x_cols is list of variables'''\n",
    "#     train set\n",
    "    X = df[x_cols].values\n",
    "    y_valence = df.y_valence.values \n",
    "    y_arousal = df.y_arousal.values\n",
    "#     validation set\n",
    "    X_vali = df_validation[x_cols].values\n",
    "    y_vali_valence = df_validation.y_valence.values \n",
    "    y_vali_arousal = df_validation.y_arousal.values \n",
    "\n",
    "    regr_val = LinearRegression()\n",
    "    regr_arou = LinearRegression()\n",
    "    \n",
    "#     train model\n",
    "    regr_val.fit(X, y_valence)\n",
    "    regr_arou.fit(X, y_arousal)\n",
    "\n",
    "#     score model\n",
    "#     of train data\n",
    "    r2_train_valence = regr_val.score(X, y_valence)\n",
    "    r2_train_arousal = regr_arou.score(X, y_arousal)\n",
    "#     of validation data\n",
    "    r2_validation_valence = regr_val.score(X_vali, y_vali_valence)\n",
    "    r2_validation_arousal = regr_arou.score(X_vali, y_vali_arousal)\n",
    "    \n",
    "    if include_test:\n",
    "        X_test = df_test[x_cols].values\n",
    "        y_test_valence = df_test.y_valence.values \n",
    "        y_test_arousal = df_test.y_arousal.values\n",
    "            \n",
    "        r2_test_valence = regr_val.score(X_test, y_test_valence)\n",
    "        r2_test_arousal = regr_arou.score(X_test, y_test_arousal)\n",
    "        print(f'''{r2_train_valence = }, {r2_train_arousal = }, {r2_validation_valence = }, {r2_validation_arousal = }\n",
    "        {r2_test_valence = }, {r2_test_arousal = }''' )\n",
    "        \n",
    "    else:\n",
    "        print(f'{r2_train_valence = }, {r2_train_arousal = }, {r2_validation_valence = }, {r2_validation_arousal = }' )  \n",
    "        \n",
    "#     print(f'{r2_train_valence = }, {r2_train_arousal = }, {r2_validation_valence = }, {r2_validation_arousal = }' )\n",
    "#     print(f'{regr_val.coef_ = }, {regr_arou.coef_ = }')"
   ]
  },
  {
   "cell_type": "markdown",
   "id": "90d8f49a",
   "metadata": {},
   "source": [
    "# make dummies"
   ]
  },
  {
   "cell_type": "code",
   "execution_count": 9,
   "id": "3c7bbd9b",
   "metadata": {},
   "outputs": [],
   "source": [
    "df = pd.concat([df, pd.get_dummies(df.key, drop_first = True, prefix = 'key')], axis=1)\n",
    "df_validation = pd.concat([df_validation, pd.get_dummies(df_validation.key, drop_first = True, prefix = 'key')], axis=1)\n",
    "df_test = pd.concat([df_test, pd.get_dummies(df_test.key, drop_first = True, prefix = 'key')], axis=1)\n"
   ]
  },
  {
   "cell_type": "code",
   "execution_count": 10,
   "id": "c3bc8c80",
   "metadata": {
    "scrolled": false
   },
   "outputs": [
    {
     "data": {
      "text/plain": [
       "Index(['Unnamed: 0', 'artist', 'trackname', 'danceability', 'energy', 'key',\n",
       "       'loudness', 'mode', 'speechiness', 'acousticness', 'instrumentalness',\n",
       "       'liveness', 'valence', 'tempo', 'id', 'time_signature', 'lyrics',\n",
       "       'lyrics_cleaned', 'y_valence', 'y_arousal', 'neg', 'neu', 'pos',\n",
       "       'compound', 'key_1', 'key_2', 'key_3', 'key_4', 'key_5', 'key_6',\n",
       "       'key_7', 'key_8', 'key_9', 'key_10', 'key_11'],\n",
       "      dtype='object')"
      ]
     },
     "execution_count": 10,
     "metadata": {},
     "output_type": "execute_result"
    }
   ],
   "source": [
    "df.columns"
   ]
  },
  {
   "cell_type": "code",
   "execution_count": 11,
   "id": "72864ce2",
   "metadata": {},
   "outputs": [
    {
     "data": {
      "text/plain": [
       "Index(['Unnamed: 0', 'artist', 'trackname', 'danceability', 'energy', 'key',\n",
       "       'loudness', 'mode', 'speechiness', 'acousticness', 'instrumentalness',\n",
       "       'liveness', 'valence', 'tempo', 'id', 'time_signature', 'lyrics',\n",
       "       'lyrics_cleaned', 'y_valence', 'y_arousal', 'neg', 'neu', 'pos',\n",
       "       'compound', 'key_1', 'key_2', 'key_3', 'key_4', 'key_5', 'key_6',\n",
       "       'key_7', 'key_8', 'key_9', 'key_10', 'key_11'],\n",
       "      dtype='object')"
      ]
     },
     "execution_count": 11,
     "metadata": {},
     "output_type": "execute_result"
    }
   ],
   "source": [
    "df.columns"
   ]
  },
  {
   "cell_type": "markdown",
   "id": "593c4973",
   "metadata": {},
   "source": [
    "# Baseline"
   ]
  },
  {
   "cell_type": "code",
   "execution_count": 12,
   "id": "33c8c30f",
   "metadata": {
    "scrolled": false
   },
   "outputs": [
    {
     "name": "stdout",
     "output_type": "stream",
     "text": [
      "r2_train_valence = 0.140505052645856, r2_train_arousal = 0.17616321217940423, r2_validation_valence = 0.13050775895109257, r2_validation_arousal = 0.19808858437288512\n"
     ]
    }
   ],
   "source": [
    "x_cols = ['danceability', 'energy',\n",
    "       'loudness', 'speechiness', 'acousticness', 'instrumentalness',\n",
    "       'liveness', 'valence', 'tempo','mode', 'key_1',            'key_2',\n",
    "                  'key_3',            'key_4',            'key_5',\n",
    "                  'key_6',            'key_7',            'key_8',\n",
    "                  'key_9',           'key_10',           'key_11']\n",
    "do_regression(x_cols)"
   ]
  },
  {
   "cell_type": "code",
   "execution_count": 13,
   "id": "c37311b5",
   "metadata": {},
   "outputs": [],
   "source": [
    "# with fewer variables"
   ]
  },
  {
   "cell_type": "code",
   "execution_count": 14,
   "id": "8c4de04f",
   "metadata": {},
   "outputs": [
    {
     "name": "stdout",
     "output_type": "stream",
     "text": [
      "r2_train_valence = 0.13518342395111127, r2_train_arousal = 0.17307121954094895, r2_validation_valence = 0.1317327087982939, r2_validation_arousal = 0.20085606950264345\n"
     ]
    }
   ],
   "source": [
    "x_cols = ['danceability', 'energy', 'instrumentalness', 'valence','mode']\n",
    "do_regression(x_cols)"
   ]
  },
  {
   "cell_type": "markdown",
   "id": "6694810e",
   "metadata": {},
   "source": [
    "# with statsmodels"
   ]
  },
  {
   "cell_type": "code",
   "execution_count": 15,
   "id": "32368a82",
   "metadata": {},
   "outputs": [],
   "source": [
    "def do_regression_sm(x_cols):\n",
    "    '''x_cols is list of variables'''\n",
    "#     train set\n",
    "    X = df[x_cols].values\n",
    "    y_valence = df.y_valence.values \n",
    "    y_arousal = df.y_arousal.values\n",
    "#     validation set\n",
    "    X_vali = df_validation[x_cols].values\n",
    "    y_vali_valence = df_validation.y_valence.values \n",
    "    y_vali_arousal = df_validation.y_arousal.values \n",
    "    \n",
    "    \n",
    "    X = df[x_cols] \n",
    "    X = sm.add_constant(X) # adding a constant\n",
    "\n",
    "    model_val = sm.OLS(y_valence, X).fit()\n",
    "    model_arou = sm.OLS(y_arousal, X).fit()\n",
    "#     predictions_val = model_val.predict(X) \n",
    "#     predictions_arou = model_arou.predict(X) \n",
    "\n",
    "    print_model = model_val.summary()\n",
    "    print('Valence \\n\\n\\n',model_val.summary() )\n",
    "    print('\\n\\n\\nArousal \\n',model_arou.summary() )\n"
   ]
  },
  {
   "cell_type": "code",
   "execution_count": 16,
   "id": "9d26b9fa",
   "metadata": {
    "scrolled": true
   },
   "outputs": [
    {
     "name": "stdout",
     "output_type": "stream",
     "text": [
      "Valence \n",
      "\n",
      "\n",
      "                             OLS Regression Results                            \n",
      "==============================================================================\n",
      "Dep. Variable:                      y   R-squared:                       0.141\n",
      "Model:                            OLS   Adj. R-squared:                  0.138\n",
      "Method:                 Least Squares   F-statistic:                     58.96\n",
      "Date:                Sun, 19 Feb 2023   Prob (F-statistic):          6.83e-230\n",
      "Time:                        14:56:36   Log-Likelihood:                -10676.\n",
      "No. Observations:                7596   AIC:                         2.140e+04\n",
      "Df Residuals:                    7574   BIC:                         2.155e+04\n",
      "Df Model:                          21                                         \n",
      "Covariance Type:            nonrobust                                         \n",
      "====================================================================================\n",
      "                       coef    std err          t      P>|t|      [0.025      0.975]\n",
      "------------------------------------------------------------------------------------\n",
      "const               -1.5987      0.125    -12.777      0.000      -1.844      -1.353\n",
      "danceability         0.7408      0.091      8.120      0.000       0.562       0.920\n",
      "energy               0.5181      0.100      5.193      0.000       0.323       0.714\n",
      "loudness            -0.0070      0.005     -1.434      0.152      -0.016       0.003\n",
      "speechiness         -0.3128      0.196     -1.598      0.110      -0.696       0.071\n",
      "acousticness         0.1947      0.057      3.404      0.001       0.083       0.307\n",
      "instrumentalness    -0.1559      0.061     -2.546      0.011      -0.276      -0.036\n",
      "liveness             0.2142      0.084      2.549      0.011       0.050       0.379\n",
      "valence              1.1681      0.061     19.053      0.000       1.048       1.288\n",
      "tempo                0.0007      0.000      1.752      0.080   -8.59e-05       0.002\n",
      "mode                 0.1147      0.026      4.472      0.000       0.064       0.165\n",
      "key_1               -0.1027      0.053     -1.937      0.053      -0.207       0.001\n",
      "key_2               -0.0036      0.046     -0.079      0.937      -0.094       0.087\n",
      "key_3               -0.2000      0.072     -2.767      0.006      -0.342      -0.058\n",
      "key_4               -0.0417      0.051     -0.825      0.409      -0.141       0.057\n",
      "key_5               -0.0457      0.053     -0.866      0.386      -0.149       0.058\n",
      "key_6               -0.0837      0.056     -1.503      0.133      -0.193       0.025\n",
      "key_7               -0.0638      0.046     -1.388      0.165      -0.154       0.026\n",
      "key_8               -0.0184      0.057     -0.321      0.749      -0.131       0.094\n",
      "key_9                0.0316      0.047      0.670      0.503      -0.061       0.124\n",
      "key_10               0.0316      0.057      0.551      0.582      -0.081       0.144\n",
      "key_11               0.0260      0.052      0.498      0.618      -0.076       0.129\n",
      "==============================================================================\n",
      "Omnibus:                      602.944   Durbin-Watson:                   1.764\n",
      "Prob(Omnibus):                  0.000   Jarque-Bera (JB):              274.030\n",
      "Skew:                          -0.274   Prob(JB):                     3.13e-60\n",
      "Kurtosis:                       2.248   Cond. No.                     2.20e+03\n",
      "==============================================================================\n",
      "\n",
      "Notes:\n",
      "[1] Standard Errors assume that the covariance matrix of the errors is correctly specified.\n",
      "[2] The condition number is large, 2.2e+03. This might indicate that there are\n",
      "strong multicollinearity or other numerical problems.\n",
      "\n",
      "\n",
      "\n",
      "Arousal \n",
      "                             OLS Regression Results                            \n",
      "==============================================================================\n",
      "Dep. Variable:                      y   R-squared:                       0.176\n",
      "Model:                            OLS   Adj. R-squared:                  0.174\n",
      "Method:                 Least Squares   F-statistic:                     77.12\n",
      "Date:                Sun, 19 Feb 2023   Prob (F-statistic):          1.19e-298\n",
      "Time:                        14:56:36   Log-Likelihood:                -9781.1\n",
      "No. Observations:                7596   AIC:                         1.961e+04\n",
      "Df Residuals:                    7574   BIC:                         1.976e+04\n",
      "Df Model:                          21                                         \n",
      "Covariance Type:            nonrobust                                         \n",
      "====================================================================================\n",
      "                       coef    std err          t      P>|t|      [0.025      0.975]\n",
      "------------------------------------------------------------------------------------\n",
      "const               -1.0259      0.111     -9.224      0.000      -1.244      -0.808\n",
      "danceability        -0.3156      0.081     -3.892      0.000      -0.475      -0.157\n",
      "energy               1.4195      0.089     16.005      0.000       1.246       1.593\n",
      "loudness            -0.0071      0.004     -1.638      0.102      -0.016       0.001\n",
      "speechiness          0.4109      0.174      2.362      0.018       0.070       0.752\n",
      "acousticness         0.0196      0.051      0.386      0.699      -0.080       0.119\n",
      "instrumentalness    -0.3269      0.054     -6.006      0.000      -0.434      -0.220\n",
      "liveness             0.1012      0.075      1.355      0.176      -0.045       0.248\n",
      "valence              0.5139      0.054      9.430      0.000       0.407       0.621\n",
      "tempo                0.0004      0.000      1.129      0.259      -0.000       0.001\n",
      "mode                 0.1360      0.023      5.962      0.000       0.091       0.181\n",
      "key_1               -0.0187      0.047     -0.396      0.692      -0.111       0.074\n",
      "key_2                0.0852      0.041      2.074      0.038       0.005       0.166\n",
      "key_3               -0.0667      0.064     -1.038      0.300      -0.193       0.059\n",
      "key_4                0.0801      0.045      1.785      0.074      -0.008       0.168\n",
      "key_5               -0.0089      0.047     -0.190      0.850      -0.101       0.083\n",
      "key_6                0.0553      0.050      1.117      0.264      -0.042       0.152\n",
      "key_7                0.0036      0.041      0.089      0.929      -0.076       0.084\n",
      "key_8                0.0322      0.051      0.630      0.528      -0.068       0.132\n",
      "key_9                0.0679      0.042      1.621      0.105      -0.014       0.150\n",
      "key_10               0.0499      0.051      0.977      0.328      -0.050       0.150\n",
      "key_11               0.0417      0.046      0.897      0.370      -0.049       0.133\n",
      "==============================================================================\n",
      "Omnibus:                       51.439   Durbin-Watson:                   1.854\n",
      "Prob(Omnibus):                  0.000   Jarque-Bera (JB):               51.970\n",
      "Skew:                          -0.195   Prob(JB):                     5.19e-12\n",
      "Kurtosis:                       2.893   Cond. No.                     2.20e+03\n",
      "==============================================================================\n",
      "\n",
      "Notes:\n",
      "[1] Standard Errors assume that the covariance matrix of the errors is correctly specified.\n",
      "[2] The condition number is large, 2.2e+03. This might indicate that there are\n",
      "strong multicollinearity or other numerical problems.\n"
     ]
    }
   ],
   "source": [
    "x_cols = ['danceability', 'energy',\n",
    "       'loudness', 'speechiness', 'acousticness', 'instrumentalness',\n",
    "       'liveness', 'valence', 'tempo','mode', 'key_1',            'key_2',\n",
    "                  'key_3',            'key_4',            'key_5',\n",
    "                  'key_6',            'key_7',            'key_8',\n",
    "                  'key_9',           'key_10',           'key_11']\n",
    "do_regression_sm(x_cols)"
   ]
  },
  {
   "cell_type": "markdown",
   "id": "35b2190f",
   "metadata": {},
   "source": [
    "baseline with fewer variables"
   ]
  },
  {
   "cell_type": "code",
   "execution_count": 17,
   "id": "d0842b44",
   "metadata": {},
   "outputs": [
    {
     "name": "stdout",
     "output_type": "stream",
     "text": [
      "Valence \n",
      "\n",
      "\n",
      "                             OLS Regression Results                            \n",
      "==============================================================================\n",
      "Dep. Variable:                      y   R-squared:                       0.135\n",
      "Model:                            OLS   Adj. R-squared:                  0.135\n",
      "Method:                 Least Squares   F-statistic:                     237.3\n",
      "Date:                Sun, 19 Feb 2023   Prob (F-statistic):          3.71e-236\n",
      "Time:                        14:56:36   Log-Likelihood:                -10699.\n",
      "No. Observations:                7596   AIC:                         2.141e+04\n",
      "Df Residuals:                    7590   BIC:                         2.145e+04\n",
      "Df Model:                           5                                         \n",
      "Covariance Type:            nonrobust                                         \n",
      "====================================================================================\n",
      "                       coef    std err          t      P>|t|      [0.025      0.975]\n",
      "------------------------------------------------------------------------------------\n",
      "const               -1.2149      0.055    -22.077      0.000      -1.323      -1.107\n",
      "danceability         0.6327      0.087      7.268      0.000       0.462       0.803\n",
      "energy               0.2565      0.051      5.006      0.000       0.156       0.357\n",
      "instrumentalness    -0.1312      0.059     -2.208      0.027      -0.248      -0.015\n",
      "valence              1.2170      0.060     20.354      0.000       1.100       1.334\n",
      "mode                 0.1140      0.025      4.636      0.000       0.066       0.162\n",
      "==============================================================================\n",
      "Omnibus:                      642.701   Durbin-Watson:                   1.762\n",
      "Prob(Omnibus):                  0.000   Jarque-Bera (JB):              280.167\n",
      "Skew:                          -0.272   Prob(JB):                     1.45e-61\n",
      "Kurtosis:                       2.232   Cond. No.                         14.5\n",
      "==============================================================================\n",
      "\n",
      "Notes:\n",
      "[1] Standard Errors assume that the covariance matrix of the errors is correctly specified.\n",
      "\n",
      "\n",
      "\n",
      "Arousal \n",
      "                             OLS Regression Results                            \n",
      "==============================================================================\n",
      "Dep. Variable:                      y   R-squared:                       0.173\n",
      "Model:                            OLS   Adj. R-squared:                  0.173\n",
      "Method:                 Least Squares   F-statistic:                     317.7\n",
      "Date:                Sun, 19 Feb 2023   Prob (F-statistic):          7.85e-310\n",
      "Time:                        14:56:36   Log-Likelihood:                -9795.3\n",
      "No. Observations:                7596   AIC:                         1.960e+04\n",
      "Df Residuals:                    7590   BIC:                         1.964e+04\n",
      "Df Model:                           5                                         \n",
      "Covariance Type:            nonrobust                                         \n",
      "====================================================================================\n",
      "                       coef    std err          t      P>|t|      [0.025      0.975]\n",
      "------------------------------------------------------------------------------------\n",
      "const               -0.7747      0.049    -15.857      0.000      -0.871      -0.679\n",
      "danceability        -0.3580      0.077     -4.632      0.000      -0.510      -0.206\n",
      "energy               1.3512      0.045     29.699      0.000       1.262       1.440\n",
      "instrumentalness    -0.3061      0.053     -5.800      0.000      -0.410      -0.203\n",
      "valence              0.5360      0.053     10.097      0.000       0.432       0.640\n",
      "mode                 0.1237      0.022      5.668      0.000       0.081       0.167\n",
      "==============================================================================\n",
      "Omnibus:                       47.917   Durbin-Watson:                   1.852\n",
      "Prob(Omnibus):                  0.000   Jarque-Bera (JB):               48.424\n",
      "Skew:                          -0.189   Prob(JB):                     3.05e-11\n",
      "Kurtosis:                       2.901   Cond. No.                         14.5\n",
      "==============================================================================\n",
      "\n",
      "Notes:\n",
      "[1] Standard Errors assume that the covariance matrix of the errors is correctly specified.\n"
     ]
    }
   ],
   "source": [
    "x_cols = ['danceability', 'energy', 'instrumentalness', 'valence','mode']\n",
    "do_regression_sm(x_cols)"
   ]
  },
  {
   "cell_type": "markdown",
   "id": "41a124a8",
   "metadata": {},
   "source": [
    "# include sentiment"
   ]
  },
  {
   "cell_type": "code",
   "execution_count": 18,
   "id": "9b99424f",
   "metadata": {},
   "outputs": [
    {
     "name": "stdout",
     "output_type": "stream",
     "text": [
      "r2_train_valence = 0.12737752070971753, r2_train_arousal = 0.15414382403990945, r2_validation_valence = 0.09893511290148305, r2_validation_arousal = 0.16844355973471425\n"
     ]
    }
   ],
   "source": [
    "x_cols = ['danceability', 'energy',\n",
    "       'loudness', \n",
    "       'liveness',  'tempo',\n",
    "       'compound']\n",
    "do_regression(x_cols)"
   ]
  },
  {
   "cell_type": "code",
   "execution_count": 19,
   "id": "874c69b9",
   "metadata": {},
   "outputs": [
    {
     "name": "stdout",
     "output_type": "stream",
     "text": [
      "Valence \n",
      "\n",
      "\n",
      "                             OLS Regression Results                            \n",
      "==============================================================================\n",
      "Dep. Variable:                      y   R-squared:                       0.039\n",
      "Model:                            OLS   Adj. R-squared:                  0.039\n",
      "Method:                 Least Squares   F-statistic:                     311.2\n",
      "Date:                Sun, 19 Feb 2023   Prob (F-statistic):           2.66e-68\n",
      "Time:                        14:56:37   Log-Likelihood:                -11098.\n",
      "No. Observations:                7596   AIC:                         2.220e+04\n",
      "Df Residuals:                    7594   BIC:                         2.221e+04\n",
      "Df Model:                           1                                         \n",
      "Covariance Type:            nonrobust                                         \n",
      "==============================================================================\n",
      "                 coef    std err          t      P>|t|      [0.025      0.975]\n",
      "------------------------------------------------------------------------------\n",
      "const         -0.1637      0.013    -13.085      0.000      -0.188      -0.139\n",
      "compound       0.2507      0.014     17.642      0.000       0.223       0.279\n",
      "==============================================================================\n",
      "Omnibus:                     3016.515   Durbin-Watson:                   1.745\n",
      "Prob(Omnibus):                  0.000   Jarque-Bera (JB):              408.508\n",
      "Skew:                          -0.152   Prob(JB):                     1.97e-89\n",
      "Kurtosis:                       1.906   Cond. No.                         1.39\n",
      "==============================================================================\n",
      "\n",
      "Notes:\n",
      "[1] Standard Errors assume that the covariance matrix of the errors is correctly specified.\n",
      "\n",
      "\n",
      "\n",
      "Arousal \n",
      "                             OLS Regression Results                            \n",
      "==============================================================================\n",
      "Dep. Variable:                      y   R-squared:                       0.001\n",
      "Model:                            OLS   Adj. R-squared:                  0.001\n",
      "Method:                 Least Squares   F-statistic:                     10.09\n",
      "Date:                Sun, 19 Feb 2023   Prob (F-statistic):            0.00150\n",
      "Time:                        14:56:37   Log-Likelihood:                -10512.\n",
      "No. Observations:                7596   AIC:                         2.103e+04\n",
      "Df Residuals:                    7594   BIC:                         2.104e+04\n",
      "Df Model:                           1                                         \n",
      "Covariance Type:            nonrobust                                         \n",
      "==============================================================================\n",
      "                 coef    std err          t      P>|t|      [0.025      0.975]\n",
      "------------------------------------------------------------------------------\n",
      "const          0.2114      0.012     18.256      0.000       0.189       0.234\n",
      "compound      -0.0418      0.013     -3.176      0.001      -0.068      -0.016\n",
      "==============================================================================\n",
      "Omnibus:                       94.722   Durbin-Watson:                   1.783\n",
      "Prob(Omnibus):                  0.000   Jarque-Bera (JB):               57.984\n",
      "Skew:                          -0.021   Prob(JB):                     2.56e-13\n",
      "Kurtosis:                       2.574   Cond. No.                         1.39\n",
      "==============================================================================\n",
      "\n",
      "Notes:\n",
      "[1] Standard Errors assume that the covariance matrix of the errors is correctly specified.\n"
     ]
    }
   ],
   "source": [
    "x_cols = ['compound']\n",
    "do_regression_sm(x_cols)"
   ]
  },
  {
   "cell_type": "code",
   "execution_count": 20,
   "id": "9c995fe7",
   "metadata": {
    "scrolled": true
   },
   "outputs": [
    {
     "name": "stdout",
     "output_type": "stream",
     "text": [
      "Valence \n",
      "\n",
      "\n",
      "                             OLS Regression Results                            \n",
      "==============================================================================\n",
      "Dep. Variable:                      y   R-squared:                       0.167\n",
      "Model:                            OLS   Adj. R-squared:                  0.166\n",
      "Method:                 Least Squares   F-statistic:                     253.5\n",
      "Date:                Sun, 19 Feb 2023   Prob (F-statistic):          2.01e-296\n",
      "Time:                        14:56:38   Log-Likelihood:                -10557.\n",
      "No. Observations:                7596   AIC:                         2.113e+04\n",
      "Df Residuals:                    7589   BIC:                         2.118e+04\n",
      "Df Model:                           6                                         \n",
      "Covariance Type:            nonrobust                                         \n",
      "====================================================================================\n",
      "                       coef    std err          t      P>|t|      [0.025      0.975]\n",
      "------------------------------------------------------------------------------------\n",
      "const               -1.2968      0.054    -23.914      0.000      -1.403      -1.191\n",
      "danceability         0.6077      0.085      7.111      0.000       0.440       0.775\n",
      "energy               0.3828      0.051      7.529      0.000       0.283       0.482\n",
      "instrumentalness    -0.0661      0.058     -1.131      0.258      -0.181       0.048\n",
      "valence              1.1321      0.059     19.220      0.000       1.017       1.248\n",
      "mode                 0.0997      0.024      4.131      0.000       0.052       0.147\n",
      "compound             0.2293      0.013     17.010      0.000       0.203       0.256\n",
      "==============================================================================\n",
      "Omnibus:                      408.991   Durbin-Watson:                   1.790\n",
      "Prob(Omnibus):                  0.000   Jarque-Bera (JB):              233.161\n",
      "Skew:                          -0.281   Prob(JB):                     2.34e-51\n",
      "Kurtosis:                       2.351   Cond. No.                         14.8\n",
      "==============================================================================\n",
      "\n",
      "Notes:\n",
      "[1] Standard Errors assume that the covariance matrix of the errors is correctly specified.\n",
      "\n",
      "\n",
      "\n",
      "Arousal \n",
      "                             OLS Regression Results                            \n",
      "==============================================================================\n",
      "Dep. Variable:                      y   R-squared:                       0.173\n",
      "Model:                            OLS   Adj. R-squared:                  0.172\n",
      "Method:                 Least Squares   F-statistic:                     264.8\n",
      "Date:                Sun, 19 Feb 2023   Prob (F-statistic):          1.26e-308\n",
      "Time:                        14:56:38   Log-Likelihood:                -9795.1\n",
      "No. Observations:                7596   AIC:                         1.960e+04\n",
      "Df Residuals:                    7589   BIC:                         1.965e+04\n",
      "Df Model:                           6                                         \n",
      "Covariance Type:            nonrobust                                         \n",
      "====================================================================================\n",
      "                       coef    std err          t      P>|t|      [0.025      0.975]\n",
      "------------------------------------------------------------------------------------\n",
      "const               -0.7723      0.049    -15.744      0.000      -0.868      -0.676\n",
      "danceability        -0.3573      0.077     -4.621      0.000      -0.509      -0.206\n",
      "energy               1.3475      0.046     29.298      0.000       1.257       1.438\n",
      "instrumentalness    -0.3080      0.053     -5.824      0.000      -0.412      -0.204\n",
      "valence              0.5385      0.053     10.107      0.000       0.434       0.643\n",
      "mode                 0.1241      0.022      5.684      0.000       0.081       0.167\n",
      "compound            -0.0068      0.012     -0.556      0.578      -0.031       0.017\n",
      "==============================================================================\n",
      "Omnibus:                       48.195   Durbin-Watson:                   1.852\n",
      "Prob(Omnibus):                  0.000   Jarque-Bera (JB):               48.693\n",
      "Skew:                          -0.190   Prob(JB):                     2.67e-11\n",
      "Kurtosis:                       2.899   Cond. No.                         14.8\n",
      "==============================================================================\n",
      "\n",
      "Notes:\n",
      "[1] Standard Errors assume that the covariance matrix of the errors is correctly specified.\n"
     ]
    }
   ],
   "source": [
    "x_cols = ['danceability', 'energy', 'instrumentalness', 'valence','mode','compound']\n",
    "do_regression_sm(x_cols)"
   ]
  },
  {
   "cell_type": "markdown",
   "id": "a2fd75c0",
   "metadata": {},
   "source": [
    "# test with fewer predictors included"
   ]
  },
  {
   "cell_type": "code",
   "execution_count": 21,
   "id": "57a6f2b3",
   "metadata": {},
   "outputs": [
    {
     "name": "stdout",
     "output_type": "stream",
     "text": [
      "r2_train_valence = 0.18294698776318274, r2_train_arousal = 0.17862919862797622, r2_validation_valence = 0.15861176270467903, r2_validation_arousal = 0.19593315452814763\n"
     ]
    }
   ],
   "source": [
    "x_cols = ['danceability', 'energy',\n",
    "       'loudness', 'speechiness', 'acousticness', 'instrumentalness',\n",
    "       'liveness', 'valence', 'tempo','mode', 'key_1',            'key_2',\n",
    "                  'key_3',            'key_4',            'key_5',\n",
    "                  'key_6',            'key_7',            'key_8',\n",
    "                  'key_9',           'key_10',           'key_11',  'neg', 'neu', 'pos',\n",
    "       'compound']\n",
    "do_regression(x_cols)"
   ]
  },
  {
   "cell_type": "code",
   "execution_count": 22,
   "id": "2a6e7dbd",
   "metadata": {},
   "outputs": [
    {
     "name": "stdout",
     "output_type": "stream",
     "text": [
      "r2_train_valence = 0.1367080938767683, r2_train_arousal = 0.13388767572509908, r2_validation_valence = 0.13278411612552665, r2_validation_arousal = 0.16210601674804714\n"
     ]
    }
   ],
   "source": [
    "x_cols = ['danceability',\n",
    "        'speechiness', 'acousticness', 'instrumentalness',\n",
    "       'liveness', 'valence', 'tempo','mode', 'key_1',            'key_2',\n",
    "                  'key_3',            'key_4',            'key_5',\n",
    "                  'key_6',            'key_7',            'key_8',\n",
    "                  'key_9',           'key_10',           'key_11']\n",
    "do_regression(x_cols)"
   ]
  },
  {
   "cell_type": "markdown",
   "id": "a767b1ec",
   "metadata": {},
   "source": [
    "# tree based regression"
   ]
  },
  {
   "cell_type": "code",
   "execution_count": 23,
   "id": "39990589",
   "metadata": {},
   "outputs": [],
   "source": [
    "# regr = RandomForestRegressor(max_depth=2, random_state=0)"
   ]
  },
  {
   "cell_type": "code",
   "execution_count": 24,
   "id": "374e1039",
   "metadata": {},
   "outputs": [],
   "source": [
    "def do_forest_regression(x_cols, include_test = False):\n",
    "    '''x_cols is list of variables'''\n",
    "#     train set\n",
    "    X = df[x_cols].values\n",
    "#     y = df[['y_valence','y_arousal']].values\n",
    "    y_valence = df.y_valence.values \n",
    "    y_arousal = df.y_arousal.values\n",
    "#     validation set\n",
    "    X_vali = df_validation[x_cols].values\n",
    "    y_vali_valence = df_validation.y_valence.values \n",
    "    y_vali_arousal = df_validation.y_arousal.values \n",
    "    \n",
    "#     regr_val = LinearRegression()\n",
    "#     regr_arou = LinearRegression()\n",
    "    regr_val = RandomForestRegressor(max_depth=5, random_state=0, n_estimators = 100)\n",
    "    regr_arou = RandomForestRegressor(max_depth=5, random_state=0, n_estimators = 100)\n",
    "\n",
    "    regr_val.fit(X, y_valence)\n",
    "    regr_arou.fit(X, y_arousal)\n",
    "\n",
    "    r2_train_valence = regr_val.score(X, y_valence)\n",
    "    r2_train_arousal = regr_arou.score(X, y_arousal)\n",
    "    \n",
    "    r2_validation_valence = regr_val.score(X_vali, y_vali_valence)\n",
    "    r2_validation_arousal = regr_arou.score(X_vali, y_vali_arousal)\n",
    "#     r2_vali = regr.score(X_vali, y_vali)\n",
    "#     print(f'{r2_train = }, {r2_vali = }')\n",
    "\n",
    "    if include_test:\n",
    "        X_test = df_test[x_cols].values\n",
    "        y_test_valence = df_test.y_valence.values \n",
    "        y_test_arousal = df_test.y_arousal.values\n",
    "            \n",
    "        r2_test_valence = regr_val.score(X_test, y_test_valence)\n",
    "        r2_test_arousal = regr_arou.score(X_test, y_test_arousal)\n",
    "        print(f'''{r2_train_valence = }, {r2_train_arousal = }, {r2_validation_valence = }, {r2_validation_arousal = }\n",
    "        {r2_test_valence = }, {r2_test_arousal = }''' )\n",
    "        \n",
    "    else:\n",
    "        print(f'{r2_train_valence = }, {r2_train_arousal = }, {r2_validation_valence = }, {r2_validation_arousal = }' )"
   ]
  },
  {
   "cell_type": "code",
   "execution_count": 25,
   "id": "bb4b1367",
   "metadata": {},
   "outputs": [
    {
     "name": "stdout",
     "output_type": "stream",
     "text": [
      "r2_train_valence = 0.2005664851645127, r2_train_arousal = 0.25221678264744885, r2_validation_valence = 0.14127615094085255, r2_validation_arousal = 0.23977103861750926\n"
     ]
    }
   ],
   "source": [
    "x_cols = ['danceability', 'energy',\n",
    "       'loudness', 'speechiness', 'acousticness', 'instrumentalness',\n",
    "       'liveness', 'valence', 'tempo','mode', 'key_1',            'key_2',\n",
    "                  'key_3',            'key_4',            'key_5',\n",
    "                  'key_6',            'key_7',            'key_8',\n",
    "                  'key_9',           'key_10',           'key_11']\n",
    "do_forest_regression(x_cols)"
   ]
  },
  {
   "cell_type": "code",
   "execution_count": 26,
   "id": "d6958976",
   "metadata": {},
   "outputs": [
    {
     "name": "stdout",
     "output_type": "stream",
     "text": [
      "r2_train_valence = 0.2005664851645127, r2_train_arousal = 0.25221678264744885, r2_validation_valence = 0.14127615094085255, r2_validation_arousal = 0.23977103861750926\n"
     ]
    }
   ],
   "source": [
    "x_cols = ['danceability', 'energy',\n",
    "       'loudness', 'speechiness', 'acousticness', 'instrumentalness',\n",
    "       'liveness', 'valence', 'tempo','mode', 'key_1',            'key_2',\n",
    "                  'key_3',            'key_4',            'key_5',\n",
    "                  'key_6',            'key_7',            'key_8',\n",
    "                  'key_9',           'key_10',           'key_11']\n",
    "do_forest_regression(x_cols)"
   ]
  },
  {
   "cell_type": "code",
   "execution_count": 27,
   "id": "cefb1c9d",
   "metadata": {},
   "outputs": [
    {
     "name": "stdout",
     "output_type": "stream",
     "text": [
      "r2_train_valence = 0.18474340857559268, r2_train_arousal = 0.23923679252280172, r2_validation_valence = 0.13408820067146654, r2_validation_arousal = 0.23201656144184113\n"
     ]
    }
   ],
   "source": [
    "x_cols = ['danceability', 'energy', 'instrumentalness', 'valence','mode']\n",
    "do_forest_regression(x_cols)"
   ]
  },
  {
   "cell_type": "markdown",
   "id": "4c5a5b56",
   "metadata": {},
   "source": [
    "# with few variables and sentiment compound."
   ]
  },
  {
   "cell_type": "code",
   "execution_count": 28,
   "id": "f1626176",
   "metadata": {
    "scrolled": true
   },
   "outputs": [
    {
     "name": "stdout",
     "output_type": "stream",
     "text": [
      "r2_train_valence = 0.22256344851138754, r2_train_arousal = 0.24238804063479158, r2_validation_valence = 0.15580344705476623, r2_validation_arousal = 0.2336629170976836\n"
     ]
    }
   ],
   "source": [
    "x_cols = ['danceability', 'energy', 'instrumentalness', 'valence','mode','compound']\n",
    "do_forest_regression(x_cols)"
   ]
  },
  {
   "cell_type": "markdown",
   "id": "95fa07e2",
   "metadata": {},
   "source": [
    "# SVM Regressor"
   ]
  },
  {
   "cell_type": "code",
   "execution_count": 29,
   "id": "c01aa644",
   "metadata": {},
   "outputs": [],
   "source": [
    "from sklearn.svm import SVR\n"
   ]
  },
  {
   "cell_type": "code",
   "execution_count": 30,
   "id": "902d3a00",
   "metadata": {},
   "outputs": [],
   "source": [
    "def do_svr(x_cols):\n",
    "    '''x_cols is list of variables'''\n",
    "#     train set\n",
    "    X = df[x_cols].values\n",
    "#     y = df[['y_valence','y_arousal']].values\n",
    "    y_valence = df.y_valence.values \n",
    "    y_arousal = df.y_arousal.values\n",
    "#     validation set\n",
    "    X_vali = df_validation[x_cols].values\n",
    "    y_vali_valence = df_validation.y_valence.values \n",
    "    y_vali_arousal = df_validation.y_arousal.values \n",
    "\n",
    "#     regr_val = LinearRegression()\n",
    "#     regr_arou = LinearRegression()\n",
    "#     regr_val = RandomForestRegressor(max_depth=5, random_state=0, n_estimators = 100)\n",
    "#     regr_arou = RandomForestRegressor(max_depth=5, random_state=0, n_estimators = 100)\n",
    "    regr_val = SVR(kernel = 'rbf')\n",
    "    regr_arou = SVR(kernel = 'rbf')\n",
    "\n",
    "\n",
    "    regr_val.fit(X, y_valence)\n",
    "    regr_arou.fit(X, y_arousal)\n",
    "\n",
    "    r2_train_valence = regr_val.score(X, y_valence)\n",
    "    r2_train_arousal = regr_arou.score(X, y_arousal)\n",
    "    \n",
    "    r2_validation_valence = regr_val.score(X_vali, y_vali_valence)\n",
    "    r2_validation_arousal = regr_arou.score(X_vali, y_vali_arousal)\n",
    "#     r2_vali = regr.score(X_vali, y_vali)\n",
    "#     print(f'{r2_train = }, {r2_vali = }')\n",
    "    print(f'{r2_train_valence = }, {r2_train_arousal = }, {r2_validation_valence = }, {r2_validation_arousal = }' )"
   ]
  },
  {
   "cell_type": "code",
   "execution_count": 31,
   "id": "9b28983e",
   "metadata": {},
   "outputs": [
    {
     "name": "stdout",
     "output_type": "stream",
     "text": [
      "r2_train_valence = -0.0015759449181369511, r2_train_arousal = 0.1038899101847498, r2_validation_valence = 0.005456162867551573, r2_validation_arousal = 0.12910485342000488\n"
     ]
    }
   ],
   "source": [
    "x_cols = ['danceability', 'energy',\n",
    "       'loudness', 'speechiness', 'acousticness', 'instrumentalness',\n",
    "       'liveness', 'valence', 'tempo','mode', 'key_1',            'key_2',\n",
    "                  'key_3',            'key_4',            'key_5',\n",
    "                  'key_6',            'key_7',            'key_8',\n",
    "                  'key_9',           'key_10',           'key_11']\n",
    "do_svr(x_cols)"
   ]
  },
  {
   "cell_type": "code",
   "execution_count": 32,
   "id": "a009a82c",
   "metadata": {},
   "outputs": [
    {
     "name": "stdout",
     "output_type": "stream",
     "text": [
      "r2_train_valence = 0.12390874532526208, r2_train_arousal = 0.2020767155301968, r2_validation_valence = 0.10639690282489545, r2_validation_arousal = 0.22837832657480706\n"
     ]
    }
   ],
   "source": [
    "x_cols = ['danceability', 'energy', 'instrumentalness', 'valence','mode']\n",
    "\n",
    "do_svr(x_cols)"
   ]
  },
  {
   "cell_type": "code",
   "execution_count": 33,
   "id": "9461332a",
   "metadata": {},
   "outputs": [
    {
     "ename": "NameError",
     "evalue": "name 'X' is not defined",
     "output_type": "error",
     "traceback": [
      "\u001b[0;31m---------------------------------------------------------------------------\u001b[0m",
      "\u001b[0;31mNameError\u001b[0m                                 Traceback (most recent call last)",
      "Input \u001b[0;32mIn [33]\u001b[0m, in \u001b[0;36m<cell line: 3>\u001b[0;34m()\u001b[0m\n\u001b[1;32m      1\u001b[0m \u001b[38;5;28;01mfrom\u001b[39;00m \u001b[38;5;21;01msklearn\u001b[39;00m\u001b[38;5;21;01m.\u001b[39;00m\u001b[38;5;21;01msvm\u001b[39;00m \u001b[38;5;28;01mimport\u001b[39;00m SVR\n\u001b[1;32m      2\u001b[0m regressor \u001b[38;5;241m=\u001b[39m SVR(kernel \u001b[38;5;241m=\u001b[39m \u001b[38;5;124m'\u001b[39m\u001b[38;5;124mrbf\u001b[39m\u001b[38;5;124m'\u001b[39m)\n\u001b[0;32m----> 3\u001b[0m regressor\u001b[38;5;241m.\u001b[39mfit(\u001b[43mX\u001b[49m, y)\n",
      "\u001b[0;31mNameError\u001b[0m: name 'X' is not defined"
     ]
    }
   ],
   "source": [
    "from sklearn.svm import SVR\n",
    "regressor = SVR(kernel = 'rbf')\n",
    "regressor.fit(X, y)"
   ]
  },
  {
   "cell_type": "markdown",
   "id": "3c13030f",
   "metadata": {},
   "source": [
    "# Classification baseline"
   ]
  },
  {
   "cell_type": "code",
   "execution_count": null,
   "id": "88219e29",
   "metadata": {},
   "outputs": [],
   "source": [
    "# create binary classes\n",
    "df['y_val_bin'] = np.sign(df[\"y_valence\"])\n",
    "df['y_arou_bin'] = np.sign(df[\"y_arousal\"])\n",
    "df_validation['y_val_bin'] = np.sign(df_validation[\"y_valence\"])\n",
    "df_validation['y_arou_bin'] = np.sign(df_validation[\"y_arousal\"])"
   ]
  },
  {
   "cell_type": "code",
   "execution_count": null,
   "id": "c0a50d7c",
   "metadata": {},
   "outputs": [],
   "source": [
    "# data = {'y_Actual':    [1, 0, 0, 1, 0, 1, 0, 0, 1, 0, 1, 0],\n",
    "#         'y_Predicted': [1, 1, 0, 1, 0, 1, 1, 0, 1, 0, 0, 0]\n",
    "#         }\n",
    "\n",
    "# df = pd.DataFrame(data, columns=['y_Actual','y_Predicted'])\n",
    "# confusion_matrix = pd.crosstab(df['y_Actual'], df['y_Predicted'], rownames=['Actual'], colnames=['Predicted'])\n",
    "\n",
    "# sn.heatmap(confusion_matrix, annot=True)\n",
    "# # plt.show()"
   ]
  },
  {
   "cell_type": "code",
   "execution_count": null,
   "id": "59ab0268",
   "metadata": {},
   "outputs": [],
   "source": [
    "def do_logistic_regression(x_cols):\n",
    "    '''x_cols is list of variables'''\n",
    "#     train set\n",
    "    X = df[x_cols].values\n",
    "    y_val_bin = df.y_val_bin.values \n",
    "    y_arou_bin = df.y_arou_bin.values\n",
    "#     validation set\n",
    "    X_vali = df_validation[x_cols].values\n",
    "    y_vali_valence = df_validation.y_val_bin.values \n",
    "    y_vali_arousal = df_validation.y_arou_bin.values \n",
    "    \n",
    "#     create logistic classifier\n",
    "    regr_val = LogisticRegression(max_iter = 1000)\n",
    "    regr_arou = LogisticRegression(max_iter = 1000)\n",
    "    \n",
    "#     train model\n",
    "    regr_val.fit(X, y_val_bin)\n",
    "    regr_arou.fit(X, y_arou_bin)\n",
    "\n",
    "#     score model\n",
    "\n",
    "#     train data\n",
    "    r2_train_valence = regr_val.score(X, y_val_bin)\n",
    "    r2_train_arousal = regr_arou.score(X, y_arou_bin)\n",
    "#     validatino data\n",
    "    r2_validation_valence = regr_val.score(X_vali, y_vali_valence)\n",
    "    r2_validation_arousal = regr_arou.score(X_vali, y_vali_arousal)\n",
    "    \n",
    "#     roc aoc validation data\n",
    "    y_score_val = regr_val.predict_proba(X_vali)[:, 1]\n",
    "    y_score_arou = regr_arou.predict_proba(X_vali)[:, 1]\n",
    "    \n",
    "    roc_val = roc_auc_score(y_vali_valence, y_score_val)\n",
    "    roc_arou = roc_auc_score(y_vali_arousal, y_score_arou)\n",
    "    \n",
    "#     f1 score of validation data\n",
    "    y_pred_val = regr_val.predict(X_vali)\n",
    "    y_pred_arou = regr_arou.predict(X_vali)\n",
    "\n",
    "    f1_val = f1_score(y_vali_valence, y_pred_val)\n",
    "    f1_arou = f1_score(y_vali_arousal, y_pred_arou)\n",
    "\n",
    "\n",
    "    print(f'{roc_val= }, {roc_arou = }, {f1_val = }, {f1_arou = }')\n",
    "#     print(f'{r2_train_valence = }, {r2_train_arousal = }, {r2_validation_valence = }, {r2_validation_arousal = }' )\n",
    "\n",
    "#     make heatmap\n",
    "    fig, (ax1,ax2) = plt.subplots(1,2,figsize = (20,10))\n",
    "    confusion_matrix_val = pd.crosstab(y_vali_valence, y_pred_val, rownames=['Actual'], colnames=['Predicted'])\n",
    "    confusion_matrix_arou = pd.crosstab(y_vali_arousal, y_pred_arou, rownames=['Actual'], colnames=['Predicted'])\n",
    "\n",
    "    ax1  = sn.heatmap(confusion_matrix_val, annot=True, ax=ax1)\n",
    "    ax1.set_title('Valence',fontsize = 20)\n",
    "    ax2  = sn.heatmap(confusion_matrix_arou, annot=True,ax=ax2)\n",
    "    ax2.set_title('Arousal',fontsize = 20)\n",
    "\n",
    "#     confusion_matrix_val = pd.crosstab(y_vali_valence, y_pred_val, rownames=['Actual'], colnames=['Predicted'])\n",
    "#     plt.show()"
   ]
  },
  {
   "cell_type": "code",
   "execution_count": null,
   "id": "2bb5fa73",
   "metadata": {},
   "outputs": [],
   "source": [
    "# y_score = clf.predict_proba(X)[:, 1]\n",
    "# roc = roc_auc_score(y, y_score)"
   ]
  },
  {
   "cell_type": "code",
   "execution_count": null,
   "id": "ead97336",
   "metadata": {},
   "outputs": [],
   "source": [
    "x_cols = ['danceability', 'energy',\n",
    "       'loudness', 'speechiness', 'acousticness', 'instrumentalness',\n",
    "       'liveness', 'valence', 'tempo','mode', 'key_1',            'key_2',\n",
    "                  'key_3',            'key_4',            'key_5',\n",
    "                  'key_6',            'key_7',            'key_8',\n",
    "                  'key_9',           'key_10',           'key_11']\n",
    "do_logistic_regression(x_cols)"
   ]
  },
  {
   "cell_type": "code",
   "execution_count": null,
   "id": "4d3bcefd",
   "metadata": {
    "scrolled": false
   },
   "outputs": [],
   "source": [
    "df.head()"
   ]
  },
  {
   "cell_type": "markdown",
   "id": "39ea4d1d",
   "metadata": {},
   "source": [
    "# wordcloud"
   ]
  },
  {
   "cell_type": "code",
   "execution_count": null,
   "id": "b3776580",
   "metadata": {},
   "outputs": [],
   "source": [
    "from wordcloud import WordCloud, STOPWORDS\n",
    "import matplotlib.pyplot as plt"
   ]
  },
  {
   "cell_type": "markdown",
   "id": "51a3ade6",
   "metadata": {},
   "source": [
    "for positive valence"
   ]
  },
  {
   "cell_type": "code",
   "execution_count": null,
   "id": "9b05e0e6",
   "metadata": {},
   "outputs": [],
   "source": [
    "df.y_valence.describe()"
   ]
  },
  {
   "cell_type": "code",
   "execution_count": null,
   "id": "e042da2c",
   "metadata": {},
   "outputs": [],
   "source": [
    "# what are the most frequent words?\n",
    "# text = list(df[df[\"is_irony\"] == True].tweet.values)\n",
    "\n",
    "text_pos_val = list(df[df.y_valence >0.815].lyrics_cleaned.values)\n",
    "wordcloud = WordCloud(stopwords=STOPWORDS).generate(str(text_pos_val))\n",
    "plt.imshow(wordcloud)\n",
    "plt.axis(\"off\")\n",
    "plt.title('text_pos_val',fontsize= 30)\n",
    "plt.show()"
   ]
  },
  {
   "cell_type": "code",
   "execution_count": null,
   "id": "1a4f4ec5",
   "metadata": {
    "scrolled": false
   },
   "outputs": [],
   "source": [
    "text_neg_val = list(df[ df.y_valence < -1.04].lyrics_cleaned.values)\n",
    "wordcloud = WordCloud(stopwords=STOPWORDS).generate(str(text_neg_val))\n",
    "plt.imshow(wordcloud)\n",
    "plt.axis(\"off\")\n",
    "plt.title('text_neg_val',fontsize = 30)\n",
    "plt.show()"
   ]
  },
  {
   "cell_type": "code",
   "execution_count": null,
   "id": "58842e90",
   "metadata": {},
   "outputs": [],
   "source": [
    "text_pos_arou = list(df[df.y_arousal >0].lyrics_cleaned.values)\n",
    "wordcloud = WordCloud(stopwords=STOPWORDS).generate(str(text_pos_arou))\n",
    "plt.imshow(wordcloud)\n",
    "plt.axis(\"off\")\n",
    "plt.title('text_pos_arou',fontsize= 30)\n",
    "plt.show()"
   ]
  },
  {
   "cell_type": "code",
   "execution_count": null,
   "id": "74213c6d",
   "metadata": {},
   "outputs": [],
   "source": [
    "text_neg_arou = list(df[df.y_arousal < 0].lyrics_cleaned.values)\n",
    "wordcloud = WordCloud(stopwords=STOPWORDS).generate(str(text_neg_arou))\n",
    "plt.imshow(wordcloud)\n",
    "plt.axis(\"off\")\n",
    "plt.title('text_neg_arou',fontsize= 30)\n",
    "plt.show()"
   ]
  },
  {
   "cell_type": "code",
   "execution_count": null,
   "id": "b6c4a6f8",
   "metadata": {},
   "outputs": [],
   "source": [
    "text_neg_arou = list(df.lyrics_cleaned.values)\n",
    "wordcloud = WordCloud(stopwords=STOPWORDS).generate(str(text_neg_arou))\n",
    "plt.imshow(wordcloud)\n",
    "plt.axis(\"off\")\n",
    "plt.title('text_neg_arou',fontsize= 30)\n",
    "plt.show()"
   ]
  },
  {
   "cell_type": "code",
   "execution_count": null,
   "id": "fc1c6479",
   "metadata": {},
   "outputs": [],
   "source": []
  },
  {
   "cell_type": "markdown",
   "id": "34b9a3ba",
   "metadata": {},
   "source": [
    "# summary statistics"
   ]
  },
  {
   "cell_type": "code",
   "execution_count": null,
   "id": "bfe30fe6",
   "metadata": {},
   "outputs": [],
   "source": [
    "df.y_valence"
   ]
  },
  {
   "cell_type": "code",
   "execution_count": null,
   "id": "429505c5",
   "metadata": {
    "scrolled": false
   },
   "outputs": [],
   "source": [
    "df.y_valence.describe()"
   ]
  },
  {
   "cell_type": "code",
   "execution_count": null,
   "id": "029ab8d1",
   "metadata": {
    "scrolled": false
   },
   "outputs": [],
   "source": [
    "df.y_arousal.describe()"
   ]
  },
  {
   "cell_type": "code",
   "execution_count": null,
   "id": "495e4f6d",
   "metadata": {},
   "outputs": [],
   "source": [
    "ax = df.y_valence.plot.hist(bins=12, alpha=0.5)"
   ]
  },
  {
   "cell_type": "code",
   "execution_count": null,
   "id": "35ac7989",
   "metadata": {
    "scrolled": true
   },
   "outputs": [],
   "source": [
    "ax = df.y_arousal.plot.hist(bins=12, alpha=0.5)"
   ]
  },
  {
   "cell_type": "code",
   "execution_count": null,
   "id": "7588b937",
   "metadata": {},
   "outputs": [],
   "source": [
    "df_deez = pd.read_csv('deezer_mood_detection_dataset/train.csv')"
   ]
  },
  {
   "cell_type": "code",
   "execution_count": null,
   "id": "726d6dfc",
   "metadata": {
    "scrolled": false
   },
   "outputs": [],
   "source": [
    "df_deez.arousal.plot.hist(bins=12, alpha=0.5)"
   ]
  },
  {
   "cell_type": "code",
   "execution_count": null,
   "id": "bd6365bc",
   "metadata": {},
   "outputs": [],
   "source": [
    "df_deez.valence.plot.hist(bins=12, alpha=0.5)"
   ]
  },
  {
   "cell_type": "code",
   "execution_count": null,
   "id": "0c0e43a0",
   "metadata": {},
   "outputs": [],
   "source": []
  }
 ],
 "metadata": {
  "interpreter": {
   "hash": "ae83aaff4c47202ead0cb5b0cfe74444d437ac818c9c2cd6826845dc75a11708"
  },
  "kernelspec": {
   "display_name": "Python 3 (ipykernel)",
   "language": "python",
   "name": "python3"
  },
  "language_info": {
   "codemirror_mode": {
    "name": "ipython",
    "version": 3
   },
   "file_extension": ".py",
   "mimetype": "text/x-python",
   "name": "python",
   "nbconvert_exporter": "python",
   "pygments_lexer": "ipython3",
   "version": "3.9.16"
  }
 },
 "nbformat": 4,
 "nbformat_minor": 5
}
