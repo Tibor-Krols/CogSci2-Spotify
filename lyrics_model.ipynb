{
 "cells": [
  {
   "cell_type": "code",
   "execution_count": 3,
   "metadata": {},
   "outputs": [],
   "source": [
    "import pandas as pd\n",
    "import numpy as np"
   ]
  },
  {
   "cell_type": "markdown",
   "metadata": {},
   "source": [
    "### Test and Train data "
   ]
  },
  {
   "cell_type": "code",
   "execution_count": 82,
   "metadata": {},
   "outputs": [],
   "source": [
    "data = pd.read_csv('merged_cleaned_sentiment_train.csv', delimiter = ',')\n",
    "data_test = pd.read_csv('merged_cleaned_sentiment_test.csv', delimiter = ',')\n",
    "data_val = pd.read_csv('merged_cleaned_sentiment_validation.csv', delimiter = ',')\n"
   ]
  },
  {
   "cell_type": "markdown",
   "metadata": {},
   "source": [
    "### Basic Model with Vader Sentiment"
   ]
  },
  {
   "cell_type": "code",
   "execution_count": 83,
   "metadata": {},
   "outputs": [],
   "source": [
    "data_features = data[['pos','neg','neu','compound']]\n",
    "data_labels = data[['y_valence', 'y_arousal']]\n",
    "\n",
    "data_features_test = data_test[['pos','neg','neu','compound']]\n",
    "data_labels_test = data_test[['y_valence', 'y_arousal']]\n",
    "\n",
    "data_features_val = data_val[['pos','neg','neu','compound']]\n",
    "data_labels_val = data_val[['y_valence', 'y_arousal']]"
   ]
  },
  {
   "cell_type": "code",
   "execution_count": 84,
   "metadata": {},
   "outputs": [],
   "source": [
    "from sklearn.linear_model import LinearRegression\n",
    "from sklearn.metrics import mean_squared_error\n",
    "from sklearn.metrics import r2_score\n",
    "\n",
    "X_train_vader, y_train = np.array(data_features), np.array(data_labels)\n",
    "X_test_vader, y_test = np.array(data_features_test), np.array(data_labels_test)\n",
    "X_val_vader, y_val = np.array(data_features_val), np.array(data_labels_val)"
   ]
  },
  {
   "cell_type": "code",
   "execution_count": 85,
   "metadata": {},
   "outputs": [
    {
     "name": "stdout",
     "output_type": "stream",
     "text": [
      "0.964540870609685\n",
      "0.022844544146133294\n"
     ]
    }
   ],
   "source": [
    "reg = LinearRegression()\n",
    "reg.fit(X_train_vader,y_train)\n",
    "prediction = reg.predict(X_val_vader)\n",
    "print(mean_squared_error(y_val, prediction))\n",
    "print(r2_score(y_val, prediction))"
   ]
  },
  {
   "cell_type": "markdown",
   "metadata": {},
   "source": [
    "A very high RMSE considering our predicted values go from -1 to 1. The RMSE is half of the range. "
   ]
  },
  {
   "cell_type": "code",
   "execution_count": 30,
   "metadata": {},
   "outputs": [
    {
     "data": {
      "text/plain": [
       "1.1004691164972635"
      ]
     },
     "execution_count": 30,
     "metadata": {},
     "output_type": "execute_result"
    }
   ],
   "source": [
    "np.sum(np.sign(y_val) == np.sign(prediction))/len(y_val)"
   ]
  },
  {
   "cell_type": "markdown",
   "metadata": {},
   "source": [
    "It only guesses the sign (pos/neg) correctly 60% of the time. "
   ]
  },
  {
   "cell_type": "code",
   "execution_count": 32,
   "metadata": {},
   "outputs": [
    {
     "name": "stdout",
     "output_type": "stream",
     "text": [
      "0.022844544146133294\n"
     ]
    }
   ],
   "source": [
    "print(r2_score(y_val, prediction))"
   ]
  },
  {
   "cell_type": "markdown",
   "metadata": {},
   "source": [
    "There is practically no correlation between predicted and actual values. This doesn't work. "
   ]
  },
  {
   "cell_type": "markdown",
   "metadata": {},
   "source": [
    "### Basic Bigram Model with Linear Regression"
   ]
  },
  {
   "cell_type": "code",
   "execution_count": 86,
   "metadata": {},
   "outputs": [],
   "source": [
    "data = pd.read_csv('merged_cleaned_sentiment_train.csv', delimiter = ',')\n",
    "data_test = pd.read_csv('merged_cleaned_sentiment_test.csv', delimiter = ',')\n",
    "data_val = pd.read_csv('merged_cleaned_sentiment_validation.csv', delimiter = ',')\n",
    "\n",
    "\n",
    "data_lyrics_train = np.array(data['lyrics_cleaned'])\n",
    "data_lyrics_test = np.array(data_test['lyrics_cleaned'])\n",
    "data_lyrics_val = np.array(data_val['lyrics_cleaned'])"
   ]
  },
  {
   "cell_type": "code",
   "execution_count": 87,
   "metadata": {},
   "outputs": [],
   "source": [
    "from nltk.stem import WordNetLemmatizer\n",
    "import string\n",
    "\n",
    "def preprocessing(data): \n",
    "    lemmatizer = WordNetLemmatizer()\n",
    "\n",
    "    clean_data = np.full((data.shape), None)\n",
    "\n",
    "    for n, lyrics in enumerate(data):\n",
    "        lyrics = [word.lower().strip(string.punctuation) for word in lyrics.split()]\n",
    "        lyrics = [lemmatizer.lemmatize(word) for word in lyrics]\n",
    "        clean_data[n] = ' '.join(lyrics)\n",
    "\n",
    "    return clean_data\n",
    "        "
   ]
  },
  {
   "cell_type": "code",
   "execution_count": 88,
   "metadata": {},
   "outputs": [],
   "source": [
    "clean_train = preprocessing(data_lyrics_train)\n",
    "clean_test = preprocessing(data_lyrics_test)\n",
    "clean_val = preprocessing(data_lyrics_val)"
   ]
  },
  {
   "cell_type": "code",
   "execution_count": 89,
   "metadata": {},
   "outputs": [],
   "source": [
    "from sklearn.feature_extraction.text import CountVectorizer\n",
    "from sklearn.feature_extraction.text import TfidfVectorizer\n",
    "\n",
    "\n",
    "vectorizer = TfidfVectorizer(analyzer= 'word', ngram_range = (1,1))\n",
    "X_train = vectorizer.fit_transform(clean_train)\n",
    "X_test = vectorizer.transform(clean_test)\n",
    "X_val = vectorizer.transform(clean_val)"
   ]
  },
  {
   "cell_type": "code",
   "execution_count": 98,
   "metadata": {},
   "outputs": [
    {
     "name": "stdout",
     "output_type": "stream",
     "text": [
      "Explained variance: 0.2627423539897459\n"
     ]
    }
   ],
   "source": [
    "from sklearn.decomposition import PCA\n",
    "\n",
    "\n",
    "pca = PCA(n_components = 100)\n",
    "pca.fit(X_train.toarray().astype(float))\n",
    "pca_lyrics_train = pca.transform(X_train.toarray().astype(float))\n",
    "#pca_lyrics_test = pca.transform(X_test.toarray().astype(float))\n",
    "pca_lyrics_val = pca.transform(X_val.toarray().astype(float))\n",
    "print('Explained variance:', np.sum(pca.explained_variance_ratio_))"
   ]
  },
  {
   "cell_type": "code",
   "execution_count": 99,
   "metadata": {},
   "outputs": [
    {
     "name": "stdout",
     "output_type": "stream",
     "text": [
      "0.9363342007432753\n",
      "0.05002834593470934\n"
     ]
    }
   ],
   "source": [
    "reg = LinearRegression()\n",
    "reg.fit(pca_lyrics_train,y_train)\n",
    "prediction = reg.predict(pca_lyrics_val)\n",
    "print(mean_squared_error(y_val, prediction))\n",
    "print(r2_score(y_val, prediction))"
   ]
  },
  {
   "cell_type": "code",
   "execution_count": 35,
   "metadata": {},
   "outputs": [
    {
     "data": {
      "text/plain": [
       "0.6071149335418295"
      ]
     },
     "execution_count": 35,
     "metadata": {},
     "output_type": "execute_result"
    }
   ],
   "source": [
    "np.sum(np.sign(y_val[:,0]) == np.sign(prediction[:,0]))/len(y_val[:,0])"
   ]
  },
  {
   "cell_type": "code",
   "execution_count": 37,
   "metadata": {},
   "outputs": [
    {
     "data": {
      "text/plain": [
       "(7596, 150)"
      ]
     },
     "execution_count": 37,
     "metadata": {},
     "output_type": "execute_result"
    }
   ],
   "source": [
    "y_train.ravel().shape\n",
    "pca_lyrics_train.shape"
   ]
  },
  {
   "cell_type": "code",
   "execution_count": 39,
   "metadata": {},
   "outputs": [
    {
     "name": "stdout",
     "output_type": "stream",
     "text": [
      "0.9589935107457406\n",
      "0.029174813938154243\n"
     ]
    }
   ],
   "source": [
    "from sklearn.ensemble import RandomForestRegressor\n",
    "\n",
    "\n",
    "rf = RandomForestRegressor(n_estimators = 100, max_depth = 10)\n",
    "rf.fit(pca_lyrics_train,y_train)\n",
    "prediction = rf.predict(pca_lyrics_val)\n",
    "print(mean_squared_error(y_val, prediction))\n",
    "print(r2_score(y_val, prediction))"
   ]
  },
  {
   "cell_type": "code",
   "execution_count": 40,
   "metadata": {},
   "outputs": [
    {
     "data": {
      "text/plain": [
       "0.5625488663017982"
      ]
     },
     "execution_count": 40,
     "metadata": {},
     "output_type": "execute_result"
    }
   ],
   "source": [
    "np.sum(np.sign(y_val[:,0]) == np.sign(prediction[:,0]))/len(y_val[:,0])"
   ]
  },
  {
   "cell_type": "code",
   "execution_count": 42,
   "metadata": {},
   "outputs": [
    {
     "name": "stdout",
     "output_type": "stream",
     "text": [
      "0.029174813938154243\n"
     ]
    }
   ],
   "source": [
    "print(r2_score(y_val, prediction))"
   ]
  },
  {
   "cell_type": "code",
   "execution_count": 43,
   "metadata": {},
   "outputs": [
    {
     "name": "stdout",
     "output_type": "stream",
     "text": [
      "1.0038125819331594\n"
     ]
    }
   ],
   "source": [
    "from sklearn.svm import SVR \n",
    "\n",
    "svr = SVR()\n",
    "svr.fit(pca_lyrics_train, y_train[:,0])\n",
    "prediction = svr.predict(pca_lyrics_val)\n",
    "print(mean_squared_error(y_val[:,0], prediction))"
   ]
  },
  {
   "cell_type": "code",
   "execution_count": 44,
   "metadata": {},
   "outputs": [
    {
     "name": "stdout",
     "output_type": "stream",
     "text": [
      "0.0657070289645546\n"
     ]
    }
   ],
   "source": [
    "print(r2_score(y_val[:,0], prediction))"
   ]
  },
  {
   "cell_type": "markdown",
   "metadata": {},
   "source": [
    "Not any better."
   ]
  },
  {
   "cell_type": "code",
   "execution_count": null,
   "metadata": {},
   "outputs": [],
   "source": [
    "from sklearn.neural_network import MLPRegressor\n",
    "\n",
    "regr = MLPRegressor(random_state=1, max_iter=500)\n",
    "regr.fit()"
   ]
  },
  {
   "cell_type": "markdown",
   "metadata": {},
   "source": [
    "### What if we combine the features?"
   ]
  },
  {
   "cell_type": "code",
   "execution_count": 251,
   "metadata": {},
   "outputs": [
    {
     "data": {
      "text/plain": [
       "[3, 4]"
      ]
     },
     "execution_count": 251,
     "metadata": {},
     "output_type": "execute_result"
    }
   ],
   "source": [
    "l = [1,2,3,4]\n",
    "l[2:4]"
   ]
  },
  {
   "cell_type": "code",
   "execution_count": 245,
   "metadata": {},
   "outputs": [],
   "source": [
    "\n"
   ]
  },
  {
   "cell_type": "code",
   "execution_count": 243,
   "metadata": {},
   "outputs": [
    {
     "name": "stdout",
     "output_type": "stream",
     "text": [
      "0.9475239380678898\n",
      "0.14591140686550552\n"
     ]
    }
   ],
   "source": [
    "reg = LinearRegression()\n",
    "reg.fit(X_train,y_train)\n",
    "prediction = reg.predict(X_test)\n",
    "print(mean_squared_error(y_test, prediction))\n",
    "print(r2_score(y_test, prediction))"
   ]
  },
  {
   "cell_type": "markdown",
   "metadata": {},
   "source": [
    "### What about ANEW features? \n",
    "\n",
    "This way we isolate important words."
   ]
  },
  {
   "cell_type": "code",
   "execution_count": 46,
   "metadata": {},
   "outputs": [
    {
     "data": {
      "text/plain": [
       "<git.repo.base.Repo '/Users/yananikolova/Documents/GitHub/CogSci2-Spotify/anew/.git'>"
      ]
     },
     "execution_count": 46,
     "metadata": {},
     "output_type": "execute_result"
    }
   ],
   "source": [
    "from git import Repo\n",
    "from pathlib import Path\n",
    "\n",
    "Repo.clone_from('https://github.com/JULIELab/X-ANEW.git', Path.home()/'Documents/GitHub/CogSci2-Spotify/anew')"
   ]
  },
  {
   "cell_type": "code",
   "execution_count": 47,
   "metadata": {},
   "outputs": [],
   "source": [
    "xanew = pd.read_csv('anew/Ratings_Warriner_et_al.csv', delimiter = ',')"
   ]
  },
  {
   "cell_type": "code",
   "execution_count": 48,
   "metadata": {},
   "outputs": [
    {
     "data": {
      "text/plain": [
       "13915"
      ]
     },
     "execution_count": 48,
     "metadata": {},
     "output_type": "execute_result"
    }
   ],
   "source": [
    "xanew = xanew[['Word', 'V.Mean.Sum', 'A.Mean.Sum']]\n",
    "xanew.columns = ['word', 'valence', 'arousal']\n",
    "xanew.set_index('word', inplace=True)\n",
    "len(xanew)"
   ]
  },
  {
   "cell_type": "code",
   "execution_count": 99,
   "metadata": {},
   "outputs": [],
   "source": [
    "data_lyrics_train = np.array(data['lyrics_cleaned'])\n",
    "data_lyrics_test = np.array(data_test['lyrics_cleaned'])\n",
    "clean_train = preprocessing(data_lyrics_train)\n",
    "clean_test = preprocessing(data_lyrics_test)"
   ]
  },
  {
   "cell_type": "code",
   "execution_count": 165,
   "metadata": {},
   "outputs": [],
   "source": [
    "y_train = np.array(data[['y_valence', 'y_arousal']])\n",
    "y_test = np.array(data_test[['y_valence', 'y_arousal']])"
   ]
  },
  {
   "cell_type": "code",
   "execution_count": 49,
   "metadata": {},
   "outputs": [],
   "source": [
    "from sklearn.feature_extraction.text import CountVectorizer\n",
    "\n",
    "ewords = [str(el) for el in list(xanew.index)]\n",
    "\n",
    "vectorizer = CountVectorizer(vocabulary = ewords)\n",
    "X_train = vectorizer.transform(clean_train)\n",
    "X_test  = vectorizer.transform(clean_test)\n",
    "X_val = vectorizer.transform(clean_val)"
   ]
  },
  {
   "cell_type": "code",
   "execution_count": 101,
   "metadata": {},
   "outputs": [
    {
     "data": {
      "text/plain": [
       "13915"
      ]
     },
     "execution_count": 101,
     "metadata": {},
     "output_type": "execute_result"
    }
   ],
   "source": [
    "len(np.intersect1d(vectorizer.get_feature_names_out(), xanew.index.tolist()))"
   ]
  },
  {
   "cell_type": "code",
   "execution_count": 52,
   "metadata": {},
   "outputs": [
    {
     "data": {
      "text/plain": [
       "(13915,)"
      ]
     },
     "execution_count": 52,
     "metadata": {},
     "output_type": "execute_result"
    }
   ],
   "source": [
    "xanew_t = np.array(xanew.T)\n",
    "xanew_t[0].shape"
   ]
  },
  {
   "cell_type": "code",
   "execution_count": 53,
   "metadata": {},
   "outputs": [],
   "source": [
    "def get_anew(arr):\n",
    "\n",
    "    valence = lambda x : x * xanew_t[0]\n",
    "    arousal = lambda x : x * xanew_t[1]\n",
    "\n",
    "    X_train_valence = np.apply_along_axis(valence, 1, arr.toarray())\n",
    "    X_train_arousal = np.apply_along_axis(arousal, 1, arr.toarray())\n",
    "\n",
    "    return X_train_valence, X_train_arousal\n",
    "\n"
   ]
  },
  {
   "cell_type": "code",
   "execution_count": 54,
   "metadata": {},
   "outputs": [],
   "source": [
    "X_train_valence, X_train_arousal = get_anew(X_train)"
   ]
  },
  {
   "cell_type": "code",
   "execution_count": 55,
   "metadata": {},
   "outputs": [
    {
     "name": "stdout",
     "output_type": "stream",
     "text": [
      "Explained variance: 0.6822292054526604\n",
      "Explained variance: 0.6181261873441799\n"
     ]
    }
   ],
   "source": [
    "from sklearn.decomposition import PCA\n",
    "\n",
    "pca_v = PCA(n_components = 100)\n",
    "pca_a = PCA(n_components = 100)\n",
    "pca_v.fit(X_train_valence)\n",
    "pca_a.fit(X_train_arousal)\n",
    "pca_v_train = pca_v.transform(X_train_valence)\n",
    "pca_a_train = pca_a.transform(X_train_arousal)\n",
    "print('Explained variance:', np.sum(pca_v.explained_variance_ratio_))\n",
    "print('Explained variance:', np.sum(pca_a.explained_variance_ratio_))\n",
    "\n"
   ]
  },
  {
   "cell_type": "code",
   "execution_count": 56,
   "metadata": {},
   "outputs": [],
   "source": [
    "pca_com = np.concatenate((pca_v_train, pca_a_train), axis = 1)"
   ]
  },
  {
   "cell_type": "code",
   "execution_count": 63,
   "metadata": {},
   "outputs": [],
   "source": [
    "X_val_valence, X_val_arousal = get_anew(X_val)\n",
    "#pca_v_test = pca_v.transform(X_test_valence)\n",
    "#pca_a_test = pca_a.transform(X_test_arousal)\n",
    "pca_v_val = pca_v.transform(X_val_valence)\n",
    "pca_a_val = pca_v.transform(X_val_arousal)"
   ]
  },
  {
   "cell_type": "code",
   "execution_count": 64,
   "metadata": {},
   "outputs": [],
   "source": [
    "pca_com_val = np.concatenate((pca_v_val, pca_a_val), axis = 1)"
   ]
  },
  {
   "cell_type": "code",
   "execution_count": 200,
   "metadata": {},
   "outputs": [
    {
     "name": "stdout",
     "output_type": "stream",
     "text": [
      "0.9547663742213413\n",
      "0.04946786621887078\n"
     ]
    }
   ],
   "source": [
    "from sklearn.linear_model import LinearRegression\n",
    "from sklearn.metrics import mean_squared_error\n",
    "from sklearn.metrics import r2_score\n",
    "\n",
    "\n",
    "reg = LinearRegression()\n",
    "reg.fit(pca_com,y_train)\n",
    "prediction = reg.predict(pca_com_test)\n",
    "print(mean_squared_error(y_test, prediction))\n",
    "print(r2_score(y_test, prediction))"
   ]
  },
  {
   "cell_type": "code",
   "execution_count": 194,
   "metadata": {},
   "outputs": [
    {
     "name": "stdout",
     "output_type": "stream",
     "text": [
      "0.961871232676422\n",
      "0.04433276316719542\n"
     ]
    }
   ],
   "source": [
    "from sklearn.ensemble import RandomForestRegressor\n",
    "\n",
    "scaler = pre.StandardScaler()\n",
    "pca_com = scaler.fit_transform(pca_com)\n",
    "pca_com_test = scaler.fit_transform(pca_com_test)\n",
    "\n",
    "\n",
    "rf = RandomForestRegressor(n_estimators = 100, max_depth = 10)\n",
    "rf.fit(pca_com, y_train)\n",
    "prediction = rf.predict(pca_com_test)\n",
    "print(mean_squared_error(y_test, prediction))\n",
    "print(r2_score(y_test, prediction))"
   ]
  },
  {
   "cell_type": "code",
   "execution_count": 183,
   "metadata": {},
   "outputs": [
    {
     "data": {
      "text/plain": [
       "0.5944898837709858"
      ]
     },
     "execution_count": 183,
     "metadata": {},
     "output_type": "execute_result"
    }
   ],
   "source": [
    "np.sum(np.sign(y_test[:,0]) == np.sign(prediction[:,0]))/len(y_test[:,0])"
   ]
  },
  {
   "cell_type": "code",
   "execution_count": 193,
   "metadata": {},
   "outputs": [
    {
     "name": "stdout",
     "output_type": "stream",
     "text": [
      "1.6329620469333808\n",
      "-0.6245561967475374\n"
     ]
    }
   ],
   "source": [
    "from sklearn.neural_network import MLPRegressor\n",
    "from sklearn import preprocessing as pre\n",
    "\n",
    "scaler = pre.StandardScaler()\n",
    "X_train_scaled = scaler.fit_transform(pca_com)\n",
    "X_test_scaled = scaler.fit_transform(pca_com_test)\n",
    "\n",
    "\n",
    "regr = MLPRegressor(random_state=3, max_iter=500)\n",
    "regr.fit(X_train_scaled, y_train)\n",
    "prediction = regr.predict(X_test_scaled)\n",
    "print(mean_squared_error(y_test, prediction))\n",
    "print(r2_score(y_test, prediction))\n",
    "\n"
   ]
  },
  {
   "cell_type": "code",
   "execution_count": null,
   "metadata": {},
   "outputs": [],
   "source": [
    "X_train = np.concatenate([X_train_vader, pca_lyrics_train, ], axis = 1)\n",
    "X_test = np.concatenate([X_test_vader, pca_lyrics_test, pca_com_test], axis = 1)\n",
    "\n",
    "\n",
    "np.savetxt('lyrics_features_train.csv', X_train, delimiter = ',')\n",
    "np.savetxt('lyrics_features_test.csv', X_test, delimiter = ',')"
   ]
  },
  {
   "cell_type": "code",
   "execution_count": 67,
   "metadata": {},
   "outputs": [
    {
     "data": {
      "text/plain": [
       "(2558, 4)"
      ]
     },
     "execution_count": 67,
     "metadata": {},
     "output_type": "execute_result"
    }
   ],
   "source": [
    "X_val_vader.shape"
   ]
  },
  {
   "cell_type": "code",
   "execution_count": 68,
   "metadata": {},
   "outputs": [
    {
     "data": {
      "text/plain": [
       "(2558, 150)"
      ]
     },
     "execution_count": 68,
     "metadata": {},
     "output_type": "execute_result"
    }
   ],
   "source": [
    "pca_lyrics_val.shape"
   ]
  },
  {
   "cell_type": "code",
   "execution_count": 69,
   "metadata": {},
   "outputs": [
    {
     "data": {
      "text/plain": [
       "(2558, 200)"
      ]
     },
     "execution_count": 69,
     "metadata": {},
     "output_type": "execute_result"
    }
   ],
   "source": [
    "pca_com_val.shape"
   ]
  },
  {
   "cell_type": "code",
   "execution_count": 73,
   "metadata": {},
   "outputs": [],
   "source": [
    "X_val = np.concatenate([X_val_vader, pca_lyrics_val, pca_com_val], axis = 1)\n",
    "np.savetxt('lyrics_features_val.csv', X_val, delimiter = ',')"
   ]
  },
  {
   "cell_type": "code",
   "execution_count": 121,
   "metadata": {},
   "outputs": [
    {
     "name": "stdout",
     "output_type": "stream",
     "text": [
      "(2558, 4)\n"
     ]
    }
   ],
   "source": [
    "print(X_val_vader.shape)"
   ]
  },
  {
   "cell_type": "code",
   "execution_count": 122,
   "metadata": {},
   "outputs": [
    {
     "name": "stdout",
     "output_type": "stream",
     "text": [
      "(2558, 100)\n"
     ]
    }
   ],
   "source": [
    "print(pca_lyrics_val.shape)"
   ]
  },
  {
   "cell_type": "code",
   "execution_count": 123,
   "metadata": {},
   "outputs": [
    {
     "name": "stdout",
     "output_type": "stream",
     "text": [
      "(2558, 200)\n"
     ]
    }
   ],
   "source": [
    "print(pca_com_val.shape)"
   ]
  },
  {
   "cell_type": "markdown",
   "metadata": {},
   "source": [
    "### Now trying basic stylistic features"
   ]
  },
  {
   "cell_type": "code",
   "execution_count": null,
   "metadata": {},
   "outputs": [],
   "source": []
  },
  {
   "cell_type": "code",
   "execution_count": null,
   "metadata": {},
   "outputs": [],
   "source": []
  },
  {
   "cell_type": "code",
   "execution_count": 26,
   "metadata": {},
   "outputs": [],
   "source": [
    "from nltk.stem import WordNetLemmatizer\n",
    " \n",
    "lemmatizer = WordNetLemmatizer()"
   ]
  },
  {
   "cell_type": "code",
   "execution_count": 52,
   "metadata": {},
   "outputs": [
    {
     "name": "stderr",
     "output_type": "stream",
     "text": [
      "[nltk_data] Downloading package omw-1.4 to\n",
      "[nltk_data]     /Users/yananikolova/nltk_data...\n",
      "[nltk_data]   Unzipping corpora/omw-1.4.zip.\n"
     ]
    },
    {
     "data": {
      "text/plain": [
       "True"
      ]
     },
     "execution_count": 52,
     "metadata": {},
     "output_type": "execute_result"
    }
   ],
   "source": [
    "import nltk as nltk\n",
    "nltk.download('omw-1.4')"
   ]
  },
  {
   "cell_type": "code",
   "execution_count": 29,
   "metadata": {},
   "outputs": [],
   "source": [
    "tokens = set(lemmatizer.lemmatize(word.lower()) for word in data_lyrics_train[22].split(' '))"
   ]
  },
  {
   "cell_type": "code",
   "execution_count": 30,
   "metadata": {},
   "outputs": [
    {
     "name": "stdout",
     "output_type": "stream",
     "text": [
      "['one', 'art', 'matter', 'boyfriend', 'shine', 'will', 'confused', 'dude', 'wall', 'mind', 'dough', 'be', 'god', 'door', 'faithful', 'like', 'dime', 'hold', 'see', 'fair', 'show', 'money', 'masterpiece', 'fine', 'walk', 'hell', 'gallery', 'whole', 'breathe', 'love', 'ignore', 'time', 'let', 'wrist', 'close', 'know', 'reason', 'adore', 'priceless', 'appreciate', 'do', 'find', 'use', 'mold', 'take', 'work', 'lung', 'hard', 'tell', 'beauty', 'kind', 'way']\n"
     ]
    }
   ],
   "source": [
    "tokens = set(lemmatizer.lemmatize(word.lower()) for word in data_lyrics_train[22].split(' '))\n",
    "affective_words = list(set(xanew.index).intersection(tokens))\n",
    "print(affective_words)"
   ]
  },
  {
   "cell_type": "code",
   "execution_count": 31,
   "metadata": {},
   "outputs": [
    {
     "data": {
      "text/html": [
       "<div>\n",
       "<style scoped>\n",
       "    .dataframe tbody tr th:only-of-type {\n",
       "        vertical-align: middle;\n",
       "    }\n",
       "\n",
       "    .dataframe tbody tr th {\n",
       "        vertical-align: top;\n",
       "    }\n",
       "\n",
       "    .dataframe thead th {\n",
       "        text-align: right;\n",
       "    }\n",
       "</style>\n",
       "<table border=\"1\" class=\"dataframe\">\n",
       "  <thead>\n",
       "    <tr style=\"text-align: right;\">\n",
       "      <th></th>\n",
       "      <th>valence</th>\n",
       "      <th>arousal</th>\n",
       "    </tr>\n",
       "    <tr>\n",
       "      <th>word</th>\n",
       "      <th></th>\n",
       "      <th></th>\n",
       "    </tr>\n",
       "  </thead>\n",
       "  <tbody>\n",
       "    <tr>\n",
       "      <th>one</th>\n",
       "      <td>6.09</td>\n",
       "      <td>2.67</td>\n",
       "    </tr>\n",
       "    <tr>\n",
       "      <th>art</th>\n",
       "      <td>6.85</td>\n",
       "      <td>4.48</td>\n",
       "    </tr>\n",
       "    <tr>\n",
       "      <th>matter</th>\n",
       "      <td>5.82</td>\n",
       "      <td>4.05</td>\n",
       "    </tr>\n",
       "    <tr>\n",
       "      <th>boyfriend</th>\n",
       "      <td>7.06</td>\n",
       "      <td>4.90</td>\n",
       "    </tr>\n",
       "    <tr>\n",
       "      <th>shine</th>\n",
       "      <td>7.27</td>\n",
       "      <td>5.19</td>\n",
       "    </tr>\n",
       "    <tr>\n",
       "      <th>will</th>\n",
       "      <td>5.32</td>\n",
       "      <td>2.90</td>\n",
       "    </tr>\n",
       "    <tr>\n",
       "      <th>confused</th>\n",
       "      <td>3.11</td>\n",
       "      <td>4.28</td>\n",
       "    </tr>\n",
       "    <tr>\n",
       "      <th>dude</th>\n",
       "      <td>5.91</td>\n",
       "      <td>3.81</td>\n",
       "    </tr>\n",
       "    <tr>\n",
       "      <th>wall</th>\n",
       "      <td>5.06</td>\n",
       "      <td>2.90</td>\n",
       "    </tr>\n",
       "    <tr>\n",
       "      <th>mind</th>\n",
       "      <td>6.70</td>\n",
       "      <td>5.05</td>\n",
       "    </tr>\n",
       "    <tr>\n",
       "      <th>dough</th>\n",
       "      <td>6.00</td>\n",
       "      <td>4.10</td>\n",
       "    </tr>\n",
       "    <tr>\n",
       "      <th>be</th>\n",
       "      <td>6.18</td>\n",
       "      <td>3.43</td>\n",
       "    </tr>\n",
       "    <tr>\n",
       "      <th>god</th>\n",
       "      <td>5.90</td>\n",
       "      <td>5.56</td>\n",
       "    </tr>\n",
       "    <tr>\n",
       "      <th>door</th>\n",
       "      <td>5.43</td>\n",
       "      <td>3.19</td>\n",
       "    </tr>\n",
       "    <tr>\n",
       "      <th>faithful</th>\n",
       "      <td>7.95</td>\n",
       "      <td>4.48</td>\n",
       "    </tr>\n",
       "    <tr>\n",
       "      <th>like</th>\n",
       "      <td>7.44</td>\n",
       "      <td>4.40</td>\n",
       "    </tr>\n",
       "    <tr>\n",
       "      <th>dime</th>\n",
       "      <td>5.58</td>\n",
       "      <td>3.52</td>\n",
       "    </tr>\n",
       "    <tr>\n",
       "      <th>hold</th>\n",
       "      <td>6.05</td>\n",
       "      <td>4.86</td>\n",
       "    </tr>\n",
       "    <tr>\n",
       "      <th>see</th>\n",
       "      <td>6.27</td>\n",
       "      <td>3.90</td>\n",
       "    </tr>\n",
       "    <tr>\n",
       "      <th>fair</th>\n",
       "      <td>7.14</td>\n",
       "      <td>3.29</td>\n",
       "    </tr>\n",
       "    <tr>\n",
       "      <th>show</th>\n",
       "      <td>5.91</td>\n",
       "      <td>4.10</td>\n",
       "    </tr>\n",
       "    <tr>\n",
       "      <th>money</th>\n",
       "      <td>7.10</td>\n",
       "      <td>6.86</td>\n",
       "    </tr>\n",
       "    <tr>\n",
       "      <th>masterpiece</th>\n",
       "      <td>7.14</td>\n",
       "      <td>4.70</td>\n",
       "    </tr>\n",
       "    <tr>\n",
       "      <th>fine</th>\n",
       "      <td>6.50</td>\n",
       "      <td>3.86</td>\n",
       "    </tr>\n",
       "    <tr>\n",
       "      <th>walk</th>\n",
       "      <td>6.77</td>\n",
       "      <td>3.24</td>\n",
       "    </tr>\n",
       "    <tr>\n",
       "      <th>hell</th>\n",
       "      <td>2.55</td>\n",
       "      <td>6.26</td>\n",
       "    </tr>\n",
       "    <tr>\n",
       "      <th>gallery</th>\n",
       "      <td>6.90</td>\n",
       "      <td>3.32</td>\n",
       "    </tr>\n",
       "    <tr>\n",
       "      <th>whole</th>\n",
       "      <td>5.86</td>\n",
       "      <td>3.48</td>\n",
       "    </tr>\n",
       "    <tr>\n",
       "      <th>breathe</th>\n",
       "      <td>7.17</td>\n",
       "      <td>2.60</td>\n",
       "    </tr>\n",
       "    <tr>\n",
       "      <th>love</th>\n",
       "      <td>8.00</td>\n",
       "      <td>5.36</td>\n",
       "    </tr>\n",
       "    <tr>\n",
       "      <th>ignore</th>\n",
       "      <td>3.33</td>\n",
       "      <td>3.80</td>\n",
       "    </tr>\n",
       "    <tr>\n",
       "      <th>time</th>\n",
       "      <td>5.60</td>\n",
       "      <td>3.41</td>\n",
       "    </tr>\n",
       "    <tr>\n",
       "      <th>let</th>\n",
       "      <td>5.95</td>\n",
       "      <td>2.71</td>\n",
       "    </tr>\n",
       "    <tr>\n",
       "      <th>wrist</th>\n",
       "      <td>5.06</td>\n",
       "      <td>3.27</td>\n",
       "    </tr>\n",
       "    <tr>\n",
       "      <th>close</th>\n",
       "      <td>5.23</td>\n",
       "      <td>3.81</td>\n",
       "    </tr>\n",
       "    <tr>\n",
       "      <th>know</th>\n",
       "      <td>6.82</td>\n",
       "      <td>3.24</td>\n",
       "    </tr>\n",
       "    <tr>\n",
       "      <th>reason</th>\n",
       "      <td>6.27</td>\n",
       "      <td>3.33</td>\n",
       "    </tr>\n",
       "    <tr>\n",
       "      <th>adore</th>\n",
       "      <td>7.37</td>\n",
       "      <td>5.96</td>\n",
       "    </tr>\n",
       "    <tr>\n",
       "      <th>priceless</th>\n",
       "      <td>6.95</td>\n",
       "      <td>5.23</td>\n",
       "    </tr>\n",
       "    <tr>\n",
       "      <th>appreciate</th>\n",
       "      <td>7.33</td>\n",
       "      <td>3.10</td>\n",
       "    </tr>\n",
       "    <tr>\n",
       "      <th>do</th>\n",
       "      <td>5.41</td>\n",
       "      <td>3.67</td>\n",
       "    </tr>\n",
       "    <tr>\n",
       "      <th>find</th>\n",
       "      <td>6.45</td>\n",
       "      <td>3.52</td>\n",
       "    </tr>\n",
       "    <tr>\n",
       "      <th>use</th>\n",
       "      <td>5.18</td>\n",
       "      <td>4.19</td>\n",
       "    </tr>\n",
       "    <tr>\n",
       "      <th>mold</th>\n",
       "      <td>2.71</td>\n",
       "      <td>3.77</td>\n",
       "    </tr>\n",
       "    <tr>\n",
       "      <th>take</th>\n",
       "      <td>4.82</td>\n",
       "      <td>4.52</td>\n",
       "    </tr>\n",
       "    <tr>\n",
       "      <th>work</th>\n",
       "      <td>5.05</td>\n",
       "      <td>4.33</td>\n",
       "    </tr>\n",
       "    <tr>\n",
       "      <th>lung</th>\n",
       "      <td>4.84</td>\n",
       "      <td>2.64</td>\n",
       "    </tr>\n",
       "    <tr>\n",
       "      <th>hard</th>\n",
       "      <td>4.35</td>\n",
       "      <td>4.50</td>\n",
       "    </tr>\n",
       "    <tr>\n",
       "      <th>tell</th>\n",
       "      <td>5.27</td>\n",
       "      <td>3.86</td>\n",
       "    </tr>\n",
       "    <tr>\n",
       "      <th>beauty</th>\n",
       "      <td>7.58</td>\n",
       "      <td>4.89</td>\n",
       "    </tr>\n",
       "    <tr>\n",
       "      <th>kind</th>\n",
       "      <td>7.78</td>\n",
       "      <td>3.19</td>\n",
       "    </tr>\n",
       "    <tr>\n",
       "      <th>way</th>\n",
       "      <td>5.91</td>\n",
       "      <td>2.90</td>\n",
       "    </tr>\n",
       "  </tbody>\n",
       "</table>\n",
       "</div>"
      ],
      "text/plain": [
       "             valence  arousal\n",
       "word                         \n",
       "one             6.09     2.67\n",
       "art             6.85     4.48\n",
       "matter          5.82     4.05\n",
       "boyfriend       7.06     4.90\n",
       "shine           7.27     5.19\n",
       "will            5.32     2.90\n",
       "confused        3.11     4.28\n",
       "dude            5.91     3.81\n",
       "wall            5.06     2.90\n",
       "mind            6.70     5.05\n",
       "dough           6.00     4.10\n",
       "be              6.18     3.43\n",
       "god             5.90     5.56\n",
       "door            5.43     3.19\n",
       "faithful        7.95     4.48\n",
       "like            7.44     4.40\n",
       "dime            5.58     3.52\n",
       "hold            6.05     4.86\n",
       "see             6.27     3.90\n",
       "fair            7.14     3.29\n",
       "show            5.91     4.10\n",
       "money           7.10     6.86\n",
       "masterpiece     7.14     4.70\n",
       "fine            6.50     3.86\n",
       "walk            6.77     3.24\n",
       "hell            2.55     6.26\n",
       "gallery         6.90     3.32\n",
       "whole           5.86     3.48\n",
       "breathe         7.17     2.60\n",
       "love            8.00     5.36\n",
       "ignore          3.33     3.80\n",
       "time            5.60     3.41\n",
       "let             5.95     2.71\n",
       "wrist           5.06     3.27\n",
       "close           5.23     3.81\n",
       "know            6.82     3.24\n",
       "reason          6.27     3.33\n",
       "adore           7.37     5.96\n",
       "priceless       6.95     5.23\n",
       "appreciate      7.33     3.10\n",
       "do              5.41     3.67\n",
       "find            6.45     3.52\n",
       "use             5.18     4.19\n",
       "mold            2.71     3.77\n",
       "take            4.82     4.52\n",
       "work            5.05     4.33\n",
       "lung            4.84     2.64\n",
       "hard            4.35     4.50\n",
       "tell            5.27     3.86\n",
       "beauty          7.58     4.89\n",
       "kind            7.78     3.19\n",
       "way             5.91     2.90"
      ]
     },
     "execution_count": 31,
     "metadata": {},
     "output_type": "execute_result"
    }
   ],
   "source": [
    "xanew.loc[affective_words]"
   ]
  },
  {
   "cell_type": "markdown",
   "metadata": {},
   "source": [
    "!pip install vaderSentiment"
   ]
  },
  {
   "cell_type": "code",
   "execution_count": null,
   "metadata": {},
   "outputs": [],
   "source": []
  },
  {
   "cell_type": "code",
   "execution_count": 82,
   "metadata": {},
   "outputs": [],
   "source": [
    "from vaderSentiment.vaderSentiment import SentimentIntensityAnalyzer\n",
    "analyzer = SentimentIntensityAnalyzer()"
   ]
  },
  {
   "cell_type": "code",
   "execution_count": 105,
   "metadata": {},
   "outputs": [
    {
     "data": {
      "text/plain": [
       "{'neg': 0.114, 'neu': 0.834, 'pos': 0.052, 'compound': -0.9061}"
      ]
     },
     "execution_count": 105,
     "metadata": {},
     "output_type": "execute_result"
    }
   ],
   "source": [
    "analyzer.polarity_scores(tester.iloc[22])"
   ]
  },
  {
   "cell_type": "code",
   "execution_count": 94,
   "metadata": {},
   "outputs": [
    {
     "data": {
      "text/html": [
       "<div>\n",
       "<style scoped>\n",
       "    .dataframe tbody tr th:only-of-type {\n",
       "        vertical-align: middle;\n",
       "    }\n",
       "\n",
       "    .dataframe tbody tr th {\n",
       "        vertical-align: top;\n",
       "    }\n",
       "\n",
       "    .dataframe thead th {\n",
       "        text-align: right;\n",
       "    }\n",
       "</style>\n",
       "<table border=\"1\" class=\"dataframe\">\n",
       "  <thead>\n",
       "    <tr style=\"text-align: right;\">\n",
       "      <th></th>\n",
       "      <th>y_valence</th>\n",
       "      <th>y_arousal</th>\n",
       "    </tr>\n",
       "  </thead>\n",
       "  <tbody>\n",
       "    <tr>\n",
       "      <th>0</th>\n",
       "      <td>-1.176640</td>\n",
       "      <td>-0.314720</td>\n",
       "    </tr>\n",
       "    <tr>\n",
       "      <th>1</th>\n",
       "      <td>-0.780962</td>\n",
       "      <td>-0.789480</td>\n",
       "    </tr>\n",
       "    <tr>\n",
       "      <th>2</th>\n",
       "      <td>-0.767318</td>\n",
       "      <td>0.911361</td>\n",
       "    </tr>\n",
       "    <tr>\n",
       "      <th>3</th>\n",
       "      <td>-1.487725</td>\n",
       "      <td>-0.360813</td>\n",
       "    </tr>\n",
       "    <tr>\n",
       "      <th>4</th>\n",
       "      <td>1.071901</td>\n",
       "      <td>0.846830</td>\n",
       "    </tr>\n",
       "    <tr>\n",
       "      <th>5</th>\n",
       "      <td>-1.935250</td>\n",
       "      <td>-0.655810</td>\n",
       "    </tr>\n",
       "    <tr>\n",
       "      <th>6</th>\n",
       "      <td>0.815393</td>\n",
       "      <td>0.662457</td>\n",
       "    </tr>\n",
       "    <tr>\n",
       "      <th>7</th>\n",
       "      <td>-0.363454</td>\n",
       "      <td>-0.487569</td>\n",
       "    </tr>\n",
       "    <tr>\n",
       "      <th>8</th>\n",
       "      <td>1.178325</td>\n",
       "      <td>1.183311</td>\n",
       "    </tr>\n",
       "    <tr>\n",
       "      <th>9</th>\n",
       "      <td>-1.935250</td>\n",
       "      <td>-0.655810</td>\n",
       "    </tr>\n",
       "    <tr>\n",
       "      <th>10</th>\n",
       "      <td>-0.431674</td>\n",
       "      <td>0.095510</td>\n",
       "    </tr>\n",
       "    <tr>\n",
       "      <th>11</th>\n",
       "      <td>-0.639974</td>\n",
       "      <td>0.309076</td>\n",
       "    </tr>\n",
       "    <tr>\n",
       "      <th>12</th>\n",
       "      <td>1.050071</td>\n",
       "      <td>1.049640</td>\n",
       "    </tr>\n",
       "    <tr>\n",
       "      <th>13</th>\n",
       "      <td>-1.700572</td>\n",
       "      <td>1.842444</td>\n",
       "    </tr>\n",
       "    <tr>\n",
       "      <th>14</th>\n",
       "      <td>-0.869194</td>\n",
       "      <td>0.508813</td>\n",
       "    </tr>\n",
       "    <tr>\n",
       "      <th>15</th>\n",
       "      <td>-1.744233</td>\n",
       "      <td>1.335419</td>\n",
       "    </tr>\n",
       "    <tr>\n",
       "      <th>16</th>\n",
       "      <td>-1.092047</td>\n",
       "      <td>0.019456</td>\n",
       "    </tr>\n",
       "    <tr>\n",
       "      <th>17</th>\n",
       "      <td>-1.400403</td>\n",
       "      <td>1.538229</td>\n",
       "    </tr>\n",
       "    <tr>\n",
       "      <th>18</th>\n",
       "      <td>-0.650889</td>\n",
       "      <td>0.149286</td>\n",
       "    </tr>\n",
       "    <tr>\n",
       "      <th>19</th>\n",
       "      <td>-1.040199</td>\n",
       "      <td>-0.065816</td>\n",
       "    </tr>\n",
       "    <tr>\n",
       "      <th>20</th>\n",
       "      <td>-0.907852</td>\n",
       "      <td>-0.245580</td>\n",
       "    </tr>\n",
       "    <tr>\n",
       "      <th>21</th>\n",
       "      <td>0.815393</td>\n",
       "      <td>0.662457</td>\n",
       "    </tr>\n",
       "    <tr>\n",
       "      <th>22</th>\n",
       "      <td>-1.048386</td>\n",
       "      <td>0.335195</td>\n",
       "    </tr>\n",
       "    <tr>\n",
       "      <th>23</th>\n",
       "      <td>0.250529</td>\n",
       "      <td>0.819174</td>\n",
       "    </tr>\n",
       "    <tr>\n",
       "      <th>24</th>\n",
       "      <td>1.541257</td>\n",
       "      <td>1.704165</td>\n",
       "    </tr>\n",
       "    <tr>\n",
       "      <th>25</th>\n",
       "      <td>1.541257</td>\n",
       "      <td>1.704165</td>\n",
       "    </tr>\n",
       "    <tr>\n",
       "      <th>26</th>\n",
       "      <td>1.541257</td>\n",
       "      <td>1.704165</td>\n",
       "    </tr>\n",
       "    <tr>\n",
       "      <th>27</th>\n",
       "      <td>-1.004725</td>\n",
       "      <td>0.869877</td>\n",
       "    </tr>\n",
       "    <tr>\n",
       "      <th>28</th>\n",
       "      <td>-0.845544</td>\n",
       "      <td>0.690113</td>\n",
       "    </tr>\n",
       "    <tr>\n",
       "      <th>29</th>\n",
       "      <td>-0.830991</td>\n",
       "      <td>0.167723</td>\n",
       "    </tr>\n",
       "    <tr>\n",
       "      <th>30</th>\n",
       "      <td>-1.040199</td>\n",
       "      <td>-0.065816</td>\n",
       "    </tr>\n",
       "    <tr>\n",
       "      <th>31</th>\n",
       "      <td>-1.495911</td>\n",
       "      <td>0.040198</td>\n",
       "    </tr>\n",
       "    <tr>\n",
       "      <th>32</th>\n",
       "      <td>-0.056463</td>\n",
       "      <td>-0.600498</td>\n",
       "    </tr>\n",
       "    <tr>\n",
       "      <th>33</th>\n",
       "      <td>1.425282</td>\n",
       "      <td>1.593541</td>\n",
       "    </tr>\n",
       "    <tr>\n",
       "      <th>34</th>\n",
       "      <td>-0.558564</td>\n",
       "      <td>0.150822</td>\n",
       "    </tr>\n",
       "    <tr>\n",
       "      <th>35</th>\n",
       "      <td>-0.995447</td>\n",
       "      <td>0.009777</td>\n",
       "    </tr>\n",
       "    <tr>\n",
       "      <th>36</th>\n",
       "      <td>1.171503</td>\n",
       "      <td>1.074992</td>\n",
       "    </tr>\n",
       "    <tr>\n",
       "      <th>37</th>\n",
       "      <td>0.722613</td>\n",
       "      <td>-0.038160</td>\n",
       "    </tr>\n",
       "    <tr>\n",
       "      <th>38</th>\n",
       "      <td>-1.495911</td>\n",
       "      <td>0.040198</td>\n",
       "    </tr>\n",
       "    <tr>\n",
       "      <th>39</th>\n",
       "      <td>-1.935250</td>\n",
       "      <td>-0.655810</td>\n",
       "    </tr>\n",
       "    <tr>\n",
       "      <th>40</th>\n",
       "      <td>0.373325</td>\n",
       "      <td>-0.923151</td>\n",
       "    </tr>\n",
       "    <tr>\n",
       "      <th>41</th>\n",
       "      <td>0.373325</td>\n",
       "      <td>-0.923151</td>\n",
       "    </tr>\n",
       "    <tr>\n",
       "      <th>42</th>\n",
       "      <td>-1.059847</td>\n",
       "      <td>-0.314720</td>\n",
       "    </tr>\n",
       "    <tr>\n",
       "      <th>43</th>\n",
       "      <td>0.373325</td>\n",
       "      <td>-0.923151</td>\n",
       "    </tr>\n",
       "    <tr>\n",
       "      <th>44</th>\n",
       "      <td>1.071901</td>\n",
       "      <td>0.846830</td>\n",
       "    </tr>\n",
       "    <tr>\n",
       "      <th>45</th>\n",
       "      <td>-1.495911</td>\n",
       "      <td>0.040198</td>\n",
       "    </tr>\n",
       "    <tr>\n",
       "      <th>46</th>\n",
       "      <td>-1.700572</td>\n",
       "      <td>1.842444</td>\n",
       "    </tr>\n",
       "    <tr>\n",
       "      <th>47</th>\n",
       "      <td>1.071901</td>\n",
       "      <td>0.846830</td>\n",
       "    </tr>\n",
       "    <tr>\n",
       "      <th>48</th>\n",
       "      <td>1.071901</td>\n",
       "      <td>0.846830</td>\n",
       "    </tr>\n",
       "    <tr>\n",
       "      <th>49</th>\n",
       "      <td>1.284748</td>\n",
       "      <td>1.436824</td>\n",
       "    </tr>\n",
       "  </tbody>\n",
       "</table>\n",
       "</div>"
      ],
      "text/plain": [
       "    y_valence  y_arousal\n",
       "0   -1.176640  -0.314720\n",
       "1   -0.780962  -0.789480\n",
       "2   -0.767318   0.911361\n",
       "3   -1.487725  -0.360813\n",
       "4    1.071901   0.846830\n",
       "5   -1.935250  -0.655810\n",
       "6    0.815393   0.662457\n",
       "7   -0.363454  -0.487569\n",
       "8    1.178325   1.183311\n",
       "9   -1.935250  -0.655810\n",
       "10  -0.431674   0.095510\n",
       "11  -0.639974   0.309076\n",
       "12   1.050071   1.049640\n",
       "13  -1.700572   1.842444\n",
       "14  -0.869194   0.508813\n",
       "15  -1.744233   1.335419\n",
       "16  -1.092047   0.019456\n",
       "17  -1.400403   1.538229\n",
       "18  -0.650889   0.149286\n",
       "19  -1.040199  -0.065816\n",
       "20  -0.907852  -0.245580\n",
       "21   0.815393   0.662457\n",
       "22  -1.048386   0.335195\n",
       "23   0.250529   0.819174\n",
       "24   1.541257   1.704165\n",
       "25   1.541257   1.704165\n",
       "26   1.541257   1.704165\n",
       "27  -1.004725   0.869877\n",
       "28  -0.845544   0.690113\n",
       "29  -0.830991   0.167723\n",
       "30  -1.040199  -0.065816\n",
       "31  -1.495911   0.040198\n",
       "32  -0.056463  -0.600498\n",
       "33   1.425282   1.593541\n",
       "34  -0.558564   0.150822\n",
       "35  -0.995447   0.009777\n",
       "36   1.171503   1.074992\n",
       "37   0.722613  -0.038160\n",
       "38  -1.495911   0.040198\n",
       "39  -1.935250  -0.655810\n",
       "40   0.373325  -0.923151\n",
       "41   0.373325  -0.923151\n",
       "42  -1.059847  -0.314720\n",
       "43   0.373325  -0.923151\n",
       "44   1.071901   0.846830\n",
       "45  -1.495911   0.040198\n",
       "46  -1.700572   1.842444\n",
       "47   1.071901   0.846830\n",
       "48   1.071901   0.846830\n",
       "49   1.284748   1.436824"
      ]
     },
     "execution_count": 94,
     "metadata": {},
     "output_type": "execute_result"
    }
   ],
   "source": [
    "data[['y_valence', 'y_arousal']][:50]"
   ]
  },
  {
   "cell_type": "code",
   "execution_count": 139,
   "metadata": {},
   "outputs": [],
   "source": [
    "polarity_list = []\n",
    "\n",
    "for i,song in enumerate(tester):\n",
    "    polarity_list.append(analyzer.polarity_scores(tester.iloc[i]))"
   ]
  },
  {
   "cell_type": "code",
   "execution_count": 140,
   "metadata": {},
   "outputs": [],
   "source": [
    "polarity_list_compound = []\n",
    "for dict in polarity_list:\n",
    "    polarity_list_compound.append(dict['pos'])"
   ]
  },
  {
   "cell_type": "code",
   "execution_count": 118,
   "metadata": {},
   "outputs": [],
   "source": [
    "import matplotlib.pyplot as plt \n",
    "%matplotlib inline\n",
    "import numpy as np"
   ]
  },
  {
   "cell_type": "code",
   "execution_count": 115,
   "metadata": {},
   "outputs": [
    {
     "data": {
      "text/plain": [
       "50"
      ]
     },
     "execution_count": 115,
     "metadata": {},
     "output_type": "execute_result"
    }
   ],
   "source": [
    "len(polarity_list_compound)"
   ]
  },
  {
   "cell_type": "code",
   "execution_count": null,
   "metadata": {},
   "outputs": [],
   "source": [
    "plt.scatter(np.array(data[['y_valence']][:100]), np.array(polarity_list_compound))"
   ]
  },
  {
   "cell_type": "code",
   "execution_count": 141,
   "metadata": {},
   "outputs": [
    {
     "data": {
      "text/plain": [
       "<matplotlib.collections.PathCollection at 0x7fdc0f281130>"
      ]
     },
     "execution_count": 141,
     "metadata": {},
     "output_type": "execute_result"
    },
    {
     "data": {
      "image/png": "[encoded data removed]",
      "text/plain": [
       "<Figure size 432x288 with 1 Axes>"
      ]
     },
     "metadata": {
      "needs_background": "light"
     },
     "output_type": "display_data"
    }
   ],
   "source": [
    "plt.scatter(np.array(data[['y_valence']][:100]), np.array(polarity_list_compound))"
   ]
  },
  {
   "cell_type": "code",
   "execution_count": 142,
   "metadata": {},
   "outputs": [],
   "source": [
    "mean_affect = []\n",
    "\n",
    "for i,song in enumerate(tester):\n",
    "    tokens = set(lemmatizer.lemmatize(word.lower()) for word in tester.iloc[i].split(' '))\n",
    "    affective_words = list(set(xanew.index).intersection(tokens))\n",
    "    mean_affect.append(xanew.loc[affective_words].mean())"
   ]
  },
  {
   "cell_type": "code",
   "execution_count": 143,
   "metadata": {},
   "outputs": [],
   "source": [
    "mean_affect_valence = []\n",
    "mean_affect_arousal = []\n",
    "for series in mean_affect:\n",
    "    #print(series)\n",
    "    mean_affect_valence.append(series['valence'])\n",
    "    mean_affect_arousal.append(series['arousal'])"
   ]
  },
  {
   "cell_type": "code",
   "execution_count": 145,
   "metadata": {},
   "outputs": [
    {
     "data": {
      "text/plain": [
       "<matplotlib.collections.PathCollection at 0x7fdc6c62d4c0>"
      ]
     },
     "execution_count": 145,
     "metadata": {},
     "output_type": "execute_result"
    },
    {
     "data": {
      "image/png": "[encoded data removed]",
      "text/plain": [
       "<Figure size 432x288 with 1 Axes>"
      ]
     },
     "metadata": {
      "needs_background": "light"
     },
     "output_type": "display_data"
    }
   ],
   "source": [
    "plt.scatter(np.array(data[['y_valence']][:100]), np.array(mean_affect_valence))"
   ]
  },
  {
   "cell_type": "code",
   "execution_count": 146,
   "metadata": {},
   "outputs": [
    {
     "data": {
      "text/plain": [
       "<matplotlib.collections.PathCollection at 0x7fdc59600430>"
      ]
     },
     "execution_count": 146,
     "metadata": {},
     "output_type": "execute_result"
    },
    {
     "data": {
      "image/png": "[encoded data removed]",
      "text/plain": [
       "<Figure size 432x288 with 1 Axes>"
      ]
     },
     "metadata": {
      "needs_background": "light"
     },
     "output_type": "display_data"
    }
   ],
   "source": [
    "plt.scatter(np.array(data[['y_arousal']][:100]), np.array(mean_affect_arousal))"
   ]
  },
  {
   "cell_type": "code",
   "execution_count": 1,
   "metadata": {},
   "outputs": [
    {
     "ename": "AttributeError",
     "evalue": "'LyricsTable' object has no attribute 'labels_train_ar'",
     "output_type": "error",
     "traceback": [
      "\u001b[0;31m---------------------------------------------------------------------------\u001b[0m",
      "\u001b[0;31mAttributeError\u001b[0m                            Traceback (most recent call last)",
      "\u001b[1;32m/Users/yananikolova/Documents/GitHub/CogSci2-Spotify/lyrics_model.ipynb Cell 74'\u001b[0m in \u001b[0;36m<cell line: 3>\u001b[0;34m()\u001b[0m\n\u001b[1;32m      <a href='vscode-notebook-cell:/Users/yananikolova/Documents/GitHub/CogSci2-Spotify/lyrics_model.ipynb#ch0000073?line=0'>1</a>\u001b[0m \u001b[39mfrom\u001b[39;00m \u001b[39mlyrics_features\u001b[39;00m \u001b[39mimport\u001b[39;00m LyricsTable\n\u001b[0;32m----> <a href='vscode-notebook-cell:/Users/yananikolova/Documents/GitHub/CogSci2-Spotify/lyrics_model.ipynb#ch0000073?line=2'>3</a>\u001b[0m LyricsTable(regressor \u001b[39m=\u001b[39;49m \u001b[39m'\u001b[39;49m\u001b[39mlinreg\u001b[39;49m\u001b[39m'\u001b[39;49m)\n",
      "File \u001b[0;32m~/Documents/GitHub/CogSci2-Spotify/lyrics_features.py:32\u001b[0m, in \u001b[0;36mLyricsTable.__init__\u001b[0;34m(self, regressor)\u001b[0m\n\u001b[1;32m     <a href='file:///Users/yananikolova/Documents/GitHub/CogSci2-Spotify/lyrics_features.py?line=28'>29</a>\u001b[0m     features_train \u001b[39m=\u001b[39m \u001b[39mself\u001b[39m\u001b[39m.\u001b[39mget_features(combo, \u001b[39mself\u001b[39m\u001b[39m.\u001b[39mfeatures_train)\n\u001b[1;32m     <a href='file:///Users/yananikolova/Documents/GitHub/CogSci2-Spotify/lyrics_features.py?line=29'>30</a>\u001b[0m     features_test \u001b[39m=\u001b[39m \u001b[39mself\u001b[39m\u001b[39m.\u001b[39mget_features(combo, \u001b[39mself\u001b[39m\u001b[39m.\u001b[39mfeatures_test)\n\u001b[0;32m---> <a href='file:///Users/yananikolova/Documents/GitHub/CogSci2-Spotify/lyrics_features.py?line=31'>32</a>\u001b[0m     \u001b[39mself\u001b[39m\u001b[39m.\u001b[39mresults[combo] \u001b[39m=\u001b[39m \u001b[39mself\u001b[39;49m\u001b[39m.\u001b[39;49mregression_r2(features_train, features_test)\n\u001b[1;32m     <a href='file:///Users/yananikolova/Documents/GitHub/CogSci2-Spotify/lyrics_features.py?line=33'>34</a>\u001b[0m \u001b[39mself\u001b[39m\u001b[39m.\u001b[39mgenerate_table(\u001b[39mself\u001b[39m\u001b[39m.\u001b[39mresults)\n",
      "File \u001b[0;32m~/Documents/GitHub/CogSci2-Spotify/lyrics_features.py:72\u001b[0m, in \u001b[0;36mLyricsTable.regression_r2\u001b[0;34m(self, train, test)\u001b[0m\n\u001b[1;32m     <a href='file:///Users/yananikolova/Documents/GitHub/CogSci2-Spotify/lyrics_features.py?line=68'>69</a>\u001b[0m r2_val \u001b[39m=\u001b[39m r2_score(\u001b[39mself\u001b[39m\u001b[39m.\u001b[39mlabels_test_v, prediction_val)\n\u001b[1;32m     <a href='file:///Users/yananikolova/Documents/GitHub/CogSci2-Spotify/lyrics_features.py?line=70'>71</a>\u001b[0m regr_ar \u001b[39m=\u001b[39m \u001b[39mself\u001b[39m\u001b[39m.\u001b[39minit_regr()\n\u001b[0;32m---> <a href='file:///Users/yananikolova/Documents/GitHub/CogSci2-Spotify/lyrics_features.py?line=71'>72</a>\u001b[0m regr_ar\u001b[39m.\u001b[39mfit(train, \u001b[39mself\u001b[39;49m\u001b[39m.\u001b[39;49mlabels_train_ar)\n\u001b[1;32m     <a href='file:///Users/yananikolova/Documents/GitHub/CogSci2-Spotify/lyrics_features.py?line=72'>73</a>\u001b[0m prediction_ar \u001b[39m=\u001b[39m regr_ar\u001b[39m.\u001b[39mpredict(test)\n\u001b[1;32m     <a href='file:///Users/yananikolova/Documents/GitHub/CogSci2-Spotify/lyrics_features.py?line=73'>74</a>\u001b[0m r2_ar \u001b[39m=\u001b[39m r2_score(\u001b[39mself\u001b[39m\u001b[39m.\u001b[39mlabels_test_ar, prediction_ar)\n",
      "\u001b[0;31mAttributeError\u001b[0m: 'LyricsTable' object has no attribute 'labels_train_ar'"
     ]
    }
   ],
   "source": [
    "from lyrics_features import LyricsTable\n",
    "\n",
    "LyricsTable(regressor = 'linreg')"
   ]
  },
  {
   "cell_type": "code",
   "execution_count": 76,
   "metadata": {},
   "outputs": [],
   "source": []
  },
  {
   "cell_type": "code",
   "execution_count": 136,
   "metadata": {},
   "outputs": [],
   "source": [
    "features_index = ['pos', 'neg', 'neu', 'compound']\n",
    "\n",
    "for i in range(1,151):\n",
    "    features_index.append(f'tfidf_pca_{i}')\n",
    "for n in range(151, 351):\n",
    "    features_index.append(f'anew_pca_{n}')\n",
    "\n"
   ]
  },
  {
   "cell_type": "code",
   "execution_count": 137,
   "metadata": {},
   "outputs": [
    {
     "data": {
      "text/plain": [
       "354"
      ]
     },
     "execution_count": 137,
     "metadata": {},
     "output_type": "execute_result"
    }
   ],
   "source": [
    "len(features_index)\n",
    "\n"
   ]
  },
  {
   "cell_type": "code",
   "execution_count": 142,
   "metadata": {},
   "outputs": [],
   "source": [
    "lyrics_test = pd.read_csv('lyrics_features_val.csv',delimiter = ',')\n",
    "lyrics_test.columns = features_index\n",
    "lyrics_test.to_csv('lyrics_features_val.csv', sep = ',')\n"
   ]
  },
  {
   "cell_type": "code",
   "execution_count": 4,
   "metadata": {},
   "outputs": [],
   "source": [
    "lyrics_train = pd.read_csv('lyrics_features_train.csv',delimiter = ',')\n",
    "lyrics_test = pd.read_csv('lyrics_features_test.csv',delimiter = ',')\n",
    "lyrics_val = pd.read_csv('lyrics_features_val.csv',delimiter = ',')\n",
    "\n",
    "data = pd.read_csv('merged_cleaned_sentiment_train.csv', delimiter = ',')\n",
    "data_val = pd.read_csv('merged_cleaned_sentiment_validation.csv', delimiter = ',')\n",
    "data_test = pd.read_csv('merged_cleaned_sentiment_test.csv', delimiter = ',')\n",
    "\n",
    "\n",
    "data = pd.concat([data, pd.get_dummies(data.key, drop_first = True, prefix = 'key')], axis=1)\n",
    "data_val = pd.concat([data_val, pd.get_dummies(data_val.key, drop_first = True, prefix = 'key')], axis=1)\n",
    "data_test = pd.concat([data_test, pd.get_dummies(data_test.key, drop_first = True, prefix = 'key')], axis=1)\n",
    "\n",
    "data_multi = pd.concat([data, lyrics_train], axis = 1).dropna(axis = 0)\n",
    "data_multi_val = pd.concat([data_val, lyrics_val], axis = 1).dropna(axis = 0)\n",
    "data_multi_test = pd.concat([data_test, lyrics_test], axis = 1).dropna(axis = 0)\n",
    "\n",
    "data_labels = data_multi[['y_valence', 'y_arousal']]\n",
    "data_labels_val = data_multi_val[['y_valence', 'y_arousal']]\n",
    "data_labels_test = data_multi_test[['y_valence', 'y_arousal']]\n",
    "\n",
    "data_multi = data_multi.drop(columns = ['Unnamed: 0', 'artist', 'trackname', 'id', 'lyrics','lyrics_cleaned', 'neg', 'neu', 'pos', 'compound' ,'y_valence', 'y_arousal'])\n",
    "data_multi_val = data_multi_val.drop(columns = ['Unnamed: 0', 'artist', 'trackname', 'id', 'lyrics','lyrics_cleaned', 'neg', 'neu', 'pos', 'compound', 'y_valence', 'y_arousal'])\n",
    "data_multi_test = data_multi_test.drop(columns = ['Unnamed: 0', 'artist', 'trackname', 'id', 'lyrics','lyrics_cleaned', 'neg', 'neu', 'pos', 'compound', 'y_valence', 'y_arousal'])\n",
    "\n",
    "X_train = data_multi.to_numpy().astype(np.float32)\n",
    "X_test = data_multi_test.to_numpy().astype(np.float32)\n",
    "X_val = data_multi_val.to_numpy().astype(np.float32)\n",
    "y_train = data_labels.to_numpy().astype(np.float32)\n",
    "y_test = data_labels_test.to_numpy().astype(np.float32)\n",
    "y_val = data_labels_val.to_numpy().astype(np.float32)\n",
    "\n",
    "\n"
   ]
  },
  {
   "cell_type": "code",
   "execution_count": 246,
   "metadata": {},
   "outputs": [
    {
     "name": "stdout",
     "output_type": "stream",
     "text": [
      "(2557, 373) (2557, 2)\n"
     ]
    }
   ],
   "source": [
    "print(X_val.shape, y_val.shape)"
   ]
  },
  {
   "cell_type": "code",
   "execution_count": 253,
   "metadata": {},
   "outputs": [
    {
     "name": "stdout",
     "output_type": "stream",
     "text": [
      "0.8390774465212252\n",
      "0.16792596949038385\n"
     ]
    }
   ],
   "source": [
    "from sklearn.linear_model import LinearRegression\n",
    "from sklearn.metrics import mean_squared_error\n",
    "from sklearn.metrics import r2_score\n",
    "scaler = MinMaxScaler()\n",
    "X_train_norm = scaler.fit_transform(X_train)\n",
    "X_test_norm = scaler.fit_transform(X_test)\n",
    "\n",
    "reg = LinearRegression(positive= True)\n",
    "reg.fit(X_train, y_train)\n",
    "prediction = reg.predict(X_test)\n",
    "print(mean_squared_error(y_test, prediction))\n",
    "print(r2_score(y_test, prediction))"
   ]
  },
  {
   "cell_type": "code",
   "execution_count": 7,
   "metadata": {},
   "outputs": [],
   "source": [
    "from lyrics_features import LyricsTable\n",
    "\n",
    "l = LyricsTable(regressor = 'linreg', testset = None, params = [True])"
   ]
  },
  {
   "cell_type": "code",
   "execution_count": 10,
   "metadata": {},
   "outputs": [
    {
     "name": "stdout",
     "output_type": "stream",
     "text": [
      "Model: linreg\t\t\t\t R^2\n",
      "Features\t\tValence\tArousal\n"
     ]
    }
   ],
   "source": [
    "l.features_train = X_train\n",
    "l.features_test = X_test\n",
    "l.labels_train_a = y_train[:,1]\n",
    "l.labels_train_v = y_train[:,0]\n",
    "l.labels_test_a = y_test[:,1]\n",
    "l.labels_test_v = y_test[:,0]\n",
    "l.create_table()"
   ]
  },
  {
   "cell_type": "code",
   "execution_count": 237,
   "metadata": {},
   "outputs": [
    {
     "name": "stdout",
     "output_type": "stream",
     "text": [
      "0.88061607\n",
      "0.1205184828229886\n"
     ]
    }
   ],
   "source": [
    "from sklearn.neural_network import MLPRegressor\n",
    "from sklearn.preprocessing import MinMaxScaler\n",
    "scaler = MinMaxScaler()\n",
    "X_train_norm = scaler.fit_transform(X_train)\n",
    "X_test_norm = scaler.fit_transform(X_test)\n",
    "\n",
    "\n",
    "regr = MLPRegressor(hidden_layer_sizes=(15,15,15), max_iter=1000, random_state = 2)\n",
    "regr.fit(X_train_norm, y_train)\n",
    "prediction = regr.predict(X_test_norm)\n",
    "print(mean_squared_error(y_test, prediction))\n",
    "print(r2_score(y_val, prediction))"
   ]
  },
  {
   "cell_type": "code",
   "execution_count": 234,
   "metadata": {},
   "outputs": [
    {
     "data": {
      "text/plain": [
       "GridSearchCV(estimator=MLPRegressor(random_state=2),\n",
       "             param_grid={'hidden_layer_sizes': [5, 10, 15, (5, 5), (10, 10),\n",
       "                                                (15, 15), (5, 5, 5),\n",
       "                                                (10, 10, 10), (15, 15, 15)],\n",
       "                         'max_iter': [500, 1000, 2000, 2500]})"
      ]
     },
     "execution_count": 234,
     "metadata": {},
     "output_type": "execute_result"
    }
   ],
   "source": [
    "from sklearn.model_selection import GridSearchCV\n",
    "\n",
    "parameters = {'hidden_layer_sizes':[(5), (10), (15), (5,5), (10,10), (15,15), (5,5,5), (10,10,10), (15,15,15)], \n",
    "'max_iter':[500, 1000, 2000, 2500]}\n",
    "\n",
    "mlp = MLPRegressor(random_state=2)\n",
    "clf = GridSearchCV(mlp, parameters)\n",
    "clf.fit(X_train_norm, y_train)"
   ]
  },
  {
   "cell_type": "code",
   "execution_count": 235,
   "metadata": {},
   "outputs": [
    {
     "data": {
      "text/plain": [
       "{'hidden_layer_sizes': (15, 15, 15), 'max_iter': 1000}"
      ]
     },
     "execution_count": 235,
     "metadata": {},
     "output_type": "execute_result"
    }
   ],
   "source": [
    "np.argmax(clf.cv_results_['mean_test_score'])\n",
    "\n",
    "clf.cv_results_['params'][33]"
   ]
  },
  {
   "cell_type": "code",
   "execution_count": 188,
   "metadata": {},
   "outputs": [
    {
     "name": "stdout",
     "output_type": "stream",
     "text": [
      "1.0284960503008473\n",
      "0.09149912630243617\n"
     ]
    }
   ],
   "source": [
    "from sklearn.svm import SVR \n",
    "scaler = MinMaxScaler()\n",
    "X_train_norm = scaler.fit_transform(X_train)\n",
    "X_test_norm = scaler.fit_transform(X_test)\n",
    "\n",
    "svr = SVR()\n",
    "svr.fit(X_train_norm, y_train[:,0])\n",
    "prediction = svr.predict(X_test_norm)\n",
    "print(mean_squared_error(y_test[:,0], prediction))\n",
    "print(r2_score(y_test[:,0], prediction))"
   ]
  },
  {
   "cell_type": "code",
   "execution_count": null,
   "metadata": {},
   "outputs": [],
   "source": []
  }
 ],
 "metadata": {
  "interpreter": {
   "hash": "ae83aaff4c47202ead0cb5b0cfe74444d437ac818c9c2cd6826845dc75a11708"
  },
  "kernelspec": {
   "display_name": "Python 3.9.7 ('base')",
   "language": "python",
   "name": "python3"
  },
  "language_info": {
   "codemirror_mode": {
    "name": "ipython",
    "version": 3
   },
   "file_extension": ".py",
   "mimetype": "text/x-python",
   "name": "python",
   "nbconvert_exporter": "python",
   "pygments_lexer": "ipython3",
   "version": "3.9.7"
  },
  "orig_nbformat": 4
 },
 "nbformat": 4,
 "nbformat_minor": 2
}
